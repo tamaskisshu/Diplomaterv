{
  "nbformat": 4,
  "nbformat_minor": 0,
  "metadata": {
    "accelerator": "GPU",
    "colab": {
      "name": "Copy of UDA_CL.ipynb",
      "provenance": [],
      "machine_shape": "hm"
    },
    "kernelspec": {
      "display_name": "Python 3",
      "language": "python",
      "name": "python3"
    },
    "language_info": {
      "codemirror_mode": {
        "name": "ipython",
        "version": 3
      },
      "file_extension": ".py",
      "mimetype": "text/x-python",
      "name": "python",
      "nbconvert_exporter": "python",
      "pygments_lexer": "ipython3",
      "version": "3.6.9"
    },
    "widgets": {
      "application/vnd.jupyter.widget-state+json": {
        "7eb58fd003044b49b111eb817f2c3118": {
          "model_module": "@jupyter-widgets/controls",
          "model_name": "HBoxModel",
          "state": {
            "_dom_classes": [],
            "_model_module": "@jupyter-widgets/controls",
            "_model_module_version": "1.5.0",
            "_model_name": "HBoxModel",
            "_view_count": null,
            "_view_module": "@jupyter-widgets/controls",
            "_view_module_version": "1.5.0",
            "_view_name": "HBoxView",
            "box_style": "",
            "children": [
              "IPY_MODEL_852c589abe9647828ba854fe23b54188",
              "IPY_MODEL_e6c7df5fe4354031918f73f2234476c2"
            ],
            "layout": "IPY_MODEL_dbf4142852bd4546a597466b40377196"
          }
        },
        "dbf4142852bd4546a597466b40377196": {
          "model_module": "@jupyter-widgets/base",
          "model_name": "LayoutModel",
          "state": {
            "_model_module": "@jupyter-widgets/base",
            "_model_module_version": "1.2.0",
            "_model_name": "LayoutModel",
            "_view_count": null,
            "_view_module": "@jupyter-widgets/base",
            "_view_module_version": "1.2.0",
            "_view_name": "LayoutView",
            "align_content": null,
            "align_items": null,
            "align_self": null,
            "border": null,
            "bottom": null,
            "display": null,
            "flex": null,
            "flex_flow": null,
            "grid_area": null,
            "grid_auto_columns": null,
            "grid_auto_flow": null,
            "grid_auto_rows": null,
            "grid_column": null,
            "grid_gap": null,
            "grid_row": null,
            "grid_template_areas": null,
            "grid_template_columns": null,
            "grid_template_rows": null,
            "height": null,
            "justify_content": null,
            "justify_items": null,
            "left": null,
            "margin": null,
            "max_height": null,
            "max_width": null,
            "min_height": null,
            "min_width": null,
            "object_fit": null,
            "object_position": null,
            "order": null,
            "overflow": null,
            "overflow_x": null,
            "overflow_y": null,
            "padding": null,
            "right": null,
            "top": null,
            "visibility": null,
            "width": null
          }
        },
        "852c589abe9647828ba854fe23b54188": {
          "model_module": "@jupyter-widgets/controls",
          "model_name": "IntProgressModel",
          "state": {
            "_dom_classes": [],
            "_model_module": "@jupyter-widgets/controls",
            "_model_module_version": "1.5.0",
            "_model_name": "IntProgressModel",
            "_view_count": null,
            "_view_module": "@jupyter-widgets/controls",
            "_view_module_version": "1.5.0",
            "_view_name": "ProgressView",
            "bar_style": "success",
            "description": "",
            "description_tooltip": null,
            "layout": "IPY_MODEL_c74e3186cf9c4fefa604cfe217604dc0",
            "max": 695,
            "min": 0,
            "orientation": "horizontal",
            "style": "IPY_MODEL_512dcd8652d4460d85dac8fdc6988e01",
            "value": 695
          }
        },
        "e6c7df5fe4354031918f73f2234476c2": {
          "model_module": "@jupyter-widgets/controls",
          "model_name": "HTMLModel",
          "state": {
            "_dom_classes": [],
            "_model_module": "@jupyter-widgets/controls",
            "_model_module_version": "1.5.0",
            "_model_name": "HTMLModel",
            "_view_count": null,
            "_view_module": "@jupyter-widgets/controls",
            "_view_module_version": "1.5.0",
            "_view_name": "HTMLView",
            "description": "",
            "description_tooltip": null,
            "layout": "IPY_MODEL_593ef2c0af6548d4b25a83a1fcfd31e9",
            "placeholder": "​",
            "style": "IPY_MODEL_48b9469bd39b43e2a5df8bb075a074e7",
            "value": "100% 695/695 [04:16&lt;00:00,  2.84it/s]"
          }
        },
        "512dcd8652d4460d85dac8fdc6988e01": {
          "model_module": "@jupyter-widgets/controls",
          "model_name": "ProgressStyleModel",
          "state": {
            "_model_module": "@jupyter-widgets/controls",
            "_model_module_version": "1.5.0",
            "_model_name": "ProgressStyleModel",
            "_view_count": null,
            "_view_module": "@jupyter-widgets/base",
            "_view_module_version": "1.2.0",
            "_view_name": "StyleView",
            "bar_color": null,
            "description_width": ""
          }
        },
        "c74e3186cf9c4fefa604cfe217604dc0": {
          "model_module": "@jupyter-widgets/base",
          "model_name": "LayoutModel",
          "state": {
            "_model_module": "@jupyter-widgets/base",
            "_model_module_version": "1.2.0",
            "_model_name": "LayoutModel",
            "_view_count": null,
            "_view_module": "@jupyter-widgets/base",
            "_view_module_version": "1.2.0",
            "_view_name": "LayoutView",
            "align_content": null,
            "align_items": null,
            "align_self": null,
            "border": null,
            "bottom": null,
            "display": null,
            "flex": null,
            "flex_flow": null,
            "grid_area": null,
            "grid_auto_columns": null,
            "grid_auto_flow": null,
            "grid_auto_rows": null,
            "grid_column": null,
            "grid_gap": null,
            "grid_row": null,
            "grid_template_areas": null,
            "grid_template_columns": null,
            "grid_template_rows": null,
            "height": null,
            "justify_content": null,
            "justify_items": null,
            "left": null,
            "margin": null,
            "max_height": null,
            "max_width": null,
            "min_height": null,
            "min_width": null,
            "object_fit": null,
            "object_position": null,
            "order": null,
            "overflow": null,
            "overflow_x": null,
            "overflow_y": null,
            "padding": null,
            "right": null,
            "top": null,
            "visibility": null,
            "width": null
          }
        },
        "48b9469bd39b43e2a5df8bb075a074e7": {
          "model_module": "@jupyter-widgets/controls",
          "model_name": "DescriptionStyleModel",
          "state": {
            "_model_module": "@jupyter-widgets/controls",
            "_model_module_version": "1.5.0",
            "_model_name": "DescriptionStyleModel",
            "_view_count": null,
            "_view_module": "@jupyter-widgets/base",
            "_view_module_version": "1.2.0",
            "_view_name": "StyleView",
            "description_width": ""
          }
        },
        "593ef2c0af6548d4b25a83a1fcfd31e9": {
          "model_module": "@jupyter-widgets/base",
          "model_name": "LayoutModel",
          "state": {
            "_model_module": "@jupyter-widgets/base",
            "_model_module_version": "1.2.0",
            "_model_name": "LayoutModel",
            "_view_count": null,
            "_view_module": "@jupyter-widgets/base",
            "_view_module_version": "1.2.0",
            "_view_name": "LayoutView",
            "align_content": null,
            "align_items": null,
            "align_self": null,
            "border": null,
            "bottom": null,
            "display": null,
            "flex": null,
            "flex_flow": null,
            "grid_area": null,
            "grid_auto_columns": null,
            "grid_auto_flow": null,
            "grid_auto_rows": null,
            "grid_column": null,
            "grid_gap": null,
            "grid_row": null,
            "grid_template_areas": null,
            "grid_template_columns": null,
            "grid_template_rows": null,
            "height": null,
            "justify_content": null,
            "justify_items": null,
            "left": null,
            "margin": null,
            "max_height": null,
            "max_width": null,
            "min_height": null,
            "min_width": null,
            "object_fit": null,
            "object_position": null,
            "order": null,
            "overflow": null,
            "overflow_x": null,
            "overflow_y": null,
            "padding": null,
            "right": null,
            "top": null,
            "visibility": null,
            "width": null
          }
        },
        "ab1debd44d104e94a188f8882ad77bde": {
          "model_module": "@jupyter-widgets/controls",
          "model_name": "HBoxModel",
          "state": {
            "_dom_classes": [],
            "_model_module": "@jupyter-widgets/controls",
            "_model_module_version": "1.5.0",
            "_model_name": "HBoxModel",
            "_view_count": null,
            "_view_module": "@jupyter-widgets/controls",
            "_view_module_version": "1.5.0",
            "_view_name": "HBoxView",
            "box_style": "",
            "children": [
              "IPY_MODEL_e86a2ffe370045179e02ea28397884f2",
              "IPY_MODEL_de45767fb6b542c4b72245d71ba4992e"
            ],
            "layout": "IPY_MODEL_7b4c458c8eb24a93b027ddb2b775f1cf"
          }
        },
        "7b4c458c8eb24a93b027ddb2b775f1cf": {
          "model_module": "@jupyter-widgets/base",
          "model_name": "LayoutModel",
          "state": {
            "_model_module": "@jupyter-widgets/base",
            "_model_module_version": "1.2.0",
            "_model_name": "LayoutModel",
            "_view_count": null,
            "_view_module": "@jupyter-widgets/base",
            "_view_module_version": "1.2.0",
            "_view_name": "LayoutView",
            "align_content": null,
            "align_items": null,
            "align_self": null,
            "border": null,
            "bottom": null,
            "display": null,
            "flex": null,
            "flex_flow": null,
            "grid_area": null,
            "grid_auto_columns": null,
            "grid_auto_flow": null,
            "grid_auto_rows": null,
            "grid_column": null,
            "grid_gap": null,
            "grid_row": null,
            "grid_template_areas": null,
            "grid_template_columns": null,
            "grid_template_rows": null,
            "height": null,
            "justify_content": null,
            "justify_items": null,
            "left": null,
            "margin": null,
            "max_height": null,
            "max_width": null,
            "min_height": null,
            "min_width": null,
            "object_fit": null,
            "object_position": null,
            "order": null,
            "overflow": null,
            "overflow_x": null,
            "overflow_y": null,
            "padding": null,
            "right": null,
            "top": null,
            "visibility": null,
            "width": null
          }
        },
        "e86a2ffe370045179e02ea28397884f2": {
          "model_module": "@jupyter-widgets/controls",
          "model_name": "IntProgressModel",
          "state": {
            "_dom_classes": [],
            "_model_module": "@jupyter-widgets/controls",
            "_model_module_version": "1.5.0",
            "_model_name": "IntProgressModel",
            "_view_count": null,
            "_view_module": "@jupyter-widgets/controls",
            "_view_module_version": "1.5.0",
            "_view_name": "ProgressView",
            "bar_style": "success",
            "description": "",
            "description_tooltip": null,
            "layout": "IPY_MODEL_3f68e02d89604aafa812b9d774dd272f",
            "max": 695,
            "min": 0,
            "orientation": "horizontal",
            "style": "IPY_MODEL_496f180d724043f3a33e998281b87785",
            "value": 695
          }
        },
        "de45767fb6b542c4b72245d71ba4992e": {
          "model_module": "@jupyter-widgets/controls",
          "model_name": "HTMLModel",
          "state": {
            "_dom_classes": [],
            "_model_module": "@jupyter-widgets/controls",
            "_model_module_version": "1.5.0",
            "_model_name": "HTMLModel",
            "_view_count": null,
            "_view_module": "@jupyter-widgets/controls",
            "_view_module_version": "1.5.0",
            "_view_name": "HTMLView",
            "description": "",
            "description_tooltip": null,
            "layout": "IPY_MODEL_f142a237a3d6487fa9181a8547059ed6",
            "placeholder": "​",
            "style": "IPY_MODEL_81c0459c028d4e8cb0cf8beec791804f",
            "value": "100% 695/695 [04:15&lt;00:00,  3.02it/s]"
          }
        },
        "496f180d724043f3a33e998281b87785": {
          "model_module": "@jupyter-widgets/controls",
          "model_name": "ProgressStyleModel",
          "state": {
            "_model_module": "@jupyter-widgets/controls",
            "_model_module_version": "1.5.0",
            "_model_name": "ProgressStyleModel",
            "_view_count": null,
            "_view_module": "@jupyter-widgets/base",
            "_view_module_version": "1.2.0",
            "_view_name": "StyleView",
            "bar_color": null,
            "description_width": ""
          }
        },
        "3f68e02d89604aafa812b9d774dd272f": {
          "model_module": "@jupyter-widgets/base",
          "model_name": "LayoutModel",
          "state": {
            "_model_module": "@jupyter-widgets/base",
            "_model_module_version": "1.2.0",
            "_model_name": "LayoutModel",
            "_view_count": null,
            "_view_module": "@jupyter-widgets/base",
            "_view_module_version": "1.2.0",
            "_view_name": "LayoutView",
            "align_content": null,
            "align_items": null,
            "align_self": null,
            "border": null,
            "bottom": null,
            "display": null,
            "flex": null,
            "flex_flow": null,
            "grid_area": null,
            "grid_auto_columns": null,
            "grid_auto_flow": null,
            "grid_auto_rows": null,
            "grid_column": null,
            "grid_gap": null,
            "grid_row": null,
            "grid_template_areas": null,
            "grid_template_columns": null,
            "grid_template_rows": null,
            "height": null,
            "justify_content": null,
            "justify_items": null,
            "left": null,
            "margin": null,
            "max_height": null,
            "max_width": null,
            "min_height": null,
            "min_width": null,
            "object_fit": null,
            "object_position": null,
            "order": null,
            "overflow": null,
            "overflow_x": null,
            "overflow_y": null,
            "padding": null,
            "right": null,
            "top": null,
            "visibility": null,
            "width": null
          }
        },
        "81c0459c028d4e8cb0cf8beec791804f": {
          "model_module": "@jupyter-widgets/controls",
          "model_name": "DescriptionStyleModel",
          "state": {
            "_model_module": "@jupyter-widgets/controls",
            "_model_module_version": "1.5.0",
            "_model_name": "DescriptionStyleModel",
            "_view_count": null,
            "_view_module": "@jupyter-widgets/base",
            "_view_module_version": "1.2.0",
            "_view_name": "StyleView",
            "description_width": ""
          }
        },
        "f142a237a3d6487fa9181a8547059ed6": {
          "model_module": "@jupyter-widgets/base",
          "model_name": "LayoutModel",
          "state": {
            "_model_module": "@jupyter-widgets/base",
            "_model_module_version": "1.2.0",
            "_model_name": "LayoutModel",
            "_view_count": null,
            "_view_module": "@jupyter-widgets/base",
            "_view_module_version": "1.2.0",
            "_view_name": "LayoutView",
            "align_content": null,
            "align_items": null,
            "align_self": null,
            "border": null,
            "bottom": null,
            "display": null,
            "flex": null,
            "flex_flow": null,
            "grid_area": null,
            "grid_auto_columns": null,
            "grid_auto_flow": null,
            "grid_auto_rows": null,
            "grid_column": null,
            "grid_gap": null,
            "grid_row": null,
            "grid_template_areas": null,
            "grid_template_columns": null,
            "grid_template_rows": null,
            "height": null,
            "justify_content": null,
            "justify_items": null,
            "left": null,
            "margin": null,
            "max_height": null,
            "max_width": null,
            "min_height": null,
            "min_width": null,
            "object_fit": null,
            "object_position": null,
            "order": null,
            "overflow": null,
            "overflow_x": null,
            "overflow_y": null,
            "padding": null,
            "right": null,
            "top": null,
            "visibility": null,
            "width": null
          }
        },
        "1fca48fb39a94c19b3f8b0c393d0aa89": {
          "model_module": "@jupyter-widgets/controls",
          "model_name": "HBoxModel",
          "state": {
            "_dom_classes": [],
            "_model_module": "@jupyter-widgets/controls",
            "_model_module_version": "1.5.0",
            "_model_name": "HBoxModel",
            "_view_count": null,
            "_view_module": "@jupyter-widgets/controls",
            "_view_module_version": "1.5.0",
            "_view_name": "HBoxView",
            "box_style": "",
            "children": [
              "IPY_MODEL_0f2bbc8da0724d3eb2223e3d90aedde6",
              "IPY_MODEL_6a5cd3bf1ad74c93bec2bf8152c39f68"
            ],
            "layout": "IPY_MODEL_a3dd1c564bb84299b0d7017e4c6aeeff"
          }
        },
        "a3dd1c564bb84299b0d7017e4c6aeeff": {
          "model_module": "@jupyter-widgets/base",
          "model_name": "LayoutModel",
          "state": {
            "_model_module": "@jupyter-widgets/base",
            "_model_module_version": "1.2.0",
            "_model_name": "LayoutModel",
            "_view_count": null,
            "_view_module": "@jupyter-widgets/base",
            "_view_module_version": "1.2.0",
            "_view_name": "LayoutView",
            "align_content": null,
            "align_items": null,
            "align_self": null,
            "border": null,
            "bottom": null,
            "display": null,
            "flex": null,
            "flex_flow": null,
            "grid_area": null,
            "grid_auto_columns": null,
            "grid_auto_flow": null,
            "grid_auto_rows": null,
            "grid_column": null,
            "grid_gap": null,
            "grid_row": null,
            "grid_template_areas": null,
            "grid_template_columns": null,
            "grid_template_rows": null,
            "height": null,
            "justify_content": null,
            "justify_items": null,
            "left": null,
            "margin": null,
            "max_height": null,
            "max_width": null,
            "min_height": null,
            "min_width": null,
            "object_fit": null,
            "object_position": null,
            "order": null,
            "overflow": null,
            "overflow_x": null,
            "overflow_y": null,
            "padding": null,
            "right": null,
            "top": null,
            "visibility": null,
            "width": null
          }
        },
        "0f2bbc8da0724d3eb2223e3d90aedde6": {
          "model_module": "@jupyter-widgets/controls",
          "model_name": "IntProgressModel",
          "state": {
            "_dom_classes": [],
            "_model_module": "@jupyter-widgets/controls",
            "_model_module_version": "1.5.0",
            "_model_name": "IntProgressModel",
            "_view_count": null,
            "_view_module": "@jupyter-widgets/controls",
            "_view_module_version": "1.5.0",
            "_view_name": "ProgressView",
            "bar_style": "success",
            "description": "",
            "description_tooltip": null,
            "layout": "IPY_MODEL_f0dec57dc68242bf997779431249b83e",
            "max": 695,
            "min": 0,
            "orientation": "horizontal",
            "style": "IPY_MODEL_d7bcad8452e64f748b386cb0165e891b",
            "value": 695
          }
        },
        "6a5cd3bf1ad74c93bec2bf8152c39f68": {
          "model_module": "@jupyter-widgets/controls",
          "model_name": "HTMLModel",
          "state": {
            "_dom_classes": [],
            "_model_module": "@jupyter-widgets/controls",
            "_model_module_version": "1.5.0",
            "_model_name": "HTMLModel",
            "_view_count": null,
            "_view_module": "@jupyter-widgets/controls",
            "_view_module_version": "1.5.0",
            "_view_name": "HTMLView",
            "description": "",
            "description_tooltip": null,
            "layout": "IPY_MODEL_536426a41c104b8bb7c7232c554d15a1",
            "placeholder": "​",
            "style": "IPY_MODEL_b23aff600bc746b19f2882e271c4b47e",
            "value": "100% 695/695 [04:11&lt;00:00,  3.12it/s]"
          }
        },
        "d7bcad8452e64f748b386cb0165e891b": {
          "model_module": "@jupyter-widgets/controls",
          "model_name": "ProgressStyleModel",
          "state": {
            "_model_module": "@jupyter-widgets/controls",
            "_model_module_version": "1.5.0",
            "_model_name": "ProgressStyleModel",
            "_view_count": null,
            "_view_module": "@jupyter-widgets/base",
            "_view_module_version": "1.2.0",
            "_view_name": "StyleView",
            "bar_color": null,
            "description_width": ""
          }
        },
        "f0dec57dc68242bf997779431249b83e": {
          "model_module": "@jupyter-widgets/base",
          "model_name": "LayoutModel",
          "state": {
            "_model_module": "@jupyter-widgets/base",
            "_model_module_version": "1.2.0",
            "_model_name": "LayoutModel",
            "_view_count": null,
            "_view_module": "@jupyter-widgets/base",
            "_view_module_version": "1.2.0",
            "_view_name": "LayoutView",
            "align_content": null,
            "align_items": null,
            "align_self": null,
            "border": null,
            "bottom": null,
            "display": null,
            "flex": null,
            "flex_flow": null,
            "grid_area": null,
            "grid_auto_columns": null,
            "grid_auto_flow": null,
            "grid_auto_rows": null,
            "grid_column": null,
            "grid_gap": null,
            "grid_row": null,
            "grid_template_areas": null,
            "grid_template_columns": null,
            "grid_template_rows": null,
            "height": null,
            "justify_content": null,
            "justify_items": null,
            "left": null,
            "margin": null,
            "max_height": null,
            "max_width": null,
            "min_height": null,
            "min_width": null,
            "object_fit": null,
            "object_position": null,
            "order": null,
            "overflow": null,
            "overflow_x": null,
            "overflow_y": null,
            "padding": null,
            "right": null,
            "top": null,
            "visibility": null,
            "width": null
          }
        },
        "b23aff600bc746b19f2882e271c4b47e": {
          "model_module": "@jupyter-widgets/controls",
          "model_name": "DescriptionStyleModel",
          "state": {
            "_model_module": "@jupyter-widgets/controls",
            "_model_module_version": "1.5.0",
            "_model_name": "DescriptionStyleModel",
            "_view_count": null,
            "_view_module": "@jupyter-widgets/base",
            "_view_module_version": "1.2.0",
            "_view_name": "StyleView",
            "description_width": ""
          }
        },
        "536426a41c104b8bb7c7232c554d15a1": {
          "model_module": "@jupyter-widgets/base",
          "model_name": "LayoutModel",
          "state": {
            "_model_module": "@jupyter-widgets/base",
            "_model_module_version": "1.2.0",
            "_model_name": "LayoutModel",
            "_view_count": null,
            "_view_module": "@jupyter-widgets/base",
            "_view_module_version": "1.2.0",
            "_view_name": "LayoutView",
            "align_content": null,
            "align_items": null,
            "align_self": null,
            "border": null,
            "bottom": null,
            "display": null,
            "flex": null,
            "flex_flow": null,
            "grid_area": null,
            "grid_auto_columns": null,
            "grid_auto_flow": null,
            "grid_auto_rows": null,
            "grid_column": null,
            "grid_gap": null,
            "grid_row": null,
            "grid_template_areas": null,
            "grid_template_columns": null,
            "grid_template_rows": null,
            "height": null,
            "justify_content": null,
            "justify_items": null,
            "left": null,
            "margin": null,
            "max_height": null,
            "max_width": null,
            "min_height": null,
            "min_width": null,
            "object_fit": null,
            "object_position": null,
            "order": null,
            "overflow": null,
            "overflow_x": null,
            "overflow_y": null,
            "padding": null,
            "right": null,
            "top": null,
            "visibility": null,
            "width": null
          }
        },
        "43957f82395147e9afbb9173b3ba18e1": {
          "model_module": "@jupyter-widgets/controls",
          "model_name": "HBoxModel",
          "state": {
            "_dom_classes": [],
            "_model_module": "@jupyter-widgets/controls",
            "_model_module_version": "1.5.0",
            "_model_name": "HBoxModel",
            "_view_count": null,
            "_view_module": "@jupyter-widgets/controls",
            "_view_module_version": "1.5.0",
            "_view_name": "HBoxView",
            "box_style": "",
            "children": [
              "IPY_MODEL_2caa56ff6bd644f68f944de46fc64a73",
              "IPY_MODEL_a411acf8f8ee44429838035a93f7f818"
            ],
            "layout": "IPY_MODEL_5a1b7024e8574badb26739b767433989"
          }
        },
        "5a1b7024e8574badb26739b767433989": {
          "model_module": "@jupyter-widgets/base",
          "model_name": "LayoutModel",
          "state": {
            "_model_module": "@jupyter-widgets/base",
            "_model_module_version": "1.2.0",
            "_model_name": "LayoutModel",
            "_view_count": null,
            "_view_module": "@jupyter-widgets/base",
            "_view_module_version": "1.2.0",
            "_view_name": "LayoutView",
            "align_content": null,
            "align_items": null,
            "align_self": null,
            "border": null,
            "bottom": null,
            "display": null,
            "flex": null,
            "flex_flow": null,
            "grid_area": null,
            "grid_auto_columns": null,
            "grid_auto_flow": null,
            "grid_auto_rows": null,
            "grid_column": null,
            "grid_gap": null,
            "grid_row": null,
            "grid_template_areas": null,
            "grid_template_columns": null,
            "grid_template_rows": null,
            "height": null,
            "justify_content": null,
            "justify_items": null,
            "left": null,
            "margin": null,
            "max_height": null,
            "max_width": null,
            "min_height": null,
            "min_width": null,
            "object_fit": null,
            "object_position": null,
            "order": null,
            "overflow": null,
            "overflow_x": null,
            "overflow_y": null,
            "padding": null,
            "right": null,
            "top": null,
            "visibility": null,
            "width": null
          }
        },
        "2caa56ff6bd644f68f944de46fc64a73": {
          "model_module": "@jupyter-widgets/controls",
          "model_name": "IntProgressModel",
          "state": {
            "_dom_classes": [],
            "_model_module": "@jupyter-widgets/controls",
            "_model_module_version": "1.5.0",
            "_model_name": "IntProgressModel",
            "_view_count": null,
            "_view_module": "@jupyter-widgets/controls",
            "_view_module_version": "1.5.0",
            "_view_name": "ProgressView",
            "bar_style": "success",
            "description": "",
            "description_tooltip": null,
            "layout": "IPY_MODEL_a23aa055c2324f30b20870aae6a9ba2d",
            "max": 695,
            "min": 0,
            "orientation": "horizontal",
            "style": "IPY_MODEL_39bf339fb0454ae68aa86698a506c4b8",
            "value": 695
          }
        },
        "a411acf8f8ee44429838035a93f7f818": {
          "model_module": "@jupyter-widgets/controls",
          "model_name": "HTMLModel",
          "state": {
            "_dom_classes": [],
            "_model_module": "@jupyter-widgets/controls",
            "_model_module_version": "1.5.0",
            "_model_name": "HTMLModel",
            "_view_count": null,
            "_view_module": "@jupyter-widgets/controls",
            "_view_module_version": "1.5.0",
            "_view_name": "HTMLView",
            "description": "",
            "description_tooltip": null,
            "layout": "IPY_MODEL_82da21c538e74299b53a4836b9e00c1c",
            "placeholder": "​",
            "style": "IPY_MODEL_0e00e56bf022425ab6327078a063ca8c",
            "value": "100% 695/695 [04:17&lt;00:00,  3.04it/s]"
          }
        },
        "39bf339fb0454ae68aa86698a506c4b8": {
          "model_module": "@jupyter-widgets/controls",
          "model_name": "ProgressStyleModel",
          "state": {
            "_model_module": "@jupyter-widgets/controls",
            "_model_module_version": "1.5.0",
            "_model_name": "ProgressStyleModel",
            "_view_count": null,
            "_view_module": "@jupyter-widgets/base",
            "_view_module_version": "1.2.0",
            "_view_name": "StyleView",
            "bar_color": null,
            "description_width": ""
          }
        },
        "a23aa055c2324f30b20870aae6a9ba2d": {
          "model_module": "@jupyter-widgets/base",
          "model_name": "LayoutModel",
          "state": {
            "_model_module": "@jupyter-widgets/base",
            "_model_module_version": "1.2.0",
            "_model_name": "LayoutModel",
            "_view_count": null,
            "_view_module": "@jupyter-widgets/base",
            "_view_module_version": "1.2.0",
            "_view_name": "LayoutView",
            "align_content": null,
            "align_items": null,
            "align_self": null,
            "border": null,
            "bottom": null,
            "display": null,
            "flex": null,
            "flex_flow": null,
            "grid_area": null,
            "grid_auto_columns": null,
            "grid_auto_flow": null,
            "grid_auto_rows": null,
            "grid_column": null,
            "grid_gap": null,
            "grid_row": null,
            "grid_template_areas": null,
            "grid_template_columns": null,
            "grid_template_rows": null,
            "height": null,
            "justify_content": null,
            "justify_items": null,
            "left": null,
            "margin": null,
            "max_height": null,
            "max_width": null,
            "min_height": null,
            "min_width": null,
            "object_fit": null,
            "object_position": null,
            "order": null,
            "overflow": null,
            "overflow_x": null,
            "overflow_y": null,
            "padding": null,
            "right": null,
            "top": null,
            "visibility": null,
            "width": null
          }
        },
        "0e00e56bf022425ab6327078a063ca8c": {
          "model_module": "@jupyter-widgets/controls",
          "model_name": "DescriptionStyleModel",
          "state": {
            "_model_module": "@jupyter-widgets/controls",
            "_model_module_version": "1.5.0",
            "_model_name": "DescriptionStyleModel",
            "_view_count": null,
            "_view_module": "@jupyter-widgets/base",
            "_view_module_version": "1.2.0",
            "_view_name": "StyleView",
            "description_width": ""
          }
        },
        "82da21c538e74299b53a4836b9e00c1c": {
          "model_module": "@jupyter-widgets/base",
          "model_name": "LayoutModel",
          "state": {
            "_model_module": "@jupyter-widgets/base",
            "_model_module_version": "1.2.0",
            "_model_name": "LayoutModel",
            "_view_count": null,
            "_view_module": "@jupyter-widgets/base",
            "_view_module_version": "1.2.0",
            "_view_name": "LayoutView",
            "align_content": null,
            "align_items": null,
            "align_self": null,
            "border": null,
            "bottom": null,
            "display": null,
            "flex": null,
            "flex_flow": null,
            "grid_area": null,
            "grid_auto_columns": null,
            "grid_auto_flow": null,
            "grid_auto_rows": null,
            "grid_column": null,
            "grid_gap": null,
            "grid_row": null,
            "grid_template_areas": null,
            "grid_template_columns": null,
            "grid_template_rows": null,
            "height": null,
            "justify_content": null,
            "justify_items": null,
            "left": null,
            "margin": null,
            "max_height": null,
            "max_width": null,
            "min_height": null,
            "min_width": null,
            "object_fit": null,
            "object_position": null,
            "order": null,
            "overflow": null,
            "overflow_x": null,
            "overflow_y": null,
            "padding": null,
            "right": null,
            "top": null,
            "visibility": null,
            "width": null
          }
        },
        "b7ed2793acdf4118aa308f7caeca3381": {
          "model_module": "@jupyter-widgets/controls",
          "model_name": "HBoxModel",
          "state": {
            "_dom_classes": [],
            "_model_module": "@jupyter-widgets/controls",
            "_model_module_version": "1.5.0",
            "_model_name": "HBoxModel",
            "_view_count": null,
            "_view_module": "@jupyter-widgets/controls",
            "_view_module_version": "1.5.0",
            "_view_name": "HBoxView",
            "box_style": "",
            "children": [
              "IPY_MODEL_2994323dbd8c4c199e3c6b53ea5578fd",
              "IPY_MODEL_4390f590e3054851832d7994ed5a5b6e"
            ],
            "layout": "IPY_MODEL_35ae22213e3c4c7e8d495e4228004162"
          }
        },
        "35ae22213e3c4c7e8d495e4228004162": {
          "model_module": "@jupyter-widgets/base",
          "model_name": "LayoutModel",
          "state": {
            "_model_module": "@jupyter-widgets/base",
            "_model_module_version": "1.2.0",
            "_model_name": "LayoutModel",
            "_view_count": null,
            "_view_module": "@jupyter-widgets/base",
            "_view_module_version": "1.2.0",
            "_view_name": "LayoutView",
            "align_content": null,
            "align_items": null,
            "align_self": null,
            "border": null,
            "bottom": null,
            "display": null,
            "flex": null,
            "flex_flow": null,
            "grid_area": null,
            "grid_auto_columns": null,
            "grid_auto_flow": null,
            "grid_auto_rows": null,
            "grid_column": null,
            "grid_gap": null,
            "grid_row": null,
            "grid_template_areas": null,
            "grid_template_columns": null,
            "grid_template_rows": null,
            "height": null,
            "justify_content": null,
            "justify_items": null,
            "left": null,
            "margin": null,
            "max_height": null,
            "max_width": null,
            "min_height": null,
            "min_width": null,
            "object_fit": null,
            "object_position": null,
            "order": null,
            "overflow": null,
            "overflow_x": null,
            "overflow_y": null,
            "padding": null,
            "right": null,
            "top": null,
            "visibility": null,
            "width": null
          }
        },
        "2994323dbd8c4c199e3c6b53ea5578fd": {
          "model_module": "@jupyter-widgets/controls",
          "model_name": "IntProgressModel",
          "state": {
            "_dom_classes": [],
            "_model_module": "@jupyter-widgets/controls",
            "_model_module_version": "1.5.0",
            "_model_name": "IntProgressModel",
            "_view_count": null,
            "_view_module": "@jupyter-widgets/controls",
            "_view_module_version": "1.5.0",
            "_view_name": "ProgressView",
            "bar_style": "success",
            "description": "",
            "description_tooltip": null,
            "layout": "IPY_MODEL_30565784760f48ef8e0befb9b48c20e4",
            "max": 695,
            "min": 0,
            "orientation": "horizontal",
            "style": "IPY_MODEL_6984f03e600c498c9f6cd7b84aa901d9",
            "value": 695
          }
        },
        "4390f590e3054851832d7994ed5a5b6e": {
          "model_module": "@jupyter-widgets/controls",
          "model_name": "HTMLModel",
          "state": {
            "_dom_classes": [],
            "_model_module": "@jupyter-widgets/controls",
            "_model_module_version": "1.5.0",
            "_model_name": "HTMLModel",
            "_view_count": null,
            "_view_module": "@jupyter-widgets/controls",
            "_view_module_version": "1.5.0",
            "_view_name": "HTMLView",
            "description": "",
            "description_tooltip": null,
            "layout": "IPY_MODEL_ebcd50d4e8f74df3abcb679d6b9b64b6",
            "placeholder": "​",
            "style": "IPY_MODEL_ac415f74f7d2411aa0a82a7f99cad8cc",
            "value": "100% 695/695 [04:06&lt;00:00,  3.06it/s]"
          }
        },
        "6984f03e600c498c9f6cd7b84aa901d9": {
          "model_module": "@jupyter-widgets/controls",
          "model_name": "ProgressStyleModel",
          "state": {
            "_model_module": "@jupyter-widgets/controls",
            "_model_module_version": "1.5.0",
            "_model_name": "ProgressStyleModel",
            "_view_count": null,
            "_view_module": "@jupyter-widgets/base",
            "_view_module_version": "1.2.0",
            "_view_name": "StyleView",
            "bar_color": null,
            "description_width": ""
          }
        },
        "30565784760f48ef8e0befb9b48c20e4": {
          "model_module": "@jupyter-widgets/base",
          "model_name": "LayoutModel",
          "state": {
            "_model_module": "@jupyter-widgets/base",
            "_model_module_version": "1.2.0",
            "_model_name": "LayoutModel",
            "_view_count": null,
            "_view_module": "@jupyter-widgets/base",
            "_view_module_version": "1.2.0",
            "_view_name": "LayoutView",
            "align_content": null,
            "align_items": null,
            "align_self": null,
            "border": null,
            "bottom": null,
            "display": null,
            "flex": null,
            "flex_flow": null,
            "grid_area": null,
            "grid_auto_columns": null,
            "grid_auto_flow": null,
            "grid_auto_rows": null,
            "grid_column": null,
            "grid_gap": null,
            "grid_row": null,
            "grid_template_areas": null,
            "grid_template_columns": null,
            "grid_template_rows": null,
            "height": null,
            "justify_content": null,
            "justify_items": null,
            "left": null,
            "margin": null,
            "max_height": null,
            "max_width": null,
            "min_height": null,
            "min_width": null,
            "object_fit": null,
            "object_position": null,
            "order": null,
            "overflow": null,
            "overflow_x": null,
            "overflow_y": null,
            "padding": null,
            "right": null,
            "top": null,
            "visibility": null,
            "width": null
          }
        },
        "ac415f74f7d2411aa0a82a7f99cad8cc": {
          "model_module": "@jupyter-widgets/controls",
          "model_name": "DescriptionStyleModel",
          "state": {
            "_model_module": "@jupyter-widgets/controls",
            "_model_module_version": "1.5.0",
            "_model_name": "DescriptionStyleModel",
            "_view_count": null,
            "_view_module": "@jupyter-widgets/base",
            "_view_module_version": "1.2.0",
            "_view_name": "StyleView",
            "description_width": ""
          }
        },
        "ebcd50d4e8f74df3abcb679d6b9b64b6": {
          "model_module": "@jupyter-widgets/base",
          "model_name": "LayoutModel",
          "state": {
            "_model_module": "@jupyter-widgets/base",
            "_model_module_version": "1.2.0",
            "_model_name": "LayoutModel",
            "_view_count": null,
            "_view_module": "@jupyter-widgets/base",
            "_view_module_version": "1.2.0",
            "_view_name": "LayoutView",
            "align_content": null,
            "align_items": null,
            "align_self": null,
            "border": null,
            "bottom": null,
            "display": null,
            "flex": null,
            "flex_flow": null,
            "grid_area": null,
            "grid_auto_columns": null,
            "grid_auto_flow": null,
            "grid_auto_rows": null,
            "grid_column": null,
            "grid_gap": null,
            "grid_row": null,
            "grid_template_areas": null,
            "grid_template_columns": null,
            "grid_template_rows": null,
            "height": null,
            "justify_content": null,
            "justify_items": null,
            "left": null,
            "margin": null,
            "max_height": null,
            "max_width": null,
            "min_height": null,
            "min_width": null,
            "object_fit": null,
            "object_position": null,
            "order": null,
            "overflow": null,
            "overflow_x": null,
            "overflow_y": null,
            "padding": null,
            "right": null,
            "top": null,
            "visibility": null,
            "width": null
          }
        },
        "9e14b8bce14d4d6aae16b505a88261bd": {
          "model_module": "@jupyter-widgets/controls",
          "model_name": "HBoxModel",
          "state": {
            "_dom_classes": [],
            "_model_module": "@jupyter-widgets/controls",
            "_model_module_version": "1.5.0",
            "_model_name": "HBoxModel",
            "_view_count": null,
            "_view_module": "@jupyter-widgets/controls",
            "_view_module_version": "1.5.0",
            "_view_name": "HBoxView",
            "box_style": "",
            "children": [
              "IPY_MODEL_a422a40a0d7c42b4b67b06f608dde273",
              "IPY_MODEL_0ddb30acd0fa4f6caf18b08be0ff1f24"
            ],
            "layout": "IPY_MODEL_0df26787281a4a99b589c7156bdf1c1a"
          }
        },
        "0df26787281a4a99b589c7156bdf1c1a": {
          "model_module": "@jupyter-widgets/base",
          "model_name": "LayoutModel",
          "state": {
            "_model_module": "@jupyter-widgets/base",
            "_model_module_version": "1.2.0",
            "_model_name": "LayoutModel",
            "_view_count": null,
            "_view_module": "@jupyter-widgets/base",
            "_view_module_version": "1.2.0",
            "_view_name": "LayoutView",
            "align_content": null,
            "align_items": null,
            "align_self": null,
            "border": null,
            "bottom": null,
            "display": null,
            "flex": null,
            "flex_flow": null,
            "grid_area": null,
            "grid_auto_columns": null,
            "grid_auto_flow": null,
            "grid_auto_rows": null,
            "grid_column": null,
            "grid_gap": null,
            "grid_row": null,
            "grid_template_areas": null,
            "grid_template_columns": null,
            "grid_template_rows": null,
            "height": null,
            "justify_content": null,
            "justify_items": null,
            "left": null,
            "margin": null,
            "max_height": null,
            "max_width": null,
            "min_height": null,
            "min_width": null,
            "object_fit": null,
            "object_position": null,
            "order": null,
            "overflow": null,
            "overflow_x": null,
            "overflow_y": null,
            "padding": null,
            "right": null,
            "top": null,
            "visibility": null,
            "width": null
          }
        },
        "a422a40a0d7c42b4b67b06f608dde273": {
          "model_module": "@jupyter-widgets/controls",
          "model_name": "IntProgressModel",
          "state": {
            "_dom_classes": [],
            "_model_module": "@jupyter-widgets/controls",
            "_model_module_version": "1.5.0",
            "_model_name": "IntProgressModel",
            "_view_count": null,
            "_view_module": "@jupyter-widgets/controls",
            "_view_module_version": "1.5.0",
            "_view_name": "ProgressView",
            "bar_style": "success",
            "description": "",
            "description_tooltip": null,
            "layout": "IPY_MODEL_e0dfd9d3d2724316abdc399a75ed6f79",
            "max": 695,
            "min": 0,
            "orientation": "horizontal",
            "style": "IPY_MODEL_448ce2e006a246b4ab48bb42a5fd1bfe",
            "value": 695
          }
        },
        "0ddb30acd0fa4f6caf18b08be0ff1f24": {
          "model_module": "@jupyter-widgets/controls",
          "model_name": "HTMLModel",
          "state": {
            "_dom_classes": [],
            "_model_module": "@jupyter-widgets/controls",
            "_model_module_version": "1.5.0",
            "_model_name": "HTMLModel",
            "_view_count": null,
            "_view_module": "@jupyter-widgets/controls",
            "_view_module_version": "1.5.0",
            "_view_name": "HTMLView",
            "description": "",
            "description_tooltip": null,
            "layout": "IPY_MODEL_e885cec6c2b44a2a8a2f62054fb02c08",
            "placeholder": "​",
            "style": "IPY_MODEL_6ae3baf7010a433daee827630d34ce63",
            "value": "100% 695/695 [04:05&lt;00:00,  3.11it/s]"
          }
        },
        "448ce2e006a246b4ab48bb42a5fd1bfe": {
          "model_module": "@jupyter-widgets/controls",
          "model_name": "ProgressStyleModel",
          "state": {
            "_model_module": "@jupyter-widgets/controls",
            "_model_module_version": "1.5.0",
            "_model_name": "ProgressStyleModel",
            "_view_count": null,
            "_view_module": "@jupyter-widgets/base",
            "_view_module_version": "1.2.0",
            "_view_name": "StyleView",
            "bar_color": null,
            "description_width": ""
          }
        },
        "e0dfd9d3d2724316abdc399a75ed6f79": {
          "model_module": "@jupyter-widgets/base",
          "model_name": "LayoutModel",
          "state": {
            "_model_module": "@jupyter-widgets/base",
            "_model_module_version": "1.2.0",
            "_model_name": "LayoutModel",
            "_view_count": null,
            "_view_module": "@jupyter-widgets/base",
            "_view_module_version": "1.2.0",
            "_view_name": "LayoutView",
            "align_content": null,
            "align_items": null,
            "align_self": null,
            "border": null,
            "bottom": null,
            "display": null,
            "flex": null,
            "flex_flow": null,
            "grid_area": null,
            "grid_auto_columns": null,
            "grid_auto_flow": null,
            "grid_auto_rows": null,
            "grid_column": null,
            "grid_gap": null,
            "grid_row": null,
            "grid_template_areas": null,
            "grid_template_columns": null,
            "grid_template_rows": null,
            "height": null,
            "justify_content": null,
            "justify_items": null,
            "left": null,
            "margin": null,
            "max_height": null,
            "max_width": null,
            "min_height": null,
            "min_width": null,
            "object_fit": null,
            "object_position": null,
            "order": null,
            "overflow": null,
            "overflow_x": null,
            "overflow_y": null,
            "padding": null,
            "right": null,
            "top": null,
            "visibility": null,
            "width": null
          }
        },
        "6ae3baf7010a433daee827630d34ce63": {
          "model_module": "@jupyter-widgets/controls",
          "model_name": "DescriptionStyleModel",
          "state": {
            "_model_module": "@jupyter-widgets/controls",
            "_model_module_version": "1.5.0",
            "_model_name": "DescriptionStyleModel",
            "_view_count": null,
            "_view_module": "@jupyter-widgets/base",
            "_view_module_version": "1.2.0",
            "_view_name": "StyleView",
            "description_width": ""
          }
        },
        "e885cec6c2b44a2a8a2f62054fb02c08": {
          "model_module": "@jupyter-widgets/base",
          "model_name": "LayoutModel",
          "state": {
            "_model_module": "@jupyter-widgets/base",
            "_model_module_version": "1.2.0",
            "_model_name": "LayoutModel",
            "_view_count": null,
            "_view_module": "@jupyter-widgets/base",
            "_view_module_version": "1.2.0",
            "_view_name": "LayoutView",
            "align_content": null,
            "align_items": null,
            "align_self": null,
            "border": null,
            "bottom": null,
            "display": null,
            "flex": null,
            "flex_flow": null,
            "grid_area": null,
            "grid_auto_columns": null,
            "grid_auto_flow": null,
            "grid_auto_rows": null,
            "grid_column": null,
            "grid_gap": null,
            "grid_row": null,
            "grid_template_areas": null,
            "grid_template_columns": null,
            "grid_template_rows": null,
            "height": null,
            "justify_content": null,
            "justify_items": null,
            "left": null,
            "margin": null,
            "max_height": null,
            "max_width": null,
            "min_height": null,
            "min_width": null,
            "object_fit": null,
            "object_position": null,
            "order": null,
            "overflow": null,
            "overflow_x": null,
            "overflow_y": null,
            "padding": null,
            "right": null,
            "top": null,
            "visibility": null,
            "width": null
          }
        },
        "efbfdfdfc7154f7eafff04c6fa3cfdf4": {
          "model_module": "@jupyter-widgets/controls",
          "model_name": "HBoxModel",
          "state": {
            "_dom_classes": [],
            "_model_module": "@jupyter-widgets/controls",
            "_model_module_version": "1.5.0",
            "_model_name": "HBoxModel",
            "_view_count": null,
            "_view_module": "@jupyter-widgets/controls",
            "_view_module_version": "1.5.0",
            "_view_name": "HBoxView",
            "box_style": "",
            "children": [
              "IPY_MODEL_ce85d19f63784c1d8868f8fa23a0b129",
              "IPY_MODEL_cd2a6059d8c8406cbd7c432513a2e083"
            ],
            "layout": "IPY_MODEL_9eddfc845df24764a5924fec0436f676"
          }
        },
        "9eddfc845df24764a5924fec0436f676": {
          "model_module": "@jupyter-widgets/base",
          "model_name": "LayoutModel",
          "state": {
            "_model_module": "@jupyter-widgets/base",
            "_model_module_version": "1.2.0",
            "_model_name": "LayoutModel",
            "_view_count": null,
            "_view_module": "@jupyter-widgets/base",
            "_view_module_version": "1.2.0",
            "_view_name": "LayoutView",
            "align_content": null,
            "align_items": null,
            "align_self": null,
            "border": null,
            "bottom": null,
            "display": null,
            "flex": null,
            "flex_flow": null,
            "grid_area": null,
            "grid_auto_columns": null,
            "grid_auto_flow": null,
            "grid_auto_rows": null,
            "grid_column": null,
            "grid_gap": null,
            "grid_row": null,
            "grid_template_areas": null,
            "grid_template_columns": null,
            "grid_template_rows": null,
            "height": null,
            "justify_content": null,
            "justify_items": null,
            "left": null,
            "margin": null,
            "max_height": null,
            "max_width": null,
            "min_height": null,
            "min_width": null,
            "object_fit": null,
            "object_position": null,
            "order": null,
            "overflow": null,
            "overflow_x": null,
            "overflow_y": null,
            "padding": null,
            "right": null,
            "top": null,
            "visibility": null,
            "width": null
          }
        },
        "ce85d19f63784c1d8868f8fa23a0b129": {
          "model_module": "@jupyter-widgets/controls",
          "model_name": "IntProgressModel",
          "state": {
            "_dom_classes": [],
            "_model_module": "@jupyter-widgets/controls",
            "_model_module_version": "1.5.0",
            "_model_name": "IntProgressModel",
            "_view_count": null,
            "_view_module": "@jupyter-widgets/controls",
            "_view_module_version": "1.5.0",
            "_view_name": "ProgressView",
            "bar_style": "success",
            "description": "",
            "description_tooltip": null,
            "layout": "IPY_MODEL_c514a25f3d3d4e9aba76dd839d833d7a",
            "max": 695,
            "min": 0,
            "orientation": "horizontal",
            "style": "IPY_MODEL_e068ddefd871498593e8cb0130ad4e38",
            "value": 695
          }
        },
        "cd2a6059d8c8406cbd7c432513a2e083": {
          "model_module": "@jupyter-widgets/controls",
          "model_name": "HTMLModel",
          "state": {
            "_dom_classes": [],
            "_model_module": "@jupyter-widgets/controls",
            "_model_module_version": "1.5.0",
            "_model_name": "HTMLModel",
            "_view_count": null,
            "_view_module": "@jupyter-widgets/controls",
            "_view_module_version": "1.5.0",
            "_view_name": "HTMLView",
            "description": "",
            "description_tooltip": null,
            "layout": "IPY_MODEL_83d8e196eacc4a3a81ad295ec95eb240",
            "placeholder": "​",
            "style": "IPY_MODEL_2992717f2e73494c9b10f86d91dfaa8d",
            "value": "100% 695/695 [04:03&lt;00:00,  3.10it/s]"
          }
        },
        "e068ddefd871498593e8cb0130ad4e38": {
          "model_module": "@jupyter-widgets/controls",
          "model_name": "ProgressStyleModel",
          "state": {
            "_model_module": "@jupyter-widgets/controls",
            "_model_module_version": "1.5.0",
            "_model_name": "ProgressStyleModel",
            "_view_count": null,
            "_view_module": "@jupyter-widgets/base",
            "_view_module_version": "1.2.0",
            "_view_name": "StyleView",
            "bar_color": null,
            "description_width": ""
          }
        },
        "c514a25f3d3d4e9aba76dd839d833d7a": {
          "model_module": "@jupyter-widgets/base",
          "model_name": "LayoutModel",
          "state": {
            "_model_module": "@jupyter-widgets/base",
            "_model_module_version": "1.2.0",
            "_model_name": "LayoutModel",
            "_view_count": null,
            "_view_module": "@jupyter-widgets/base",
            "_view_module_version": "1.2.0",
            "_view_name": "LayoutView",
            "align_content": null,
            "align_items": null,
            "align_self": null,
            "border": null,
            "bottom": null,
            "display": null,
            "flex": null,
            "flex_flow": null,
            "grid_area": null,
            "grid_auto_columns": null,
            "grid_auto_flow": null,
            "grid_auto_rows": null,
            "grid_column": null,
            "grid_gap": null,
            "grid_row": null,
            "grid_template_areas": null,
            "grid_template_columns": null,
            "grid_template_rows": null,
            "height": null,
            "justify_content": null,
            "justify_items": null,
            "left": null,
            "margin": null,
            "max_height": null,
            "max_width": null,
            "min_height": null,
            "min_width": null,
            "object_fit": null,
            "object_position": null,
            "order": null,
            "overflow": null,
            "overflow_x": null,
            "overflow_y": null,
            "padding": null,
            "right": null,
            "top": null,
            "visibility": null,
            "width": null
          }
        },
        "2992717f2e73494c9b10f86d91dfaa8d": {
          "model_module": "@jupyter-widgets/controls",
          "model_name": "DescriptionStyleModel",
          "state": {
            "_model_module": "@jupyter-widgets/controls",
            "_model_module_version": "1.5.0",
            "_model_name": "DescriptionStyleModel",
            "_view_count": null,
            "_view_module": "@jupyter-widgets/base",
            "_view_module_version": "1.2.0",
            "_view_name": "StyleView",
            "description_width": ""
          }
        },
        "83d8e196eacc4a3a81ad295ec95eb240": {
          "model_module": "@jupyter-widgets/base",
          "model_name": "LayoutModel",
          "state": {
            "_model_module": "@jupyter-widgets/base",
            "_model_module_version": "1.2.0",
            "_model_name": "LayoutModel",
            "_view_count": null,
            "_view_module": "@jupyter-widgets/base",
            "_view_module_version": "1.2.0",
            "_view_name": "LayoutView",
            "align_content": null,
            "align_items": null,
            "align_self": null,
            "border": null,
            "bottom": null,
            "display": null,
            "flex": null,
            "flex_flow": null,
            "grid_area": null,
            "grid_auto_columns": null,
            "grid_auto_flow": null,
            "grid_auto_rows": null,
            "grid_column": null,
            "grid_gap": null,
            "grid_row": null,
            "grid_template_areas": null,
            "grid_template_columns": null,
            "grid_template_rows": null,
            "height": null,
            "justify_content": null,
            "justify_items": null,
            "left": null,
            "margin": null,
            "max_height": null,
            "max_width": null,
            "min_height": null,
            "min_width": null,
            "object_fit": null,
            "object_position": null,
            "order": null,
            "overflow": null,
            "overflow_x": null,
            "overflow_y": null,
            "padding": null,
            "right": null,
            "top": null,
            "visibility": null,
            "width": null
          }
        },
        "258e2ee7d684467faed42d55dfd2bd69": {
          "model_module": "@jupyter-widgets/controls",
          "model_name": "HBoxModel",
          "state": {
            "_dom_classes": [],
            "_model_module": "@jupyter-widgets/controls",
            "_model_module_version": "1.5.0",
            "_model_name": "HBoxModel",
            "_view_count": null,
            "_view_module": "@jupyter-widgets/controls",
            "_view_module_version": "1.5.0",
            "_view_name": "HBoxView",
            "box_style": "",
            "children": [
              "IPY_MODEL_4e8ce45f3ef2447f8ba0247e0c8c0684",
              "IPY_MODEL_4461e87c21e0422897d9799c84fba11e"
            ],
            "layout": "IPY_MODEL_0bd1d861414045c98199d2bc0bdc9218"
          }
        },
        "0bd1d861414045c98199d2bc0bdc9218": {
          "model_module": "@jupyter-widgets/base",
          "model_name": "LayoutModel",
          "state": {
            "_model_module": "@jupyter-widgets/base",
            "_model_module_version": "1.2.0",
            "_model_name": "LayoutModel",
            "_view_count": null,
            "_view_module": "@jupyter-widgets/base",
            "_view_module_version": "1.2.0",
            "_view_name": "LayoutView",
            "align_content": null,
            "align_items": null,
            "align_self": null,
            "border": null,
            "bottom": null,
            "display": null,
            "flex": null,
            "flex_flow": null,
            "grid_area": null,
            "grid_auto_columns": null,
            "grid_auto_flow": null,
            "grid_auto_rows": null,
            "grid_column": null,
            "grid_gap": null,
            "grid_row": null,
            "grid_template_areas": null,
            "grid_template_columns": null,
            "grid_template_rows": null,
            "height": null,
            "justify_content": null,
            "justify_items": null,
            "left": null,
            "margin": null,
            "max_height": null,
            "max_width": null,
            "min_height": null,
            "min_width": null,
            "object_fit": null,
            "object_position": null,
            "order": null,
            "overflow": null,
            "overflow_x": null,
            "overflow_y": null,
            "padding": null,
            "right": null,
            "top": null,
            "visibility": null,
            "width": null
          }
        },
        "4e8ce45f3ef2447f8ba0247e0c8c0684": {
          "model_module": "@jupyter-widgets/controls",
          "model_name": "IntProgressModel",
          "state": {
            "_dom_classes": [],
            "_model_module": "@jupyter-widgets/controls",
            "_model_module_version": "1.5.0",
            "_model_name": "IntProgressModel",
            "_view_count": null,
            "_view_module": "@jupyter-widgets/controls",
            "_view_module_version": "1.5.0",
            "_view_name": "ProgressView",
            "bar_style": "success",
            "description": "",
            "description_tooltip": null,
            "layout": "IPY_MODEL_415758b3006c4846b2ca16e13937c4e9",
            "max": 695,
            "min": 0,
            "orientation": "horizontal",
            "style": "IPY_MODEL_64b0d2e254444552962cbc82c2b915b8",
            "value": 695
          }
        },
        "4461e87c21e0422897d9799c84fba11e": {
          "model_module": "@jupyter-widgets/controls",
          "model_name": "HTMLModel",
          "state": {
            "_dom_classes": [],
            "_model_module": "@jupyter-widgets/controls",
            "_model_module_version": "1.5.0",
            "_model_name": "HTMLModel",
            "_view_count": null,
            "_view_module": "@jupyter-widgets/controls",
            "_view_module_version": "1.5.0",
            "_view_name": "HTMLView",
            "description": "",
            "description_tooltip": null,
            "layout": "IPY_MODEL_6f5e096c4ec343a5821f70a7da685fe5",
            "placeholder": "​",
            "style": "IPY_MODEL_53b507c094b64d1d83877eadcefa3eed",
            "value": "100% 695/695 [04:04&lt;00:00,  3.11it/s]"
          }
        },
        "64b0d2e254444552962cbc82c2b915b8": {
          "model_module": "@jupyter-widgets/controls",
          "model_name": "ProgressStyleModel",
          "state": {
            "_model_module": "@jupyter-widgets/controls",
            "_model_module_version": "1.5.0",
            "_model_name": "ProgressStyleModel",
            "_view_count": null,
            "_view_module": "@jupyter-widgets/base",
            "_view_module_version": "1.2.0",
            "_view_name": "StyleView",
            "bar_color": null,
            "description_width": ""
          }
        },
        "415758b3006c4846b2ca16e13937c4e9": {
          "model_module": "@jupyter-widgets/base",
          "model_name": "LayoutModel",
          "state": {
            "_model_module": "@jupyter-widgets/base",
            "_model_module_version": "1.2.0",
            "_model_name": "LayoutModel",
            "_view_count": null,
            "_view_module": "@jupyter-widgets/base",
            "_view_module_version": "1.2.0",
            "_view_name": "LayoutView",
            "align_content": null,
            "align_items": null,
            "align_self": null,
            "border": null,
            "bottom": null,
            "display": null,
            "flex": null,
            "flex_flow": null,
            "grid_area": null,
            "grid_auto_columns": null,
            "grid_auto_flow": null,
            "grid_auto_rows": null,
            "grid_column": null,
            "grid_gap": null,
            "grid_row": null,
            "grid_template_areas": null,
            "grid_template_columns": null,
            "grid_template_rows": null,
            "height": null,
            "justify_content": null,
            "justify_items": null,
            "left": null,
            "margin": null,
            "max_height": null,
            "max_width": null,
            "min_height": null,
            "min_width": null,
            "object_fit": null,
            "object_position": null,
            "order": null,
            "overflow": null,
            "overflow_x": null,
            "overflow_y": null,
            "padding": null,
            "right": null,
            "top": null,
            "visibility": null,
            "width": null
          }
        },
        "53b507c094b64d1d83877eadcefa3eed": {
          "model_module": "@jupyter-widgets/controls",
          "model_name": "DescriptionStyleModel",
          "state": {
            "_model_module": "@jupyter-widgets/controls",
            "_model_module_version": "1.5.0",
            "_model_name": "DescriptionStyleModel",
            "_view_count": null,
            "_view_module": "@jupyter-widgets/base",
            "_view_module_version": "1.2.0",
            "_view_name": "StyleView",
            "description_width": ""
          }
        },
        "6f5e096c4ec343a5821f70a7da685fe5": {
          "model_module": "@jupyter-widgets/base",
          "model_name": "LayoutModel",
          "state": {
            "_model_module": "@jupyter-widgets/base",
            "_model_module_version": "1.2.0",
            "_model_name": "LayoutModel",
            "_view_count": null,
            "_view_module": "@jupyter-widgets/base",
            "_view_module_version": "1.2.0",
            "_view_name": "LayoutView",
            "align_content": null,
            "align_items": null,
            "align_self": null,
            "border": null,
            "bottom": null,
            "display": null,
            "flex": null,
            "flex_flow": null,
            "grid_area": null,
            "grid_auto_columns": null,
            "grid_auto_flow": null,
            "grid_auto_rows": null,
            "grid_column": null,
            "grid_gap": null,
            "grid_row": null,
            "grid_template_areas": null,
            "grid_template_columns": null,
            "grid_template_rows": null,
            "height": null,
            "justify_content": null,
            "justify_items": null,
            "left": null,
            "margin": null,
            "max_height": null,
            "max_width": null,
            "min_height": null,
            "min_width": null,
            "object_fit": null,
            "object_position": null,
            "order": null,
            "overflow": null,
            "overflow_x": null,
            "overflow_y": null,
            "padding": null,
            "right": null,
            "top": null,
            "visibility": null,
            "width": null
          }
        },
        "993ab4912b3d4fabbf0541e4a3fc3e77": {
          "model_module": "@jupyter-widgets/controls",
          "model_name": "HBoxModel",
          "state": {
            "_dom_classes": [],
            "_model_module": "@jupyter-widgets/controls",
            "_model_module_version": "1.5.0",
            "_model_name": "HBoxModel",
            "_view_count": null,
            "_view_module": "@jupyter-widgets/controls",
            "_view_module_version": "1.5.0",
            "_view_name": "HBoxView",
            "box_style": "",
            "children": [
              "IPY_MODEL_c2784d2807f04817b58db5968b00d9b9",
              "IPY_MODEL_213f2d425fec43f4bdc0c82cc160e86f"
            ],
            "layout": "IPY_MODEL_260de9bf11c748b383f8b096b99cfe20"
          }
        },
        "260de9bf11c748b383f8b096b99cfe20": {
          "model_module": "@jupyter-widgets/base",
          "model_name": "LayoutModel",
          "state": {
            "_model_module": "@jupyter-widgets/base",
            "_model_module_version": "1.2.0",
            "_model_name": "LayoutModel",
            "_view_count": null,
            "_view_module": "@jupyter-widgets/base",
            "_view_module_version": "1.2.0",
            "_view_name": "LayoutView",
            "align_content": null,
            "align_items": null,
            "align_self": null,
            "border": null,
            "bottom": null,
            "display": null,
            "flex": null,
            "flex_flow": null,
            "grid_area": null,
            "grid_auto_columns": null,
            "grid_auto_flow": null,
            "grid_auto_rows": null,
            "grid_column": null,
            "grid_gap": null,
            "grid_row": null,
            "grid_template_areas": null,
            "grid_template_columns": null,
            "grid_template_rows": null,
            "height": null,
            "justify_content": null,
            "justify_items": null,
            "left": null,
            "margin": null,
            "max_height": null,
            "max_width": null,
            "min_height": null,
            "min_width": null,
            "object_fit": null,
            "object_position": null,
            "order": null,
            "overflow": null,
            "overflow_x": null,
            "overflow_y": null,
            "padding": null,
            "right": null,
            "top": null,
            "visibility": null,
            "width": null
          }
        },
        "c2784d2807f04817b58db5968b00d9b9": {
          "model_module": "@jupyter-widgets/controls",
          "model_name": "IntProgressModel",
          "state": {
            "_dom_classes": [],
            "_model_module": "@jupyter-widgets/controls",
            "_model_module_version": "1.5.0",
            "_model_name": "IntProgressModel",
            "_view_count": null,
            "_view_module": "@jupyter-widgets/controls",
            "_view_module_version": "1.5.0",
            "_view_name": "ProgressView",
            "bar_style": "",
            "description": "",
            "description_tooltip": null,
            "layout": "IPY_MODEL_7993e678f95140fd8855547bfc5deedd",
            "max": 695,
            "min": 0,
            "orientation": "horizontal",
            "style": "IPY_MODEL_9e664fca597b45acb063553005cb33bb",
            "value": 449
          }
        },
        "213f2d425fec43f4bdc0c82cc160e86f": {
          "model_module": "@jupyter-widgets/controls",
          "model_name": "HTMLModel",
          "state": {
            "_dom_classes": [],
            "_model_module": "@jupyter-widgets/controls",
            "_model_module_version": "1.5.0",
            "_model_name": "HTMLModel",
            "_view_count": null,
            "_view_module": "@jupyter-widgets/controls",
            "_view_module_version": "1.5.0",
            "_view_name": "HTMLView",
            "description": "",
            "description_tooltip": null,
            "layout": "IPY_MODEL_a764812ab01043dd943f2aa94f7d1269",
            "placeholder": "​",
            "style": "IPY_MODEL_401be6098fff4a63889a2a09d6e9a6af",
            "value": " 65% 449/695 [02:37&lt;01:26,  2.85it/s]"
          }
        },
        "9e664fca597b45acb063553005cb33bb": {
          "model_module": "@jupyter-widgets/controls",
          "model_name": "ProgressStyleModel",
          "state": {
            "_model_module": "@jupyter-widgets/controls",
            "_model_module_version": "1.5.0",
            "_model_name": "ProgressStyleModel",
            "_view_count": null,
            "_view_module": "@jupyter-widgets/base",
            "_view_module_version": "1.2.0",
            "_view_name": "StyleView",
            "bar_color": null,
            "description_width": ""
          }
        },
        "7993e678f95140fd8855547bfc5deedd": {
          "model_module": "@jupyter-widgets/base",
          "model_name": "LayoutModel",
          "state": {
            "_model_module": "@jupyter-widgets/base",
            "_model_module_version": "1.2.0",
            "_model_name": "LayoutModel",
            "_view_count": null,
            "_view_module": "@jupyter-widgets/base",
            "_view_module_version": "1.2.0",
            "_view_name": "LayoutView",
            "align_content": null,
            "align_items": null,
            "align_self": null,
            "border": null,
            "bottom": null,
            "display": null,
            "flex": null,
            "flex_flow": null,
            "grid_area": null,
            "grid_auto_columns": null,
            "grid_auto_flow": null,
            "grid_auto_rows": null,
            "grid_column": null,
            "grid_gap": null,
            "grid_row": null,
            "grid_template_areas": null,
            "grid_template_columns": null,
            "grid_template_rows": null,
            "height": null,
            "justify_content": null,
            "justify_items": null,
            "left": null,
            "margin": null,
            "max_height": null,
            "max_width": null,
            "min_height": null,
            "min_width": null,
            "object_fit": null,
            "object_position": null,
            "order": null,
            "overflow": null,
            "overflow_x": null,
            "overflow_y": null,
            "padding": null,
            "right": null,
            "top": null,
            "visibility": null,
            "width": null
          }
        },
        "401be6098fff4a63889a2a09d6e9a6af": {
          "model_module": "@jupyter-widgets/controls",
          "model_name": "DescriptionStyleModel",
          "state": {
            "_model_module": "@jupyter-widgets/controls",
            "_model_module_version": "1.5.0",
            "_model_name": "DescriptionStyleModel",
            "_view_count": null,
            "_view_module": "@jupyter-widgets/base",
            "_view_module_version": "1.2.0",
            "_view_name": "StyleView",
            "description_width": ""
          }
        },
        "a764812ab01043dd943f2aa94f7d1269": {
          "model_module": "@jupyter-widgets/base",
          "model_name": "LayoutModel",
          "state": {
            "_model_module": "@jupyter-widgets/base",
            "_model_module_version": "1.2.0",
            "_model_name": "LayoutModel",
            "_view_count": null,
            "_view_module": "@jupyter-widgets/base",
            "_view_module_version": "1.2.0",
            "_view_name": "LayoutView",
            "align_content": null,
            "align_items": null,
            "align_self": null,
            "border": null,
            "bottom": null,
            "display": null,
            "flex": null,
            "flex_flow": null,
            "grid_area": null,
            "grid_auto_columns": null,
            "grid_auto_flow": null,
            "grid_auto_rows": null,
            "grid_column": null,
            "grid_gap": null,
            "grid_row": null,
            "grid_template_areas": null,
            "grid_template_columns": null,
            "grid_template_rows": null,
            "height": null,
            "justify_content": null,
            "justify_items": null,
            "left": null,
            "margin": null,
            "max_height": null,
            "max_width": null,
            "min_height": null,
            "min_width": null,
            "object_fit": null,
            "object_position": null,
            "order": null,
            "overflow": null,
            "overflow_x": null,
            "overflow_y": null,
            "padding": null,
            "right": null,
            "top": null,
            "visibility": null,
            "width": null
          }
        }
      }
    }
  },
  "cells": [
    {
      "cell_type": "code",
      "metadata": {
        "colab_type": "code",
        "id": "ofza0xMHGqW4",
        "colab": {}
      },
      "source": [
        "import tensorflow as tf\n",
        "import numpy as np\n",
        "from tensorflow.keras.layers import Dense, Dropout, Activation, Flatten, Conv2D, MaxPooling2D\n",
        "import matplotlib.pyplot as plt\n",
        "import seaborn as sns\n",
        "from keras_radam.training import RAdamOptimizer\n",
        "from tqdm.autonotebook import tqdm\n",
        "import PIL, PIL.ImageOps, PIL.ImageEnhance, PIL.ImageDraw, PIL.Image\n"
      ],
      "execution_count": 0,
      "outputs": []
    },
    {
      "cell_type": "code",
      "metadata": {
        "colab_type": "code",
        "id": "LpnZxGWdG38S",
        "colab": {}
      },
      "source": [
        "#https://raw.githubusercontent.com/ntozer/mixmatch-tensorflow2.0/master/model.py\n",
        "class Residual3x3Unit(tf.keras.layers.Layer):\n",
        "    def __init__(self, channels_in, channels_out, stride, droprate=0., activate_before_residual=False):\n",
        "        super(Residual3x3Unit, self).__init__()\n",
        "        self.bn_0 = tf.keras.layers.BatchNormalization(momentum=0.999)\n",
        "        self.relu_0 = tf.keras.layers.LeakyReLU(alpha=0.1)\n",
        "        self.conv_0 = tf.keras.layers.Conv2D(channels_out, kernel_size=3, strides=stride, padding='same', use_bias=False)\n",
        "        self.bn_1 = tf.keras.layers.BatchNormalization(momentum=0.999)\n",
        "        self.relu_1 = tf.keras.layers.LeakyReLU(alpha=0.1)\n",
        "        self.conv_1 = tf.keras.layers.Conv2D(channels_out, kernel_size=3, strides=1, padding='same', use_bias=False)\n",
        "        self.downsample = channels_in != channels_out\n",
        "        self.shortcut = tf.keras.layers.Conv2D(channels_out, kernel_size=1, strides=stride, use_bias=False)\n",
        "        self.activate_before_residual = activate_before_residual\n",
        "        self.dropout = tf.keras.layers.Dropout(rate=droprate)\n",
        "        self.droprate = droprate\n",
        "\n",
        "    @tf.function\n",
        "    def call(self, x, training=True):\n",
        "        if self.downsample and self.activate_before_residual:\n",
        "            x = self.relu_0(self.bn_0(x, training=training))\n",
        "        elif not self.downsample:\n",
        "            out = self.relu_0(self.bn_0(x, training=training))\n",
        "        out = self.relu_1(self.bn_1(self.conv_0(x if self.downsample else out), training=training))\n",
        "        if self.droprate > 0.:\n",
        "            out = self.dropout(out)\n",
        "        out = self.conv_1(out)\n",
        "        return out + (self.shortcut(x) if self.downsample else x)\n",
        "\n",
        "\n",
        "class ResidualBlock(tf.keras.layers.Layer):\n",
        "    def __init__(self, n_units, channels_in, channels_out, unit, stride, droprate=0., activate_before_residual=False):\n",
        "        super(ResidualBlock, self).__init__()\n",
        "        self.units = self._build_unit(n_units, unit, channels_in, channels_out, stride, droprate, activate_before_residual)\n",
        "\n",
        "    def _build_unit(self, n_units, unit, channels_in, channels_out, stride, droprate, activate_before_residual):\n",
        "        units = []\n",
        "        for i in range(n_units):\n",
        "            units.append(unit(channels_in if i == 0 else channels_out, channels_out, stride if i == 0 else 1, droprate, activate_before_residual))\n",
        "        return units\n",
        "\n",
        "    @tf.function\n",
        "    def call(self, x, training=True):\n",
        "        for unit in self.units:\n",
        "            x = unit(x, training=training)\n",
        "        return x\n",
        "\n",
        "\n",
        "class WideResNet(tf.keras.Model):\n",
        "    def __init__(self, num_classes, depth=28, width=2, droprate=0., input_shape=(None, 32, 32, 3), **kwargs):\n",
        "        super(WideResNet, self).__init__(input_shape, **kwargs)\n",
        "        assert (depth - 4) % 6 == 0\n",
        "        N = int((depth - 4) / 6)\n",
        "        channels = [16, 16 * width, 32 * width, 64 * width]\n",
        "\n",
        "        self.conv_0 = tf.keras.layers.Conv2D(channels[0], kernel_size=3, strides=1, padding='same', use_bias=False)\n",
        "        self.block_0 = ResidualBlock(N, channels[0], channels[1], Residual3x3Unit, 1, droprate, True)\n",
        "        self.block_1 = ResidualBlock(N, channels[1], channels[2], Residual3x3Unit, 2, droprate)\n",
        "        self.block_2 = ResidualBlock(N, channels[2], channels[3], Residual3x3Unit, 2, droprate)\n",
        "        self.bn_0 = tf.keras.layers.BatchNormalization(momentum=0.999)\n",
        "        self.relu_0 = tf.keras.layers.LeakyReLU(alpha=0.1)\n",
        "        self.avg_pool = tf.keras.layers.AveragePooling2D((8, 8), (1, 1))\n",
        "        self.flatten = tf.keras.layers.Flatten()\n",
        "        self.dense = tf.keras.layers.Dense(num_classes)\n",
        "\n",
        "    @tf.function\n",
        "    def call(self, inputs, training=True):\n",
        "        x = inputs\n",
        "        x = self.conv_0(x)\n",
        "        x = self.block_0(x, training=training)\n",
        "        x = self.block_1(x, training=training)\n",
        "        x = self.block_2(x, training=training)\n",
        "        x = self.relu_0(self.bn_0(x, training=training))\n",
        "        x = self.avg_pool(x)\n",
        "        x = self.flatten(x)\n",
        "        x = self.dense(x)\n",
        "        return x"
      ],
      "execution_count": 0,
      "outputs": []
    },
    {
      "cell_type": "code",
      "metadata": {
        "id": "6fyox6JUVEAy",
        "colab_type": "code",
        "colab": {}
      },
      "source": [
        "#https://raw.githubusercontent.com/kakaobrain/fast-autoaugment/master/FastAutoAugment/augmentations.py\n",
        "\n",
        "import random\n",
        "import PIL, PIL.ImageOps, PIL.ImageEnhance, PIL.ImageDraw\n",
        "import numpy as np\n",
        "\n",
        "random_mirror = True\n",
        "\n",
        "\n",
        "def ShearX(img, v):  # [-0.3, 0.3]\n",
        "    assert -0.3 <= v <= 0.3\n",
        "    if random_mirror and random.random() > 0.5:\n",
        "        v = -v\n",
        "    return img.transform(img.size, PIL.Image.AFFINE, (1, v, 0, 0, 1, 0))\n",
        "\n",
        "\n",
        "def ShearY(img, v):  # [-0.3, 0.3]\n",
        "    assert -0.3 <= v <= 0.3\n",
        "    if random_mirror and random.random() > 0.5:\n",
        "        v = -v\n",
        "    return img.transform(img.size, PIL.Image.AFFINE, (1, 0, 0, v, 1, 0))\n",
        "\n",
        "\n",
        "def TranslateX(img, v):  # [-150, 150] => percentage: [-0.45, 0.45]\n",
        "    assert -0.45 <= v <= 0.45\n",
        "    if random_mirror and random.random() > 0.5:\n",
        "        v = -v\n",
        "    v = v * img.size[0]\n",
        "    return img.transform(img.size, PIL.Image.AFFINE, (1, 0, v, 0, 1, 0))\n",
        "\n",
        "\n",
        "def TranslateY(img, v):  # [-150, 150] => percentage: [-0.45, 0.45]\n",
        "    assert -0.45 <= v <= 0.45\n",
        "    if random_mirror and random.random() > 0.5:\n",
        "        v = -v\n",
        "    v = v * img.size[1]\n",
        "    return img.transform(img.size, PIL.Image.AFFINE, (1, 0, 0, 0, 1, v))\n",
        "\n",
        "\n",
        "def TranslateXAbs(img, v):  # [-150, 150] => percentage: [-0.45, 0.45]\n",
        "    assert 0 <= v <= 10\n",
        "    if random.random() > 0.5:\n",
        "        v = -v\n",
        "    return img.transform(img.size, PIL.Image.AFFINE, (1, 0, v, 0, 1, 0))\n",
        "\n",
        "\n",
        "def TranslateYAbs(img, v):  # [-150, 150] => percentage: [-0.45, 0.45]\n",
        "    assert 0 <= v <= 10\n",
        "    if random.random() > 0.5:\n",
        "        v = -v\n",
        "    return img.transform(img.size, PIL.Image.AFFINE, (1, 0, 0, 0, 1, v))\n",
        "\n",
        "\n",
        "def Rotate(img, v):  # [-30, 30]\n",
        "    assert -30 <= v <= 30\n",
        "    if random_mirror and random.random() > 0.5:\n",
        "        v = -v\n",
        "    return img.rotate(v)\n",
        "\n",
        "\n",
        "def AutoContrast(img, _):\n",
        "    return PIL.ImageOps.autocontrast(img)\n",
        "\n",
        "\n",
        "def Invert(img, _):\n",
        "    return PIL.ImageOps.invert(img)\n",
        "\n",
        "\n",
        "def Equalize(img, _):\n",
        "    return PIL.ImageOps.equalize(img)\n",
        "\n",
        "\n",
        "def Flip(img, _):  # not from the paper\n",
        "    return PIL.ImageOps.mirror(img)\n",
        "\n",
        "\n",
        "def Solarize(img, v):  # [0, 256]\n",
        "    assert 0 <= v <= 256\n",
        "    return PIL.ImageOps.solarize(img, v)\n",
        "\n",
        "\n",
        "def Posterize(img, v):  # [4, 8]\n",
        "    assert 4 <= v <= 8\n",
        "    v = int(v)\n",
        "    return PIL.ImageOps.posterize(img, v)\n",
        "\n",
        "\n",
        "def Posterize2(img, v):  # [0, 4]\n",
        "    assert 0 <= v <= 4\n",
        "    v = int(v)\n",
        "    return PIL.ImageOps.posterize(img, v)\n",
        "\n",
        "\n",
        "def Contrast(img, v):  # [0.1,1.9]\n",
        "    assert 0.1 <= v <= 1.9\n",
        "    return PIL.ImageEnhance.Contrast(img).enhance(v)\n",
        "\n",
        "\n",
        "def Color(img, v):  # [0.1,1.9]\n",
        "    assert 0.1 <= v <= 1.9\n",
        "    return PIL.ImageEnhance.Color(img).enhance(v)\n",
        "\n",
        "\n",
        "def Brightness(img, v):  # [0.1,1.9]\n",
        "    assert 0.1 <= v <= 1.9\n",
        "    return PIL.ImageEnhance.Brightness(img).enhance(v)\n",
        "\n",
        "\n",
        "def Sharpness(img, v):  # [0.1,1.9]\n",
        "    assert 0.1 <= v <= 1.9\n",
        "    return PIL.ImageEnhance.Sharpness(img).enhance(v)\n",
        "\n",
        "\n",
        "def Cutout(img, v):  # [0, 60] => percentage: [0, 0.2]\n",
        "    assert 0.0 <= v <= 0.2\n",
        "    if v <= 0.:\n",
        "        return img\n",
        "\n",
        "    v = v * img.size[0]\n",
        "\n",
        "    return CutoutAbs(img, v)\n",
        "\n",
        "\n",
        "def CutoutAbs(img, v):  # [0, 60] => percentage: [0, 0.2]\n",
        "    # assert 0 <= v <= 20\n",
        "    if v < 0:\n",
        "        return img\n",
        "    w, h = img.size\n",
        "    x0 = np.random.uniform(w)\n",
        "    y0 = np.random.uniform(h)\n",
        "\n",
        "    x0 = int(max(0, x0 - v / 2.))\n",
        "    y0 = int(max(0, y0 - v / 2.))\n",
        "    x1 = min(w, x0 + v)\n",
        "    y1 = min(h, y0 + v)\n",
        "\n",
        "    xy = (x0, y0, x1, y1)\n",
        "    color = (125, 123, 114)\n",
        "    # color = (0, 0, 0)\n",
        "    img = img.copy()\n",
        "    PIL.ImageDraw.Draw(img).rectangle(xy, color)\n",
        "    return img\n",
        "\n",
        "\n",
        "def SamplePairing(imgs):  # [0, 0.4]\n",
        "    def f(img1, v):\n",
        "        i = np.random.choice(len(imgs))\n",
        "        img2 = PIL.Image.fromarray(imgs[i])\n",
        "        return PIL.Image.blend(img1, img2, v)\n",
        "\n",
        "    return f\n",
        "\n",
        "\n",
        "def augment_list(for_autoaug=True):  # 16 operations and their ranges\n",
        "    l = [\n",
        "        (ShearX, -0.3, 0.3),  # 0\n",
        "        (ShearY, -0.3, 0.3),  # 1\n",
        "        (TranslateX, -0.45, 0.45),  # 2\n",
        "        (TranslateY, -0.45, 0.45),  # 3\n",
        "        (Rotate, -30, 30),  # 4\n",
        "        (AutoContrast, 0, 1),  # 5\n",
        "        (Invert, 0, 1),  # 6\n",
        "        (Equalize, 0, 1),  # 7\n",
        "        (Solarize, 0, 256),  # 8\n",
        "        (Posterize, 4, 8),  # 9\n",
        "        (Contrast, 0.1, 1.9),  # 10\n",
        "        (Color, 0.1, 1.9),  # 11\n",
        "        (Brightness, 0.1, 1.9),  # 12\n",
        "        (Sharpness, 0.1, 1.9),  # 13\n",
        "        (Cutout, 0, 0.2),  # 14\n",
        "        # (SamplePairing(imgs), 0, 0.4),  # 15\n",
        "    ]\n",
        "    if for_autoaug:\n",
        "        l += [\n",
        "            (CutoutAbs, 0, 20),  # compatible with auto-augment\n",
        "            (Posterize2, 0, 4),  # 9\n",
        "            (TranslateXAbs, 0, 10),  # 9\n",
        "            (TranslateYAbs, 0, 10),  # 9\n",
        "        ]\n",
        "    return l\n",
        "\n",
        "\n",
        "augment_dict = {fn.__name__: (fn, v1, v2) for fn, v1, v2 in augment_list()}\n",
        "\n",
        "\n",
        "def get_augment(name):\n",
        "    return augment_dict[name]\n",
        "\n",
        "\n",
        "def apply_augment(img, name, level):\n",
        "    augment_fn, low, high = get_augment(name)\n",
        "    return augment_fn(img.copy(), level * (high - low) + low)\n",
        "\n",
        "def fa_reduced_cifar10():\n",
        "    p = [[[\"Contrast\", 0.8320659688593578, 0.49884310562180767], [\"TranslateX\", 0.41849883971249136, 0.394023086494538]], [[\"Color\", 0.3500483749890918, 0.43355143929883955], [\"Color\", 0.5120716140300229, 0.7508299643325016]], [[\"Rotate\", 0.9447932604389472, 0.29723465088990375], [\"Sharpness\", 0.1564936149799504, 0.47169309978091745]], [[\"Rotate\", 0.5430015349185097, 0.6518626678905443], [\"Color\", 0.5694844928020679, 0.3494533005430269]], [[\"AutoContrast\", 0.5558922032451064, 0.783136004977799], [\"TranslateY\", 0.683914191471972, 0.7597025305860181]], [[\"TranslateX\", 0.03489224481658926, 0.021025488042663354], [\"Equalize\", 0.4788637403857401, 0.3535481281496117]], [[\"Sharpness\", 0.6428916269794158, 0.22791511918580576], [\"Contrast\", 0.016014045073950323, 0.26811312269487575]], [[\"Rotate\", 0.2972727228410451, 0.7654251516829896], [\"AutoContrast\", 0.16005809254943348, 0.5380523650108116]], [[\"Contrast\", 0.5823671057717301, 0.7521166301398389], [\"TranslateY\", 0.9949449214751978, 0.9612671341689751]], [[\"Equalize\", 0.8372126687702321, 0.6944127225621206], [\"Rotate\", 0.25393282929784755, 0.3261658365286546]], [[\"Invert\", 0.8222011603194572, 0.6597915864008403], [\"Posterize\", 0.31858707654447327, 0.9541013715579584]], [[\"Sharpness\", 0.41314621282107045, 0.9437344470879956], [\"Cutout\", 0.6610495837889337, 0.674411664255093]], [[\"Contrast\", 0.780121736705407, 0.40826152397463156], [\"Color\", 0.344019192125256, 0.1942922781355767]], [[\"Rotate\", 0.17153139555621344, 0.798745732456474], [\"Invert\", 0.6010555860501262, 0.320742172554767]], [[\"Invert\", 0.26816063450777416, 0.27152062163148327], [\"Equalize\", 0.6786829200236982, 0.7469412443514213]], [[\"Contrast\", 0.3920564414367518, 0.7493644582838497], [\"TranslateY\", 0.8941657805606704, 0.6580846856375955]], [[\"Equalize\", 0.875509207399372, 0.9061130537645283], [\"Cutout\", 0.4940280679087308, 0.7896229623628276]], [[\"Contrast\", 0.3331423298065147, 0.7170041362529597], [\"ShearX\", 0.7425484291842793, 0.5285117152426109]], [[\"Equalize\", 0.97344237365026, 0.4745759720473106], [\"TranslateY\", 0.055863458430295276, 0.9625142022954672]], [[\"TranslateX\", 0.6810614083109192, 0.7509937355495521], [\"TranslateY\", 0.3866463019475701, 0.5185481505576112]], [[\"Sharpness\", 0.4751529944753671, 0.550464012488733], [\"Cutout\", 0.9472914750534814, 0.5584925992985023]], [[\"Contrast\", 0.054606784909375095, 0.17257080196712182], [\"Cutout\", 0.6077026782754803, 0.7996504165944938]], [[\"ShearX\", 0.328798428243695, 0.2769563264079157], [\"Cutout\", 0.9037632437023772, 0.4915809476763595]], [[\"Cutout\", 0.6891202672363478, 0.9951490996172914], [\"Posterize\", 0.06532762462628705, 0.4005246609075227]], [[\"TranslateY\", 0.6908583592523334, 0.725612120376128], [\"Rotate\", 0.39907735501746666, 0.36505798032223147]], [[\"TranslateX\", 0.10398364107399072, 0.5913918470536627], [\"Rotate\", 0.7169811539340365, 0.8283850670648724]], [[\"ShearY\", 0.9526373530768361, 0.4482347365639251], [\"Contrast\", 0.4203947336351471, 0.41526799558953864]], [[\"Contrast\", 0.24894431199700073, 0.09578870500994707], [\"Solarize\", 0.2273713345927395, 0.6214942914963707]], [[\"TranslateX\", 0.06331228870032912, 0.8961907489444944], [\"Cutout\", 0.5110007859958743, 0.23704875994050723]], [[\"Cutout\", 0.3769183548846172, 0.6560944580253987], [\"TranslateY\", 0.7201924599434143, 0.4132476526938319]], [[\"Invert\", 0.6707431156338866, 0.11622795952464149], [\"Posterize\", 0.12075972752370845, 0.18024933294172307]], [[\"Color\", 0.5010057264087142, 0.5277767327434318], [\"Rotate\", 0.9486115946366559, 0.31485546630220784]], [[\"ShearX\", 0.31741302466630406, 0.1991215806270692], [\"Invert\", 0.3744727015523084, 0.6914113986757578]], [[\"Brightness\", 0.40348479064392617, 0.8924182735724888], [\"Brightness\", 0.1973098763857779, 0.3939288933689655]], [[\"Color\", 0.01208688664030888, 0.6055693000885217], [\"Equalize\", 0.433259451147881, 0.420711137966155]], [[\"Cutout\", 0.2620018360076487, 0.11594468278143644], [\"Rotate\", 0.1310401567856766, 0.7244318146544101]], [[\"ShearX\", 0.15249651845933576, 0.35277277071866986], [\"Contrast\", 0.28221794032094016, 0.42036586509397444]], [[\"Brightness\", 0.8492912150468908, 0.26386920887886056], [\"Solarize\", 0.8764208056263386, 0.1258195122766067]], [[\"ShearX\", 0.8537058239675831, 0.8415101816171269], [\"AutoContrast\", 0.23958568830416294, 0.9889049529564014]], [[\"Rotate\", 0.6463207930684552, 0.8750192129056532], [\"Contrast\", 0.6865032211768652, 0.8564981333033417]], [[\"Equalize\", 0.8877190311811044, 0.7370995897848609], [\"TranslateX\", 0.9979660314391368, 0.005683998913244781]], [[\"Color\", 0.6420017551677819, 0.6225337265571229], [\"Solarize\", 0.8344504978566362, 0.8332856969941151]], [[\"ShearX\", 0.7439332981992567, 0.9747608698582039], [\"Equalize\", 0.6259189804002959, 0.028017478098245174]], [[\"TranslateY\", 0.39794770293366843, 0.8482966537902709], [\"Rotate\", 0.9312935630405351, 0.5300586925826072]], [[\"Cutout\", 0.8904075572021911, 0.3522934742068766], [\"Equalize\", 0.6431186289473937, 0.9930577962126151]], [[\"Contrast\", 0.9183553386089476, 0.44974266209396685], [\"TranslateY\", 0.8193684583123862, 0.9633741156526566]], [[\"ShearY\", 0.616078299924283, 0.19219314358924766], [\"Solarize\", 0.1480945914138868, 0.05922109541654652]], [[\"Solarize\", 0.25332455064128157, 0.18853037431947994], [\"ShearY\", 0.9518390093954243, 0.14603930044061142]], [[\"Color\", 0.8094378664335412, 0.37029830225408433], [\"Contrast\", 0.29504113617467465, 0.065096365468442]], [[\"AutoContrast\", 0.7075167558685455, 0.7084621693458267], [\"Sharpness\", 0.03555539453323875, 0.5651948313888351]], [[\"TranslateY\", 0.5969982600930229, 0.9857264201029572], [\"Rotate\", 0.9898628564873607, 0.1985685534926911]], [[\"Invert\", 0.14915939942810352, 0.6595839632446547], [\"Posterize\", 0.768535289994361, 0.5997358684618563]], [[\"Equalize\", 0.9162691815967111, 0.3331035307653627], [\"Color\", 0.8169118187605557, 0.7653910258006366]], [[\"Rotate\", 0.43489185299530897, 0.752215269135173], [\"Brightness\", 0.1569828560334806, 0.8002808712857853]], [[\"Invert\", 0.931876215328345, 0.029428644395760872], [\"Equalize\", 0.6330036052674145, 0.7235531014288485]], [[\"ShearX\", 0.5216138393704968, 0.849272958911589], [\"AutoContrast\", 0.19572688655120263, 0.9786551568639575]], [[\"ShearX\", 0.9899586208275011, 0.22580547500610293], [\"Brightness\", 0.9831311903178727, 0.5055159610855606]], [[\"Brightness\", 0.29179117009211486, 0.48003584672937294], [\"Solarize\", 0.7544252317330058, 0.05806581735063043]], [[\"AutoContrast\", 0.8919800329537786, 0.8511261613698553], [\"Contrast\", 0.49199446084551035, 0.7302297140181429]], [[\"Cutout\", 0.7079723710644835, 0.032565015538375874], [\"AutoContrast\", 0.8259782090388609, 0.7860708789468442]], [[\"Posterize\", 0.9980262659801914, 0.6725084224935673], [\"ShearY\", 0.6195568269664682, 0.5444170291816751]], [[\"Posterize\", 0.8687351834713217, 0.9978004914422602], [\"Equalize\", 0.4532646848325955, 0.6486748015710573]], [[\"Contrast\", 0.2713928776950594, 0.15255249557027806], [\"ShearY\", 0.9276834387970199, 0.5266542862333478]], [[\"AutoContrast\", 0.5240786618055582, 0.9325642258930253], [\"Cutout\", 0.38448627892037357, 0.21219415055662394]], [[\"TranslateX\", 0.4299517937295352, 0.20133751201386152], [\"TranslateX\", 0.6753468310276597, 0.6985621035400441]], [[\"Rotate\", 0.4006472499103597, 0.6704748473357586], [\"Equalize\", 0.674161668148079, 0.6528530101705237]], [[\"Equalize\", 0.9139902833674455, 0.9015103149680278], [\"Sharpness\", 0.7289667720691948, 0.7623606352376232]], [[\"Cutout\", 0.5911267429414259, 0.5953141187177585], [\"Rotate\", 0.5219064817468504, 0.11085141355857986]], [[\"TranslateX\", 0.3620095133946267, 0.26194039409492476], [\"Rotate\", 0.3929841359545597, 0.4913406720338047]], [[\"Invert\", 0.5175298901458896, 0.001661410821811482], [\"Invert\", 0.004656581318332242, 0.8157622192213624]], [[\"AutoContrast\", 0.013609693335051465, 0.9318651749409604], [\"Invert\", 0.8980844358979592, 0.2268511862780368]], [[\"ShearY\", 0.7717126261142194, 0.09975547983707711], [\"Equalize\", 0.7808494401429572, 0.4141412091009955]], [[\"TranslateX\", 0.5878675721341552, 0.29813268038163376], [\"Posterize\", 0.21257276051591356, 0.2837285296666412]], [[\"Brightness\", 0.4268335108566488, 0.4723784991635417], [\"Cutout\", 0.9386262901570471, 0.6597686851494288]], [[\"ShearX\", 0.8259423807590159, 0.6215304795389204], [\"Invert\", 0.6663365779667443, 0.7729669184580387]], [[\"ShearY\", 0.4801338723951297, 0.5220145420100984], [\"Solarize\", 0.9165803796596582, 0.04299335502862134]], [[\"Color\", 0.17621114853558817, 0.7092601754635434], [\"ShearX\", 0.9014406936728542, 0.6028711944367818]], [[\"Rotate\", 0.13073284972300658, 0.9088831512880851], [\"ShearX\", 0.4228105332316806, 0.7985249783662675]], [[\"Brightness\", 0.9182753692730031, 0.0063635477774044436], [\"Color\", 0.4279825602663798, 0.28727149118585327]], [[\"Equalize\", 0.578218285372267, 0.9611758542158054], [\"Contrast\", 0.5471552264150691, 0.8819635504027596]], [[\"Brightness\", 0.3208589067274543, 0.45324733565167497], [\"Solarize\", 0.5218455808633233, 0.5946097503647126]], [[\"Equalize\", 0.3790381278653, 0.8796082535775276], [\"Solarize\", 0.4875526773149246, 0.5186585878052613]], [[\"ShearY\", 0.12026461479557571, 0.1336953429068397], [\"Posterize\", 0.34373988646025766, 0.8557727670803785]], [[\"Cutout\", 0.2396745247507467, 0.8123036135209865], [\"Equalize\", 0.05022807681008945, 0.6648492261984383]], [[\"Brightness\", 0.35226676470748264, 0.5950011514888855], [\"Rotate\", 0.27555076067000894, 0.9170063321486026]], [[\"ShearX\", 0.320224630647278, 0.9683584649071976], [\"Invert\", 0.6905585196648905, 0.5929115667894518]], [[\"Color\", 0.9941395717559652, 0.7474441679798101], [\"Sharpness\", 0.7559998478658021, 0.6656052889626682]], [[\"ShearY\", 0.4004220568345669, 0.5737646992826074], [\"Equalize\", 0.9983495213746147, 0.8307907033362303]], [[\"Color\", 0.13726809242038207, 0.9378850119950549], [\"Equalize\", 0.9853362454752445, 0.42670264496554156]], [[\"Invert\", 0.13514636153298576, 0.13516363849081958], [\"Sharpness\", 0.2031189356693901, 0.6110226359872745]], [[\"TranslateX\", 0.7360305209630797, 0.41849698571655614], [\"Contrast\", 0.8972161549144564, 0.7820296625565641]], [[\"Color\", 0.02713118828682548, 0.717110684828096], [\"TranslateY\", 0.8118759006836348, 0.9120098002024992]], [[\"Sharpness\", 0.2915428949403711, 0.7630303724396518], [\"Solarize\", 0.22030536162851078, 0.38654526772661757]], [[\"Equalize\", 0.9949114839538582, 0.7193630656062793], [\"AutoContrast\", 0.00889496657931299, 0.2291400476524672]], [[\"Rotate\", 0.7120948976490488, 0.7804359309791055], [\"Cutout\", 0.10445418104923654, 0.8022999156052766]], [[\"Equalize\", 0.7941710117902707, 0.8648170634288153], [\"Invert\", 0.9235642581144047, 0.23810725859722381]], [[\"Cutout\", 0.3669397998623156, 0.42612815083245004], [\"Solarize\", 0.5896322046441561, 0.40525016166956795]], [[\"Color\", 0.8389858785714184, 0.4805764176488667], [\"Rotate\", 0.7483931487048825, 0.4731174601400677]], [[\"Sharpness\", 0.19006538611394763, 0.9480745790240234], [\"TranslateY\", 0.13904429049439282, 0.04117685330615939]], [[\"TranslateY\", 0.9958097661701637, 0.34853788612580905], [\"Cutout\", 0.2235829624082113, 0.3737887095480745]], [[\"ShearX\", 0.635453761342424, 0.6063917273421382], [\"Posterize\", 0.8738297843709666, 0.4893042590265556]], [[\"Brightness\", 0.7907245198402727, 0.7082189713070691], [\"Color\", 0.030313003541849737, 0.6927897798493439]], [[\"Cutout\", 0.6965622481073525, 0.8103522907758203], [\"ShearY\", 0.6186794303078708, 0.28640671575703547]], [[\"ShearY\", 0.43734910588450226, 0.32549342535621517], [\"ShearX\", 0.08154980987651872, 0.3286764923112455]], [[\"AutoContrast\", 0.5262462005050853, 0.8175584582465848], [\"Contrast\", 0.8683217097363655, 0.548776281479276]], [[\"ShearY\", 0.03957878500311707, 0.5102350637943197], [\"Rotate\", 0.13794708520303778, 0.38035687712954236]], [[\"Sharpness\", 0.634288567312677, 0.6387948309075822], [\"AutoContrast\", 0.13437288694693272, 0.7150448869023095]], [[\"Contrast\", 0.5198339640088544, 0.9409429390321714], [\"Cutout\", 0.09489154903321972, 0.6228488803821982]], [[\"Equalize\", 0.8955909061806043, 0.7727336527163008], [\"AutoContrast\", 0.6459479564441762, 0.7065467781139214]], [[\"Invert\", 0.07214420843537739, 0.15334721382249505], [\"ShearX\", 0.9242027778363903, 0.5809187849982554]], [[\"Equalize\", 0.9144084379856188, 0.9457539278608998], [\"Sharpness\", 0.14337499858300173, 0.5978054365425495]], [[\"Posterize\", 0.18894269796951202, 0.14676331276539045], [\"Equalize\", 0.846204299950047, 0.0720601838168885]], [[\"Contrast\", 0.47354445405741163, 0.1793650330107468], [\"Solarize\", 0.9086106327264657, 0.7578807802091502]], [[\"AutoContrast\", 0.11805466892967886, 0.6773620948318575], [\"TranslateX\", 0.584222568299264, 0.9475693349391936]], [[\"Brightness\", 0.5833017701352768, 0.6892593824176294], [\"AutoContrast\", 0.9073141314561828, 0.5823085733964589]], [[\"TranslateY\", 0.5711231614144834, 0.6436240447620021], [\"Contrast\", 0.21466964050052473, 0.8042843954486391]], [[\"Contrast\", 0.22967904487976765, 0.2343103109298762], [\"Invert\", 0.5502897289159286, 0.386181060792375]], [[\"Invert\", 0.7008423439928628, 0.4234003051405053], [\"Rotate\", 0.77270460187611, 0.6650852696828039]], [[\"Invert\", 0.050618322309703534, 0.24277027926683614], [\"TranslateX\", 0.789703489736613, 0.5116446685339312]], [[\"Color\", 0.363898083076868, 0.7870323584210503], [\"ShearY\", 0.009608425513626617, 0.6188625018465327]], [[\"TranslateY\", 0.9447601615216088, 0.8605867115798349], [\"Equalize\", 0.24139180127003634, 0.9587337957930782]], [[\"Equalize\", 0.3968589440144503, 0.626206375426996], [\"Solarize\", 0.3215967960673186, 0.826785464835443]], [[\"TranslateX\", 0.06947339047121326, 0.016705969558222122], [\"Contrast\", 0.6203392406528407, 0.6433525559906872]], [[\"Solarize\", 0.2479835265518212, 0.6335009955617831], [\"Sharpness\", 0.6260191862978083, 0.18998095149428562]], [[\"Invert\", 0.9818841924943431, 0.03252098144087934], [\"TranslateY\", 0.9740718042586802, 0.32038951753031475]], [[\"Solarize\", 0.8795784664090814, 0.7014953994354041], [\"AutoContrast\", 0.8508018319577783, 0.09321935255338443]], [[\"Color\", 0.8067046326105318, 0.13732893832354054], [\"Contrast\", 0.7358549680271418, 0.7880588355974301]], [[\"Posterize\", 0.5005885536838065, 0.7152229305267599], [\"ShearX\", 0.6714249591308944, 0.7732232697859908]], [[\"TranslateY\", 0.5657943483353953, 0.04622399873706862], [\"AutoContrast\", 0.2787442688649845, 0.567024378767143]], [[\"ShearY\", 0.7589839214283295, 0.041071003934029404], [\"Equalize\", 0.3719852873722692, 0.43285778682687326]], [[\"Posterize\", 0.8841266183653291, 0.42441306955476366], [\"Cutout\", 0.06578801759412933, 0.5961125797961526]], [[\"Rotate\", 0.4057875004314082, 0.20241115848366442], [\"AutoContrast\", 0.19331542807918067, 0.7175484678480565]], [[\"Contrast\", 0.20331327116693088, 0.17135387852218742], [\"Cutout\", 0.6282459410351067, 0.6690015305529187]], [[\"ShearX\", 0.4309850328306535, 0.99321178125828], [\"AutoContrast\", 0.01809604030453338, 0.693838277506365]], [[\"Rotate\", 0.24343531125298268, 0.5326412444169899], [\"Sharpness\", 0.8663989992597494, 0.7643990609130789]], [[\"Rotate\", 0.9785019204622459, 0.8941922576710696], [\"ShearY\", 0.3823185048761075, 0.9258854046017292]], [[\"ShearY\", 0.5502613342963388, 0.6193478797355644], [\"Sharpness\", 0.2212116534610532, 0.6648232390110979]], [[\"TranslateY\", 0.43222920981513757, 0.5657636397633089], [\"ShearY\", 0.9153733286073634, 0.4868521171273169]], [[\"Posterize\", 0.12246560519738336, 0.9132288825898972], [\"Cutout\", 0.6058471327881816, 0.6426901876150983]], [[\"Color\", 0.3693970222695844, 0.038929141432555436], [\"Equalize\", 0.6228052875653781, 0.05064436511347281]], [[\"Color\", 0.7172600331356893, 0.2824542634766688], [\"Color\", 0.425293116261649, 0.1796441283313972]], [[\"Cutout\", 0.7539608428122959, 0.9896141728228921], [\"Solarize\", 0.17811081117364758, 0.9064195503634402]], [[\"AutoContrast\", 0.6761242607012717, 0.6484842446399923], [\"AutoContrast\", 0.1978135076901828, 0.42166879492601317]], [[\"ShearY\", 0.25901666379802524, 0.4770778270322449], [\"Solarize\", 0.7640963173407052, 0.7548463227094349]], [[\"TranslateY\", 0.9222487731783499, 0.33658389819616463], [\"Equalize\", 0.9159112511468139, 0.8877136302394797]], [[\"TranslateX\", 0.8994836977137054, 0.11036053676846591], [\"Sharpness\", 0.9040333410652747, 0.007266095214664592]], [[\"Invert\", 0.627758632524958, 0.8075245097227242], [\"Color\", 0.7525387912148516, 0.05950239294733184]], [[\"TranslateX\", 0.43505193292761857, 0.38108822876120796], [\"TranslateY\", 0.7432578052364004, 0.685678116134759]], [[\"Contrast\", 0.9293507582470425, 0.052266842951356196], [\"Posterize\", 0.45187123977747456, 0.8228290399726782]], [[\"ShearX\", 0.07240786542746291, 0.8945667925365756], [\"Brightness\", 0.5305443506561034, 0.12025274552427578]], [[\"Invert\", 0.40157564448143335, 0.5364745514006678], [\"Posterize\", 0.3316124671813876, 0.43002413237035997]], [[\"ShearY\", 0.7152314630009072, 0.1938339083417453], [\"Invert\", 0.14102478508140615, 0.41047623580174253]], [[\"Equalize\", 0.19862832613849246, 0.5058521685279254], [\"Sharpness\", 0.16481208629549782, 0.29126323102770557]], [[\"Equalize\", 0.6951591703541872, 0.7294822018800076], [\"ShearX\", 0.8726656726111219, 0.3151484225786487]], [[\"Rotate\", 0.17234370554263745, 0.9356543193000078], [\"TranslateX\", 0.4954374070084091, 0.05496727345849217]], [[\"Contrast\", 0.347405480122842, 0.831553005022885], [\"ShearX\", 0.28946367213071134, 0.11905898704394013]], [[\"Rotate\", 0.28096672507990683, 0.16181284050307398], [\"Color\", 0.6554918515385365, 0.8739728050797386]], [[\"Solarize\", 0.05408073374114053, 0.5357087283758337], [\"Posterize\", 0.42457175211495335, 0.051807130609045515]], [[\"TranslateY\", 0.6216669362331361, 0.9691341207381867], [\"Rotate\", 0.9833579358130944, 0.12227426932415297]], [[\"AutoContrast\", 0.7572619475282892, 0.8062834082727393], [\"Contrast\", 0.1447865402875591, 0.40242646573228436]], [[\"Rotate\", 0.7035658783466086, 0.9840285268256428], [\"Contrast\", 0.04613961510519471, 0.7666683217450163]], [[\"TranslateX\", 0.4580462177951252, 0.6448678609474686], [\"AutoContrast\", 0.14845695613708987, 0.1581134188537895]], [[\"Color\", 0.06795037145259564, 0.9115552821158709], [\"TranslateY\", 0.9972953449677655, 0.6791016521791214]], [[\"Cutout\", 0.3586908443690823, 0.11578558293480945], [\"Color\", 0.49083981719164294, 0.6924851425917189]], [[\"Brightness\", 0.7994717831637873, 0.7887316255321768], [\"Posterize\", 0.01280463502435425, 0.2799086732858721]], [[\"ShearY\", 0.6733451536131859, 0.8122332639516706], [\"AutoContrast\", 0.20433889615637357, 0.29023346867819966]], [[\"TranslateY\", 0.709913512385177, 0.6538196931503809], [\"Invert\", 0.06629795606579203, 0.40913219547548296]], [[\"Sharpness\", 0.4704559834362948, 0.4235993305308414], [\"Equalize\", 0.7578132044306966, 0.9388824249397175]], [[\"AutoContrast\", 0.5281702802395268, 0.8077253610116979], [\"Equalize\", 0.856446858814119, 0.0479755681647559]], [[\"Color\", 0.8244145826797791, 0.038409264586238945], [\"Equalize\", 0.4933123249234237, 0.8251940933672189]], [[\"TranslateX\", 0.23949314158035084, 0.13576027004706692], [\"ShearX\", 0.8547563771688399, 0.8309262160483606]], [[\"Cutout\", 0.4655680937486001, 0.2819807000622825], [\"Contrast\", 0.8439552665937905, 0.4843617871587037]], [[\"TranslateX\", 0.19142454476784831, 0.7516148119169537], [\"AutoContrast\", 0.8677128351329768, 0.34967990912346336]], [[\"Contrast\", 0.2997868299880966, 0.919508054854469], [\"AutoContrast\", 0.3003418493384957, 0.812314984368542]], [[\"Invert\", 0.1070424236198183, 0.614674386498809], [\"TranslateX\", 0.5010973510899923, 0.20828478805259465]], [[\"Contrast\", 0.6775882415611454, 0.6938564815591685], [\"Cutout\", 0.4814634264207498, 0.3086844939744179]], [[\"TranslateY\", 0.939427105020265, 0.02531043619423201], [\"Contrast\", 0.793754257944812, 0.6676072472565451]], [[\"Sharpness\", 0.09833672397575444, 0.5937214638292085], [\"Rotate\", 0.32530675291753763, 0.08302275740932441]], [[\"Sharpness\", 0.3096455511562728, 0.6726732004553959], [\"TranslateY\", 0.43268997648796537, 0.8755012330217743]], [[\"ShearY\", 0.9290771880324833, 0.22114736271319912], [\"Equalize\", 0.5520199288501478, 0.34269650332060553]], [[\"AutoContrast\", 0.39763980746649374, 0.4597414582725454], [\"Contrast\", 0.941507852412761, 0.24991270562477041]], [[\"Contrast\", 0.19419400547588095, 0.9127524785329233], [\"Invert\", 0.40544905179551727, 0.770081532844878]], [[\"Invert\", 0.30473757368608334, 0.23534811781828846], [\"Cutout\", 0.26090722356706686, 0.5478390909877727]], [[\"Posterize\", 0.49434361308057373, 0.05018423270527428], [\"Color\", 0.3041910676883317, 0.2603810415446437]], [[\"Invert\", 0.5149061746764011, 0.9507449210221298], [\"TranslateY\", 0.4458076521892904, 0.8235358255774426]], [[\"Cutout\", 0.7900006753351625, 0.905578861382507], [\"Cutout\", 0.6707153655762056, 0.8236715672258502]], [[\"Solarize\", 0.8750534386579575, 0.10337670467100568], [\"Posterize\", 0.6102379615481381, 0.9264503915416868]], [[\"ShearY\", 0.08448689377082852, 0.13981233725811626], [\"TranslateX\", 0.13979689669329498, 0.768774869872818]], [[\"TranslateY\", 0.35752572266759985, 0.22827299847812488], [\"Solarize\", 0.3906957174236011, 0.5663314388307709]], [[\"ShearY\", 0.29155240367061563, 0.8427516352971683], [\"ShearX\", 0.988825367441916, 0.9371258864857649]], [[\"Posterize\", 0.3470780859769458, 0.5467686612321239], [\"Rotate\", 0.5758606274160093, 0.8843838082656007]], [[\"Cutout\", 0.07825368363221841, 0.3230799425855425], [\"Equalize\", 0.2319163865298529, 0.42133965674727325]], [[\"Invert\", 0.41972172597448654, 0.34618622513582953], [\"ShearX\", 0.33638469398198834, 0.9098575535928108]], [[\"Invert\", 0.7322652233340448, 0.7747502957687412], [\"Cutout\", 0.9643121397298106, 0.7983335094634907]], [[\"TranslateY\", 0.30039942808098496, 0.229018798182827], [\"TranslateY\", 0.27009499739380194, 0.6435577237846236]], [[\"Color\", 0.38245274994070644, 0.7030758568461645], [\"ShearX\", 0.4429321461666281, 0.6963787864044149]], [[\"AutoContrast\", 0.8432798685515605, 0.5775214369578088], [\"Brightness\", 0.7140899735355927, 0.8545854720117658]], [[\"Rotate\", 0.14418935535613786, 0.5637968282213426], [\"Color\", 0.7115231912479835, 0.32584796564566776]], [[\"Sharpness\", 0.4023501062807533, 0.4162097130412771], [\"Brightness\", 0.5536372686153666, 0.03004023273348777]], [[\"TranslateX\", 0.7526053265574295, 0.5365938133399961], [\"Cutout\", 0.07914142706557492, 0.7544953091603148]], [[\"TranslateY\", 0.6932934644882822, 0.5302211727137424], [\"Invert\", 0.5040606028391255, 0.6074863635108957]], [[\"Sharpness\", 0.5013938602431629, 0.9572417724333157], [\"TranslateY\", 0.9160516359783026, 0.41798927975391675]], [[\"ShearY\", 0.5130018836722556, 0.30209438428424185], [\"Color\", 0.15017170588500262, 0.20653495360587826]], [[\"TranslateX\", 0.5293300090022314, 0.6407011888285266], [\"Rotate\", 0.4809817860439001, 0.3537850070371702]], [[\"Equalize\", 0.42243081336551014, 0.13472721311046565], [\"Posterize\", 0.4700309639484068, 0.5197704360874883]], [[\"AutoContrast\", 0.40674959899687235, 0.7312824868168921], [\"TranslateX\", 0.7397527975920833, 0.7068339877944815]], [[\"TranslateY\", 0.5880995184787206, 0.41294111378078946], [\"ShearX\", 0.3181387627799316, 0.4810010147143413]], [[\"Color\", 0.9898680233928507, 0.13241525577655167], [\"Contrast\", 0.9824932511238534, 0.5081145010853807]], [[\"Invert\", 0.1591854062582687, 0.9760371953250404], [\"Color\", 0.9913399302056851, 0.8388709501056177]], [[\"Rotate\", 0.6427451962231163, 0.9486793975292853], [\"AutoContrast\", 0.8501937877930463, 0.021326757974406196]], [[\"Contrast\", 0.13611684531087598, 0.3050858709483848], [\"Posterize\", 0.06618644756084646, 0.8776928511951034]], [[\"TranslateX\", 0.41021065663839407, 0.4965319749091702], [\"Rotate\", 0.07088831484595115, 0.4435516708223345]], [[\"Sharpness\", 0.3151707977154323, 0.28275482520179296], [\"Invert\", 0.36980384682133804, 0.20813616084536624]], [[\"Cutout\", 0.9979060206661017, 0.39712948644725854], [\"Brightness\", 0.42451052896163466, 0.942623075649937]], [[\"Equalize\", 0.5300853308425644, 0.010183500830128867], [\"AutoContrast\", 0.06930788523716991, 0.5403125318991522]], [[\"Contrast\", 0.010385458959237814, 0.2588311035539086], [\"ShearY\", 0.9347048553928764, 0.10439028366854963]], [[\"ShearY\", 0.9867649486508592, 0.8409258132716434], [\"ShearX\", 0.48031199530836444, 0.7703375364614137]], [[\"ShearY\", 0.04835889473136512, 0.2671081675890492], [\"Brightness\", 0.7856432618509617, 0.8032169570159564]], [[\"Posterize\", 0.11112884927351185, 0.7116956530752987], [\"TranslateY\", 0.7339151092128607, 0.3331241226029017]], [[\"Invert\", 0.13527036207875454, 0.8425980515358883], [\"Color\", 0.7836395778298139, 0.5517059252678862]], [[\"Sharpness\", 0.012541163521491816, 0.013197550692292892], [\"Invert\", 0.6295957932861318, 0.43276521236056054]], [[\"AutoContrast\", 0.7681480991225756, 0.3634284648496289], [\"Brightness\", 0.09708289828517969, 0.45016725043529726]], [[\"Brightness\", 0.5839450499487329, 0.47525965678316795], [\"Posterize\", 0.43096581990183735, 0.9332382960125196]], [[\"Contrast\", 0.9725334964552795, 0.9142902966863341], [\"Contrast\", 0.12376116410622995, 0.4355916974126801]], [[\"TranslateX\", 0.8572708473690132, 0.02544522678265526], [\"Sharpness\", 0.37902120723460364, 0.9606092969833118]], [[\"TranslateY\", 0.8907359001296927, 0.8011363927236099], [\"Color\", 0.7693777154407178, 0.0936768686746503]], [[\"Equalize\", 0.0002657688243309364, 0.08190798535970034], [\"Rotate\", 0.5215478065240905, 0.5773519995038368]], [[\"TranslateY\", 0.3383007813932477, 0.5733428274739165], [\"Sharpness\", 0.2436110797174722, 0.4757790814590501]], [[\"Cutout\", 0.0957402176213592, 0.8914395928996034], [\"Cutout\", 0.4959915628586883, 0.25890349461645246]], [[\"AutoContrast\", 0.594787300189186, 0.9627455357634459], [\"ShearY\", 0.5136027621132064, 0.10419602450259002]], [[\"Solarize\", 0.4684077211553732, 0.6592850629431414], [\"Sharpness\", 0.2382385935956325, 0.6589291408243176]], [[\"Cutout\", 0.4478786947325877, 0.6893616643143388], [\"TranslateX\", 0.2761781720270474, 0.21750622627277727]], [[\"Sharpness\", 0.39476077929016484, 0.930902796668923], [\"Cutout\", 0.9073012208742808, 0.9881122386614257]], [[\"TranslateY\", 0.0933719180021565, 0.7206252503441172], [\"ShearX\", 0.5151400441789256, 0.6307540083648309]], [[\"AutoContrast\", 0.7772689258806401, 0.8159317013156503], [\"AutoContrast\", 0.5932793713915097, 0.05262217353927168]], [[\"Equalize\", 0.38017352056118914, 0.8084724050448412], [\"ShearY\", 0.7239725628380852, 0.4246314890359326]], [[\"Cutout\", 0.741157483503503, 0.13244380646497977], [\"Invert\", 0.03395378056675935, 0.7140036618098844]], [[\"Rotate\", 0.0662727247460636, 0.7099861732415447], [\"Rotate\", 0.3168532707508249, 0.3553167425022127]], [[\"AutoContrast\", 0.7429303516734129, 0.07117444599776435], [\"Posterize\", 0.5379537435918104, 0.807221330263993]], [[\"TranslateY\", 0.9788586874795164, 0.7967243851346594], [\"Invert\", 0.4479103376922362, 0.04260360776727545]], [[\"Cutout\", 0.28318121763188997, 0.7748680701406292], [\"AutoContrast\", 0.9109258369403016, 0.17126397858002085]], [[\"Color\", 0.30183727885272027, 0.46718354750112456], [\"TranslateX\", 0.9628952256033627, 0.10269543754135535]], [[\"AutoContrast\", 0.6316709389784041, 0.84287698792044], [\"Brightness\", 0.5544761629904337, 0.025264772745200004]], [[\"Rotate\", 0.08803313299532567, 0.306059720523696], [\"Invert\", 0.5222165872425064, 0.045935208620454304]], [[\"TranslateY\", 0.21912346831923835, 0.48529224559004436], [\"TranslateY\", 0.15466734731903942, 0.8929485418495068]], [[\"ShearX\", 0.17141022847016563, 0.8607600402165531], [\"ShearX\", 0.6890511341106859, 0.7540899265679949]], [[\"Invert\", 0.9417455522972059, 0.9021733684991224], [\"Solarize\", 0.7693107057723746, 0.7268007946568782]], [[\"Posterize\", 0.02376991543373752, 0.6768442864453844], [\"Rotate\", 0.7736875065112697, 0.6706331753139825]], [[\"Contrast\", 0.3623841610390669, 0.15023657344457686], [\"Equalize\", 0.32975472189318666, 0.05629246869510651]], [[\"Sharpness\", 0.7874882420165824, 0.49535778020457066], [\"Posterize\", 0.09485578893387558, 0.6170768580482466]], [[\"Brightness\", 0.7099280202949585, 0.021523012961427335], [\"Posterize\", 0.2076371467666719, 0.17168118578815206]], [[\"Color\", 0.8546367645761538, 0.832011891505731], [\"Equalize\", 0.6429734783051777, 0.2618995960561532]], [[\"Rotate\", 0.8780793721476224, 0.5920897827664297], [\"ShearX\", 0.5338303685064825, 0.8605424531336439]], [[\"Sharpness\", 0.7504493806631884, 0.9723552387375258], [\"Sharpness\", 0.3206385634203266, 0.45127845905824693]], [[\"ShearX\", 0.23794709526711355, 0.06257530645720066], [\"Solarize\", 0.9132374030587093, 0.6240819934824045]], [[\"Sharpness\", 0.790583587969259, 0.28551171786655405], [\"Contrast\", 0.39872982844590554, 0.09644706751019538]], [[\"Equalize\", 0.30681999237432944, 0.5645045018157916], [\"Posterize\", 0.525966242669736, 0.7360106111256014]], [[\"TranslateX\", 0.4881014179825114, 0.6317220208872226], [\"ShearX\", 0.2935158995550958, 0.23104608987381758]], [[\"Rotate\", 0.49977116738568395, 0.6610761068306319], [\"TranslateY\", 0.7396566602715687, 0.09386747830045217]], [[\"ShearY\", 0.5909773790018789, 0.16229529902832718], [\"Equalize\", 0.06461394468918358, 0.6661349001143908]], [[\"TranslateX\", 0.7218443721851834, 0.04435720302810153], [\"Cutout\", 0.986686540951642, 0.734771197038724]], [[\"ShearX\", 0.5353800096911666, 0.8120139502148365], [\"Equalize\", 0.4613239578449774, 0.5159528929124512]], [[\"Color\", 0.0871713897628631, 0.7708895183198486], [\"Solarize\", 0.5811386808912219, 0.35260648120785887]], [[\"Posterize\", 0.3910857927477053, 0.4329219555775561], [\"Color\", 0.9115983668789468, 0.6043069944145293]], [[\"Posterize\", 0.07493067637060635, 0.4258000066006725], [\"AutoContrast\", 0.4740957581389772, 0.49069587151651295]], [[\"Rotate\", 0.34086200894268937, 0.9812149332288828], [\"Solarize\", 0.6801012471371733, 0.17271491146753837]], [[\"Color\", 0.20542270872895207, 0.5532087457727624], [\"Contrast\", 0.2718692536563381, 0.20313287569510108]], [[\"Equalize\", 0.05199827210980934, 0.0832859890912212], [\"AutoContrast\", 0.8092395764794107, 0.7778945136511004]], [[\"Sharpness\", 0.1907689513066838, 0.7705754572256907], [\"Color\", 0.3911178658498049, 0.41791326933095485]], [[\"Solarize\", 0.19611855804748257, 0.2407807485604081], [\"AutoContrast\", 0.5343964972940493, 0.9034209455548394]], [[\"Color\", 0.43586520148538865, 0.4711164626521439], [\"ShearY\", 0.28635408186820555, 0.8417816793020271]], [[\"Cutout\", 0.09818482420382535, 0.1649767430954796], [\"Cutout\", 0.34582392911178494, 0.3927982995799828]], [[\"ShearX\", 0.001253882705272269, 0.48661629027584596], [\"Solarize\", 0.9229221435457137, 0.44374894836659073]], [[\"Contrast\", 0.6829734655718668, 0.8201750485099037], [\"Cutout\", 0.7886756837648936, 0.8423285219631946]], [[\"TranslateY\", 0.857017093561528, 0.3038537151773969], [\"Invert\", 0.12809228606383538, 0.23637166191748027]], [[\"Solarize\", 0.9829027723424164, 0.9723093910674763], [\"Color\", 0.6346495302126811, 0.5405494753107188]], [[\"AutoContrast\", 0.06868643520377715, 0.23758659417688077], [\"AutoContrast\", 0.6648225411500879, 0.5618315648260103]], [[\"Invert\", 0.44202305603311676, 0.9945938909685547], [\"Equalize\", 0.7991650497684454, 0.16014142656347097]], [[\"AutoContrast\", 0.8778631604769588, 0.03951977631894088], [\"ShearY\", 0.8495160088963707, 0.35771447321250416]], [[\"Color\", 0.5365078341001592, 0.21102444169782308], [\"ShearX\", 0.7168869678248874, 0.3904298719872734]], [[\"TranslateX\", 0.6517203786101899, 0.6467598990650437], [\"Invert\", 0.26552491504364517, 0.1210812827294625]], [[\"Posterize\", 0.35196021684368994, 0.8420648319941891], [\"Invert\", 0.7796829363930631, 0.9520895999240896]], [[\"Sharpness\", 0.7391572148971984, 0.4853940393452846], [\"TranslateX\", 0.7641915295592839, 0.6351349057666782]], [[\"Posterize\", 0.18485880221115913, 0.6117603277356728], [\"Rotate\", 0.6541660490605724, 0.5704041108375348]], [[\"TranslateY\", 0.27517423188070533, 0.6610080904072458], [\"Contrast\", 0.6091250547289317, 0.7702443247557892]], [[\"Equalize\", 0.3611798581067118, 0.6623615672642768], [\"TranslateX\", 0.9537265090885917, 0.06352772509358584]], [[\"ShearX\", 0.09720029389103535, 0.7800423126320308], [\"Invert\", 0.30314352455858884, 0.8519925470889914]], [[\"Brightness\", 0.06931529763458055, 0.57760829499712], [\"Cutout\", 0.637251974467394, 0.7184346129191052]], [[\"AutoContrast\", 0.5026722100286064, 0.32025257156541886], [\"Contrast\", 0.9667478703047919, 0.14178519432669368]], [[\"Equalize\", 0.5924463845816984, 0.7187610262181517], [\"TranslateY\", 0.7059479079159405, 0.06551471830655187]], [[\"Sharpness\", 0.18161164512332928, 0.7576138481173385], [\"Brightness\", 0.19191138767695282, 0.7865880269424701]], [[\"Brightness\", 0.36780861866078696, 0.0677855546737901], [\"AutoContrast\", 0.8491446654142264, 0.09217782099938121]], [[\"TranslateY\", 0.06011399855120858, 0.8374487034710264], [\"TranslateY\", 0.8373922962070498, 0.1991295720254297]], [[\"Posterize\", 0.702559916122481, 0.30257509683007755], [\"Rotate\", 0.249899495398891, 0.9370437251176267]], [[\"ShearX\", 0.9237874098232075, 0.26241907483351146], [\"Brightness\", 0.7221766836146657, 0.6880749752986671]], [[\"Cutout\", 0.37994098189193104, 0.7836874473657957], [\"ShearX\", 0.9212861960976824, 0.8140948561570449]], [[\"Posterize\", 0.2584098274786417, 0.7990847652004848], [\"Invert\", 0.6357731737590063, 0.1066304859116326]], [[\"Sharpness\", 0.4412790857539922, 0.9692465283229825], [\"Color\", 0.9857401617339051, 0.26755393929808713]], [[\"Equalize\", 0.22348671644912665, 0.7370019910830038], [\"Posterize\", 0.5396106339575417, 0.5559536849843303]], [[\"Equalize\", 0.8742967663495852, 0.2797122599926307], [\"Rotate\", 0.4697322053105951, 0.8769872942579476]], [[\"Sharpness\", 0.44279911640509206, 0.07729581896071613], [\"Cutout\", 0.3589177366154631, 0.2704031551235969]], [[\"TranslateX\", 0.614216412574085, 0.47929659784170453], [\"Brightness\", 0.6686234118438007, 0.05700784068205689]], [[\"ShearY\", 0.17920614630857634, 0.4699685075827862], [\"Color\", 0.38251870810870003, 0.7262706923005887]], [[\"Solarize\", 0.4951799001144561, 0.212775278026479], [\"TranslateX\", 0.8666105646463097, 0.6750496637519537]], [[\"Color\", 0.8110864170849051, 0.5154263861958484], [\"Sharpness\", 0.2489044083898776, 0.3763372541462343]], [[\"Cutout\", 0.04888193613483871, 0.06041664638981603], [\"Color\", 0.06438587718683708, 0.5797881428892969]], [[\"Rotate\", 0.032427448352152166, 0.4445797818376559], [\"Posterize\", 0.4459357828482998, 0.5879865187630777]], [[\"ShearX\", 0.1617179557693058, 0.050796802246318884], [\"Cutout\", 0.8142465452060423, 0.3836391305618707]], [[\"TranslateY\", 0.1806857249209416, 0.36697730355422675], [\"Rotate\", 0.9897576550818276, 0.7483432452225264]], [[\"Brightness\", 0.18278016458098223, 0.952352527690299], [\"Cutout\", 0.3269735224453044, 0.3924869905012752]], [[\"ShearX\", 0.870832707718742, 0.3214743207190739], [\"Cutout\", 0.6805560681792573, 0.6984188155282459]], [[\"TranslateX\", 0.4157118388833776, 0.3964216288135384], [\"TranslateX\", 0.3253012682285006, 0.624835513104391]], [[\"Contrast\", 0.7678168037628158, 0.31033802162621793], [\"ShearX\", 0.27022424855977134, 0.3773245605126201]], [[\"TranslateX\", 0.37812621869017593, 0.7657993810740699], [\"Rotate\", 0.18081890120092914, 0.8893511219618171]], [[\"Posterize\", 0.8735859716088367, 0.18243793043074286], [\"TranslateX\", 0.90435994250313, 0.24116383818819453]], [[\"Invert\", 0.06666709253664793, 0.3881076083593933], [\"TranslateX\", 0.3783333964963522, 0.14411014979589543]], [[\"Equalize\", 0.8741147867162096, 0.14203839235846816], [\"TranslateX\", 0.7801536758037405, 0.6952401607812743]], [[\"Cutout\", 0.6095335117944475, 0.5679026063718094], [\"Posterize\", 0.06433868172233115, 0.07139559616012303]], [[\"TranslateY\", 0.3020364047315408, 0.21459810361176246], [\"Cutout\", 0.7097677414888889, 0.2942144632587549]], [[\"Brightness\", 0.8223662419048653, 0.195700694016108], [\"Invert\", 0.09345407040803999, 0.779843655582099]], [[\"TranslateY\", 0.7353462929356228, 0.0468520680237382], [\"Cutout\", 0.36530918247940425, 0.3897292909049672]], [[\"Invert\", 0.9676896451721213, 0.24473302189463453], [\"Invert\", 0.7369271521408992, 0.8193267003356975]], [[\"Sharpness\", 0.8691871972054326, 0.4441713912682772], [\"ShearY\", 0.47385584832119887, 0.23521684584675429]], [[\"ShearY\", 0.9266946026184021, 0.7611986713358834], [\"TranslateX\", 0.6195820760253926, 0.14661428669483678]], [[\"Sharpness\", 0.08470870576026868, 0.3380219099907229], [\"TranslateX\", 0.3062343307496658, 0.7135777338095889]], [[\"Sharpness\", 0.5246448204194909, 0.3193061215236702], [\"ShearX\", 0.8160637208508432, 0.9720697396582731]], [[\"Posterize\", 0.5249259956549405, 0.3492042382504774], [\"Invert\", 0.8183138799547441, 0.11107271762524618]], [[\"TranslateY\", 0.210869733350744, 0.7138905840721885], [\"Sharpness\", 0.7773226404450125, 0.8005353621959782]], [[\"Posterize\", 0.33067522385556025, 0.32046239220630124], [\"AutoContrast\", 0.18918147708798405, 0.4646281070474484]], [[\"TranslateX\", 0.929502026131094, 0.8029128121556285], [\"Invert\", 0.7319794306118105, 0.5421878712623392]], [[\"ShearX\", 0.25645940834182723, 0.42754710760160963], [\"ShearX\", 0.44640695310173306, 0.8132185532296811]], [[\"Color\", 0.018436846416536312, 0.8439313862001113], [\"Sharpness\", 0.3722867661453415, 0.5103570873163251]], [[\"TranslateX\", 0.7285989086776543, 0.4809027697099264], [\"TranslateY\", 0.9740807004893643, 0.8241085438636939]], [[\"Posterize\", 0.8721868989693397, 0.5700907310383815], [\"Posterize\", 0.4219074410577852, 0.8032643572845402]], [[\"Contrast\", 0.9811380092558266, 0.8498397471632105], [\"Sharpness\", 0.8380884329421594, 0.18351306571903125]], [[\"TranslateY\", 0.3878939366762001, 0.4699103438753077], [\"Invert\", 0.6055556353233807, 0.8774727658400134]], [[\"TranslateY\", 0.052317005261018346, 0.39471450378745787], [\"ShearX\", 0.8612486845942395, 0.28834103278807466]], [[\"Color\", 0.511993351208063, 0.07251427040525904], [\"Solarize\", 0.9898097047354855, 0.299761565689576]], [[\"Equalize\", 0.2721248231619904, 0.6870975927455507], [\"Cutout\", 0.8787327242363994, 0.06228061428917098]], [[\"Invert\", 0.8931880335225408, 0.49720931867378193], [\"Posterize\", 0.9619698792159256, 0.17859639696940088]], [[\"Posterize\", 0.0061688075074411985, 0.08082938731035938], [\"Brightness\", 0.27745128028826993, 0.8638528796903816]], [[\"ShearY\", 0.9140200609222026, 0.8240421430867707], [\"Invert\", 0.651734417415332, 0.08871906369930926]], [[\"Color\", 0.45585010413511196, 0.44705070078574316], [\"Color\", 0.26394624901633146, 0.11242877788650807]], [[\"ShearY\", 0.9200278466372522, 0.2995901331149652], [\"Cutout\", 0.8445407215116278, 0.7410524214287446]], [[\"ShearY\", 0.9950483746990132, 0.112964468262847], [\"ShearY\", 0.4118332303218585, 0.44839613407553636]], [[\"Contrast\", 0.7905821952255192, 0.23360046159385106], [\"Posterize\", 0.8611787233956044, 0.8984260048943528]], [[\"TranslateY\", 0.21448061359312853, 0.8228112806838331], [\"Contrast\", 0.8992297266152983, 0.9179231590570998]], [[\"Invert\", 0.3924194798946006, 0.31830516468371495], [\"Rotate\", 0.8399556845248508, 0.3764892022932781]], [[\"Cutout\", 0.7037916990046816, 0.9214620769502728], [\"AutoContrast\", 0.02913794613018239, 0.07808607528954048]], [[\"ShearY\", 0.6041490474263381, 0.6094184590800105], [\"Equalize\", 0.2932954517354919, 0.5840888946081727]], [[\"ShearX\", 0.6056801676269449, 0.6948580442549543], [\"Cutout\", 0.3028001021044615, 0.15117101733894078]], [[\"Brightness\", 0.8011486803860253, 0.18864079729374195], [\"Solarize\", 0.014965327213230961, 0.8842620292527029]], [[\"Invert\", 0.902244007904273, 0.5634673798052033], [\"Equalize\", 0.13422913507398349, 0.4110956745883727]], [[\"TranslateY\", 0.9981773319103838, 0.09568550987216096], [\"Color\", 0.7627662124105109, 0.8494409737419493]], [[\"Cutout\", 0.3013527640416782, 0.03377226729898486], [\"ShearX\", 0.5727964831614619, 0.8784196638222834]], [[\"TranslateX\", 0.6050722426803684, 0.3650103962378708], [\"TranslateX\", 0.8392084589130886, 0.6479816470292911]], [[\"Rotate\", 0.5032806606500023, 0.09276980118866307], [\"TranslateY\", 0.7800234515261191, 0.18896454379343308]], [[\"Invert\", 0.9266027256244017, 0.8246111062199752], [\"Contrast\", 0.12112023357797697, 0.33870762271759436]], [[\"Brightness\", 0.8688784756993134, 0.17263759696106606], [\"ShearX\", 0.5133700431071326, 0.6686811994542494]], [[\"Invert\", 0.8347840440941976, 0.03774897445901726], [\"Brightness\", 0.24925057499276548, 0.04293631677355758]], [[\"Color\", 0.5998145279485104, 0.4820093200092529], [\"TranslateY\", 0.6709586184077769, 0.07377334081382858]], [[\"AutoContrast\", 0.7898846202957984, 0.325293526672498], [\"Contrast\", 0.5156435596826767, 0.2889223168660645]], [[\"ShearX\", 0.08147389674998307, 0.7978924681113669], [\"Contrast\", 0.7270003309106291, 0.009571215234092656]], [[\"Sharpness\", 0.417607614440786, 0.9532566433338661], [\"Posterize\", 0.7186586546796782, 0.6936509907073302]], [[\"ShearX\", 0.9555300215926675, 0.1399385550263872], [\"Color\", 0.9981041061848231, 0.5037462398323248]], [[\"Equalize\", 0.8003487831375474, 0.5413759363796945], [\"ShearY\", 0.0026607045117773565, 0.019262273030984933]], [[\"TranslateY\", 0.04845391502469176, 0.10063445212118283], [\"Cutout\", 0.8273170186786745, 0.5045257728554577]], [[\"TranslateX\", 0.9690985344978033, 0.505202991815533], [\"TranslateY\", 0.7255326592928096, 0.02103609500701631]], [[\"Solarize\", 0.4030771176836736, 0.8424237871457034], [\"Cutout\", 0.28705805963928965, 0.9601617893682582]], [[\"Sharpness\", 0.16865290353070606, 0.6899673563468826], [\"Posterize\", 0.3985430034869616, 0.6540651997730774]], [[\"ShearY\", 0.21395578485362032, 0.09519358818949009], [\"Solarize\", 0.6692821708524135, 0.6462523623552485]], [[\"AutoContrast\", 0.912360598054091, 0.029800239085051583], [\"Invert\", 0.04319256403746308, 0.7712501517098587]], [[\"ShearY\", 0.9081969961839055, 0.4581560239984739], [\"AutoContrast\", 0.5313894814729159, 0.5508393335751848]], [[\"ShearY\", 0.860528568424097, 0.8196987216301588], [\"Posterize\", 0.41134650331494205, 0.3686632018978778]], [[\"AutoContrast\", 0.8753670810078598, 0.3679438326304749], [\"Invert\", 0.010444228965415858, 0.9581244779208277]], [[\"Equalize\", 0.07071836206680682, 0.7173594756186462], [\"Brightness\", 0.06111434312497388, 0.16175064669049277]], [[\"AutoContrast\", 0.10522219073562122, 0.9768776621069855], [\"TranslateY\", 0.2744795945215529, 0.8577967957127298]], [[\"AutoContrast\", 0.7628146493166175, 0.996157376418147], [\"Contrast\", 0.9255565598518469, 0.6826126662976868]], [[\"TranslateX\", 0.017225816199011312, 0.2470332491402908], [\"Solarize\", 0.44048494909493807, 0.4492422515972162]], [[\"ShearY\", 0.38885252627795064, 0.10272256704901939], [\"Equalize\", 0.686154959829183, 0.8973517148655337]], [[\"Rotate\", 0.29628991573592967, 0.16639926575004715], [\"ShearX\", 0.9013782324726413, 0.0838318162771563]], [[\"Color\", 0.04968391374688563, 0.6138600739645352], [\"Invert\", 0.11177127838716283, 0.10650198522261578]], [[\"Invert\", 0.49655016367624016, 0.8603374164829688], [\"ShearY\", 0.40625439617553727, 0.4516437918820778]], [[\"TranslateX\", 0.15015718916062992, 0.13867777502116208], [\"Brightness\", 0.3374464418810188, 0.7613355669536931]], [[\"Invert\", 0.644644393321966, 0.19005804481199562], [\"AutoContrast\", 0.2293259789431853, 0.30335723256340186]], [[\"Solarize\", 0.004968793254801596, 0.5370892072646645], [\"Contrast\", 0.9136902637865596, 0.9510587477779084]], [[\"Rotate\", 0.38991518440867123, 0.24796987467455756], [\"Sharpness\", 0.9911180315669776, 0.5265657122981591]], [[\"Solarize\", 0.3919646484436238, 0.6814994037194909], [\"Sharpness\", 0.4920838987787103, 0.023425724294012018]], [[\"TranslateX\", 0.25107587874378867, 0.5414936560189212], [\"Cutout\", 0.7932919623814599, 0.9891303444820169]], [[\"Brightness\", 0.07863012174272999, 0.045175652208389594], [\"Solarize\", 0.889609658064552, 0.8228793315963948]], [[\"Cutout\", 0.20477096178169596, 0.6535063675027364], [\"ShearX\", 0.9216318577173639, 0.2908690977359947]], [[\"Contrast\", 0.7035118947423187, 0.45982709058312454], [\"Contrast\", 0.7130268070749464, 0.8635123354235471]], [[\"Sharpness\", 0.26319477541228997, 0.7451278726847078], [\"Rotate\", 0.8170499362173754, 0.13998593411788207]], [[\"Rotate\", 0.8699365715164192, 0.8878057721750832], [\"Equalize\", 0.06682350555715044, 0.7164702080630689]], [[\"ShearY\", 0.3137466057521987, 0.6747433496011368], [\"Rotate\", 0.42118828936218133, 0.980121180104441]], [[\"Solarize\", 0.8470375049950615, 0.15287589264139223], [\"Cutout\", 0.14438435054693055, 0.24296463267973512]], [[\"TranslateY\", 0.08822241792224905, 0.36163911974799356], [\"TranslateY\", 0.11729726813270003, 0.6230889726445291]], [[\"ShearX\", 0.7720112337718541, 0.2773292905760122], [\"Sharpness\", 0.756290929398613, 0.27830353710507705]], [[\"Color\", 0.33825031007968287, 0.4657590047522816], [\"ShearY\", 0.3566628994713067, 0.859750504071925]], [[\"TranslateY\", 0.06830147433378053, 0.9348778582086664], [\"TranslateX\", 0.15509346516378553, 0.26320778885339435]], [[\"Posterize\", 0.20266751150740858, 0.008351463842578233], [\"Sharpness\", 0.06506971109417259, 0.7294471760284555]], [[\"TranslateY\", 0.6278911394418829, 0.8702181892620695], [\"Invert\", 0.9367073860264247, 0.9219230428944211]], [[\"Sharpness\", 0.1553425337673321, 0.17601557714491345], [\"Solarize\", 0.7040449681338888, 0.08764313147327729]], [[\"Equalize\", 0.6082233904624664, 0.4177428549911376], [\"AutoContrast\", 0.04987405274618151, 0.34516208204700916]], [[\"Brightness\", 0.9616085936167699, 0.14561237331885468], [\"Solarize\", 0.8927707736296572, 0.31176907850205704]], [[\"Brightness\", 0.6707778304730988, 0.9046457117525516], [\"Brightness\", 0.6801448953060988, 0.20015313057149042]], [[\"Color\", 0.8292680845499386, 0.5181603879593888], [\"Brightness\", 0.08549161770369762, 0.6567870536463203]], [[\"ShearY\", 0.267802208078051, 0.8388133819588173], [\"Sharpness\", 0.13453409120796123, 0.10028351311149486]], [[\"Posterize\", 0.775796593610272, 0.05359034561289766], [\"Cutout\", 0.5067360625733027, 0.054451986840317934]], [[\"TranslateX\", 0.5845238647690084, 0.7507147553486293], [\"Brightness\", 0.2642051786121197, 0.2578358927056452]], [[\"Cutout\", 0.10787517610922692, 0.8147986902794228], [\"Contrast\", 0.2190149206329539, 0.902210615462459]], [[\"TranslateX\", 0.5663614214181296, 0.05309965916414028], [\"ShearX\", 0.9682797885154938, 0.41791929533938466]], [[\"ShearX\", 0.2345325577621098, 0.383780128037189], [\"TranslateX\", 0.7298083748149163, 0.644325797667087]], [[\"Posterize\", 0.5138725709682734, 0.7901809917259563], [\"AutoContrast\", 0.7966018627776853, 0.14529337543427345]], [[\"Invert\", 0.5973031989249785, 0.417399314592829], [\"Solarize\", 0.9147539948653116, 0.8221272315548086]], [[\"Posterize\", 0.601596043336383, 0.18969646160963938], [\"Color\", 0.7527275484079655, 0.431793831326888]], [[\"Equalize\", 0.6731483454430538, 0.7866786558207602], [\"TranslateX\", 0.97574396899191, 0.5970255778044692]], [[\"Cutout\", 0.15919495850169718, 0.8916094305850562], [\"Invert\", 0.8351348834751027, 0.4029937360314928]], [[\"Invert\", 0.5894085405226027, 0.7283806854157764], [\"Brightness\", 0.3973976860470554, 0.949681121498567]], [[\"AutoContrast\", 0.3707914135327408, 0.21192068592079616], [\"ShearX\", 0.28040127351140676, 0.6754553511344856]], [[\"Solarize\", 0.07955132378694896, 0.15073572961927306], [\"ShearY\", 0.5735850168851625, 0.27147326850217746]], [[\"Equalize\", 0.678653949549764, 0.8097796067861455], [\"Contrast\", 0.2283048527510083, 0.15507804874474185]], [[\"Equalize\", 0.286013868374536, 0.186785848694501], [\"Posterize\", 0.16319021740810458, 0.1201304443285659]], [[\"Sharpness\", 0.9601590830563757, 0.06267915026513238], [\"AutoContrast\", 0.3813920685124327, 0.294224403296912]], [[\"Brightness\", 0.2703246632402241, 0.9168405377492277], [\"ShearX\", 0.6156009855831097, 0.4955986055846403]], [[\"Color\", 0.9065504424987322, 0.03393612216080133], [\"ShearY\", 0.6768595880405884, 0.9981068127818191]], [[\"Equalize\", 0.28812842368483904, 0.300387487349145], [\"ShearY\", 0.28812248704858345, 0.27105076231533964]], [[\"Brightness\", 0.6864882730513477, 0.8205553299102412], [\"Cutout\", 0.45995236371265424, 0.5422030370297759]], [[\"Color\", 0.34941404877084326, 0.25857961830158516], [\"AutoContrast\", 0.3451390878441899, 0.5000938249040454]], [[\"Invert\", 0.8268247541815854, 0.6691380821226468], [\"Cutout\", 0.46489193601530476, 0.22620873109485895]], [[\"Rotate\", 0.17879730528062376, 0.22670425330593935], [\"Sharpness\", 0.8692795688221834, 0.36586055020855723]], [[\"Brightness\", 0.31203975139659634, 0.6934046293010939], [\"Cutout\", 0.31649437872271236, 0.08078625004157935]], [[\"Cutout\", 0.3119482836150119, 0.6397160035509996], [\"Contrast\", 0.8311248624784223, 0.22897510169718616]], [[\"TranslateX\", 0.7631157841429582, 0.6482890521284557], [\"Brightness\", 0.12681196272427664, 0.3669813784257344]], [[\"TranslateX\", 0.06027722649179801, 0.3101104512201861], [\"Sharpness\", 0.5652076706249394, 0.05210008400968136]], [[\"AutoContrast\", 0.39213552101583127, 0.5047021194355596], [\"ShearY\", 0.7164003055682187, 0.8063370761002899]], [[\"Solarize\", 0.9574307011238342, 0.21472064809226854], [\"AutoContrast\", 0.8102612285047174, 0.716870148067014]], [[\"Rotate\", 0.3592634277567387, 0.6452602893051465], [\"AutoContrast\", 0.27188430331411506, 0.06003099168464854]], [[\"Cutout\", 0.9529536554825503, 0.5285505311027461], [\"Solarize\", 0.08478231903311029, 0.15986449762728216]], [[\"TranslateY\", 0.31176130458018936, 0.5642853506158253], [\"Equalize\", 0.008890883901317648, 0.5146121040955942]], [[\"Color\", 0.40773645085566157, 0.7110398926612682], [\"Color\", 0.18233100156439364, 0.7830036002758337]], [[\"Posterize\", 0.5793809197821732, 0.043748553135581236], [\"Invert\", 0.4479962016131668, 0.7349663010359488]], [[\"TranslateX\", 0.1994882312299382, 0.05216859488899439], [\"Rotate\", 0.48288726352035416, 0.44713829026777585]], [[\"Posterize\", 0.22122838185154603, 0.5034546841241283], [\"TranslateX\", 0.2538745835410222, 0.6129055170893385]], [[\"Color\", 0.6786559960640814, 0.4529749369803212], [\"Equalize\", 0.30215879674415336, 0.8733394611096772]], [[\"Contrast\", 0.47316062430673456, 0.46669538897311447], [\"Invert\", 0.6514906551984854, 0.3053339444067804]], [[\"Equalize\", 0.6443202625334524, 0.8689731394616441], [\"Color\", 0.7549183794057628, 0.8889001426329578]], [[\"Solarize\", 0.616709740662654, 0.7792180816399313], [\"ShearX\", 0.9659155537406062, 0.39436937531179495]], [[\"Equalize\", 0.23694011299406226, 0.027711152164392128], [\"TranslateY\", 0.1677339686527083, 0.3482126536808231]], [[\"Solarize\", 0.15234175951790285, 0.7893840414281341], [\"TranslateX\", 0.2396395768284183, 0.27727219214979715]], [[\"Contrast\", 0.3792017455380605, 0.32323660409845334], [\"Contrast\", 0.1356037413846466, 0.9127772969992305]], [[\"ShearX\", 0.02642732222284716, 0.9184662576502115], [\"Equalize\", 0.11504884472142995, 0.8957638893097964]], [[\"TranslateY\", 0.3193812913345325, 0.8828100030493128], [\"ShearY\", 0.9374975727563528, 0.09909415611083694]], [[\"AutoContrast\", 0.025840721736048122, 0.7941037581373024], [\"TranslateY\", 0.498518003323313, 0.5777122846572548]], [[\"ShearY\", 0.6042199307830248, 0.44809668754508836], [\"Cutout\", 0.3243978207701482, 0.9379740926294765]], [[\"ShearY\", 0.6858549297583574, 0.9993252035788924], [\"Sharpness\", 0.04682428732773203, 0.21698099707915652]], [[\"ShearY\", 0.7737469436637263, 0.8810127181224531], [\"ShearY\", 0.8995655445246451, 0.4312416220354539]], [[\"TranslateY\", 0.4953094136709374, 0.8144161580138571], [\"Solarize\", 0.26301211718928097, 0.518345311180405]], [[\"Brightness\", 0.8820246486031275, 0.571075863786249], [\"ShearX\", 0.8586669146703955, 0.0060476383595142735]], [[\"Sharpness\", 0.20519233710982254, 0.6144574759149729], [\"Posterize\", 0.07976625267460813, 0.7480145046726968]], [[\"ShearY\", 0.374075419680195, 0.3386105402023202], [\"ShearX\", 0.8228083637082115, 0.5885174783155361]], [[\"Brightness\", 0.3528780713814561, 0.6999884884306623], [\"Sharpness\", 0.3680348120526238, 0.16953358258959617]], [[\"Brightness\", 0.24891223104442084, 0.7973853494920095], [\"TranslateX\", 0.004256803835524736, 0.0470216343108546]], [[\"Posterize\", 0.1947344282646012, 0.7694802711054367], [\"Cutout\", 0.9594385534844785, 0.5469744140592429]], [[\"Invert\", 0.19012504762806026, 0.7816140211434693], [\"TranslateY\", 0.17479746932338402, 0.024249345245078602]], [[\"Rotate\", 0.9669262055946796, 0.510166180775991], [\"TranslateX\", 0.8990602034610352, 0.6657802719304693]], [[\"ShearY\", 0.5453049050407278, 0.8476872739603525], [\"Cutout\", 0.14226529093962592, 0.15756960661106634]], [[\"Equalize\", 0.5895291156113004, 0.6797218994447763], [\"TranslateY\", 0.3541442192192753, 0.05166001155849864]], [[\"Equalize\", 0.39530681662726097, 0.8448335365081087], [\"Brightness\", 0.6785483272734143, 0.8805568647038574]], [[\"Cutout\", 0.28633258271917905, 0.7750870268336066], [\"Equalize\", 0.7221097824537182, 0.5865506280531162]], [[\"Posterize\", 0.9044429629421187, 0.4620266401793388], [\"Invert\", 0.1803008045494473, 0.8073190766288534]], [[\"Sharpness\", 0.7054649148075851, 0.3877207948962055], [\"TranslateX\", 0.49260224225927285, 0.8987462620731029]], [[\"Sharpness\", 0.11196934729294483, 0.5953704422694938], [\"Contrast\", 0.13969334315069737, 0.19310569898434204]], [[\"Posterize\", 0.5484346101051778, 0.7914140118600685], [\"Brightness\", 0.6428044691630473, 0.18811316670808076]], [[\"Invert\", 0.22294834094984717, 0.05173157689962704], [\"Cutout\", 0.6091129168510456, 0.6280845506243643]], [[\"AutoContrast\", 0.5726444076195267, 0.2799840903601295], [\"Cutout\", 0.3055752727786235, 0.591639807512993]], [[\"Brightness\", 0.3707116723204462, 0.4049175910826627], [\"Rotate\", 0.4811601625588309, 0.2710760253723644]], [[\"ShearY\", 0.627791719653608, 0.6877498291550205], [\"TranslateX\", 0.8751753308366824, 0.011164650018719358]], [[\"Posterize\", 0.33832547954522263, 0.7087039872581657], [\"Posterize\", 0.6247474435007484, 0.7707784192114796]], [[\"Contrast\", 0.17620186308493468, 0.9946224854942095], [\"Solarize\", 0.5431896088395964, 0.5867904203742308]], [[\"ShearX\", 0.4667959516719652, 0.8938082224109446], [\"TranslateY\", 0.7311343008292865, 0.6829842246020277]], [[\"ShearX\", 0.6130281467237769, 0.9924010909612302], [\"Brightness\", 0.41039241699696916, 0.9753218875311392]], [[\"TranslateY\", 0.0747250386427123, 0.34602725521067534], [\"Rotate\", 0.5902597465515901, 0.361094672021087]], [[\"Invert\", 0.05234890878959486, 0.36914978664919407], [\"Sharpness\", 0.42140532878231374, 0.19204058551048275]], [[\"ShearY\", 0.11590485361909497, 0.6518540857972316], [\"Invert\", 0.6482444740361704, 0.48256237896163945]], [[\"Rotate\", 0.4931329446923608, 0.037076242417301675], [\"Contrast\", 0.9097939772412852, 0.5619594905306389]], [[\"Posterize\", 0.7311032479626216, 0.4796364593912915], [\"Color\", 0.13912123993932402, 0.03997286439663705]], [[\"AutoContrast\", 0.6196602944085344, 0.2531430457527588], [\"Rotate\", 0.5583937060431972, 0.9893379795224023]], [[\"AutoContrast\", 0.8847753125072959, 0.19123028952580057], [\"TranslateY\", 0.494361716097206, 0.14232297727461696]], [[\"Invert\", 0.6212360716340707, 0.033898871473033165], [\"AutoContrast\", 0.30839896957008295, 0.23603569542166247]], [[\"Equalize\", 0.8255583546605049, 0.613736933157845], [\"AutoContrast\", 0.6357166629525485, 0.7894617347709095]], [[\"Brightness\", 0.33840706322846814, 0.07917167871493658], [\"ShearY\", 0.15693175752528676, 0.6282773652129153]], [[\"Cutout\", 0.7550520024859294, 0.08982367300605598], [\"ShearX\", 0.5844942417320858, 0.36051195083380105]]]\n",
        "    return p"
      ],
      "execution_count": 0,
      "outputs": []
    },
    {
      "cell_type": "code",
      "metadata": {
        "id": "njzr24IFVEA_",
        "colab_type": "code",
        "colab": {}
      },
      "source": [
        "def training_validation_set_split(x_train, y_train, labeled_samples_per_class, fix_validation_size=True,\n",
        "                                  validation_split=0.2, shuffle=True, n_classes=10):\n",
        "    assert len(x_train) == len(y_train), \"x_train and y_train lengths do not match.\"\n",
        "\n",
        "    labeled_training_idx = []\n",
        "    labeled_validation_idx = []\n",
        "    unlabeled_training_idx = []\n",
        "\n",
        "    if fix_validation_size is True:\n",
        "        n_train_per_class = labeled_samples_per_class\n",
        "        n_val_per_class = 500\n",
        "    else:\n",
        "        n_val_per_class = int(labeled_samples_per_class * validation_split)\n",
        "        n_train_per_class = labeled_samples_per_class - n_val_per_class\n",
        "\n",
        "    for class_idx in range(n_classes):\n",
        "        indices = np.where(y_train == class_idx)[0]\n",
        "        if shuffle is True:\n",
        "            np.random.shuffle(indices)\n",
        "\n",
        "        labeled_training_idx.extend(indices[:n_train_per_class])\n",
        "        labeled_validation_idx.extend(indices[-n_val_per_class:])\n",
        "        unlabeled_training_idx.extend(indices[n_train_per_class:-n_val_per_class])\n",
        "\n",
        "    np.random.shuffle(labeled_training_idx)\n",
        "    np.random.shuffle(labeled_validation_idx)\n",
        "    np.random.shuffle(unlabeled_training_idx)\n",
        "\n",
        "    x_labeled_training = x_train[labeled_training_idx]\n",
        "    y_labeled_training = y_train[labeled_training_idx]\n",
        "\n",
        "    x_labeled_validation = x_train[labeled_validation_idx]\n",
        "    y_labeled_validation = y_train[labeled_validation_idx]\n",
        "\n",
        "    x_unlabeled_training = x_train[unlabeled_training_idx]\n",
        "\n",
        "    return x_labeled_training, y_labeled_training, x_labeled_validation, y_labeled_validation, x_unlabeled_training\n",
        "\n",
        "def preprocess_splits(x_labeled_training, y_labeled_training, x_labeled_validation, y_labeled_validation,\n",
        "                      x_unlabeled_training, n_classes):\n",
        "    x_labeled_training = x_labeled_training.astype('float32')\n",
        "    x_labeled_validation = x_labeled_validation.astype('float32')\n",
        "    x_unlabeled_training = x_unlabeled_training.astype('float32')\n",
        "    x_labeled_training /= 255.\n",
        "    x_labeled_validation /= 255.\n",
        "    x_unlabeled_training /= 255.\n",
        "    y_labeled_training = tf.keras.utils.to_categorical(y_labeled_training, n_classes)\n",
        "    y_labeled_validation = tf.keras.utils.to_categorical(y_labeled_validation, n_classes)\n",
        "\n",
        "    return x_labeled_training, y_labeled_training, x_labeled_validation, y_labeled_validation, x_unlabeled_training\n",
        "\n",
        "def get_labeled_training_dataset(x_labeled_training, y_labeled_training, batch_size):\n",
        "    labeled_train_dataset = tf.data.Dataset.from_tensor_slices((x_labeled_training, y_labeled_training))\n",
        "    labeled_train_dataset = labeled_train_dataset.batch(batch_size, drop_remainder=True)\n",
        "    return labeled_train_dataset\n"
      ],
      "execution_count": 0,
      "outputs": []
    },
    {
      "cell_type": "code",
      "metadata": {
        "colab_type": "code",
        "id": "8SFLNROlGGVy",
        "colab": {}
      },
      "source": [
        "import random\n",
        "def fa_reduced_cifar10():\n",
        "    p = [[[\"Contrast\", 0.8320659688593578, 0.49884310562180767], [\"TranslateX\", 0.41849883971249136, 0.394023086494538]], [[\"Color\", 0.3500483749890918, 0.43355143929883955], [\"Color\", 0.5120716140300229, 0.7508299643325016]], [[\"Rotate\", 0.9447932604389472, 0.29723465088990375], [\"Sharpness\", 0.1564936149799504, 0.47169309978091745]], [[\"Rotate\", 0.5430015349185097, 0.6518626678905443], [\"Color\", 0.5694844928020679, 0.3494533005430269]], [[\"AutoContrast\", 0.5558922032451064, 0.783136004977799], [\"TranslateY\", 0.683914191471972, 0.7597025305860181]], [[\"TranslateX\", 0.03489224481658926, 0.021025488042663354], [\"Equalize\", 0.4788637403857401, 0.3535481281496117]], [[\"Sharpness\", 0.6428916269794158, 0.22791511918580576], [\"Contrast\", 0.016014045073950323, 0.26811312269487575]], [[\"Rotate\", 0.2972727228410451, 0.7654251516829896], [\"AutoContrast\", 0.16005809254943348, 0.5380523650108116]], [[\"Contrast\", 0.5823671057717301, 0.7521166301398389], [\"TranslateY\", 0.9949449214751978, 0.9612671341689751]], [[\"Equalize\", 0.8372126687702321, 0.6944127225621206], [\"Rotate\", 0.25393282929784755, 0.3261658365286546]], [[\"Invert\", 0.8222011603194572, 0.6597915864008403], [\"Posterize\", 0.31858707654447327, 0.9541013715579584]], [[\"Sharpness\", 0.41314621282107045, 0.9437344470879956], [\"Cutout\", 0.6610495837889337, 0.674411664255093]], [[\"Contrast\", 0.780121736705407, 0.40826152397463156], [\"Color\", 0.344019192125256, 0.1942922781355767]], [[\"Rotate\", 0.17153139555621344, 0.798745732456474], [\"Invert\", 0.6010555860501262, 0.320742172554767]], [[\"Invert\", 0.26816063450777416, 0.27152062163148327], [\"Equalize\", 0.6786829200236982, 0.7469412443514213]], [[\"Contrast\", 0.3920564414367518, 0.7493644582838497], [\"TranslateY\", 0.8941657805606704, 0.6580846856375955]], [[\"Equalize\", 0.875509207399372, 0.9061130537645283], [\"Cutout\", 0.4940280679087308, 0.7896229623628276]], [[\"Contrast\", 0.3331423298065147, 0.7170041362529597], [\"ShearX\", 0.7425484291842793, 0.5285117152426109]], [[\"Equalize\", 0.97344237365026, 0.4745759720473106], [\"TranslateY\", 0.055863458430295276, 0.9625142022954672]], [[\"TranslateX\", 0.6810614083109192, 0.7509937355495521], [\"TranslateY\", 0.3866463019475701, 0.5185481505576112]], [[\"Sharpness\", 0.4751529944753671, 0.550464012488733], [\"Cutout\", 0.9472914750534814, 0.5584925992985023]], [[\"Contrast\", 0.054606784909375095, 0.17257080196712182], [\"Cutout\", 0.6077026782754803, 0.7996504165944938]], [[\"ShearX\", 0.328798428243695, 0.2769563264079157], [\"Cutout\", 0.9037632437023772, 0.4915809476763595]], [[\"Cutout\", 0.6891202672363478, 0.9951490996172914], [\"Posterize\", 0.06532762462628705, 0.4005246609075227]], [[\"TranslateY\", 0.6908583592523334, 0.725612120376128], [\"Rotate\", 0.39907735501746666, 0.36505798032223147]], [[\"TranslateX\", 0.10398364107399072, 0.5913918470536627], [\"Rotate\", 0.7169811539340365, 0.8283850670648724]], [[\"ShearY\", 0.9526373530768361, 0.4482347365639251], [\"Contrast\", 0.4203947336351471, 0.41526799558953864]], [[\"Contrast\", 0.24894431199700073, 0.09578870500994707], [\"Solarize\", 0.2273713345927395, 0.6214942914963707]], [[\"TranslateX\", 0.06331228870032912, 0.8961907489444944], [\"Cutout\", 0.5110007859958743, 0.23704875994050723]], [[\"Cutout\", 0.3769183548846172, 0.6560944580253987], [\"TranslateY\", 0.7201924599434143, 0.4132476526938319]], [[\"Invert\", 0.6707431156338866, 0.11622795952464149], [\"Posterize\", 0.12075972752370845, 0.18024933294172307]], [[\"Color\", 0.5010057264087142, 0.5277767327434318], [\"Rotate\", 0.9486115946366559, 0.31485546630220784]], [[\"ShearX\", 0.31741302466630406, 0.1991215806270692], [\"Invert\", 0.3744727015523084, 0.6914113986757578]], [[\"Brightness\", 0.40348479064392617, 0.8924182735724888], [\"Brightness\", 0.1973098763857779, 0.3939288933689655]], [[\"Color\", 0.01208688664030888, 0.6055693000885217], [\"Equalize\", 0.433259451147881, 0.420711137966155]], [[\"Cutout\", 0.2620018360076487, 0.11594468278143644], [\"Rotate\", 0.1310401567856766, 0.7244318146544101]], [[\"ShearX\", 0.15249651845933576, 0.35277277071866986], [\"Contrast\", 0.28221794032094016, 0.42036586509397444]], [[\"Brightness\", 0.8492912150468908, 0.26386920887886056], [\"Solarize\", 0.8764208056263386, 0.1258195122766067]], [[\"ShearX\", 0.8537058239675831, 0.8415101816171269], [\"AutoContrast\", 0.23958568830416294, 0.9889049529564014]], [[\"Rotate\", 0.6463207930684552, 0.8750192129056532], [\"Contrast\", 0.6865032211768652, 0.8564981333033417]], [[\"Equalize\", 0.8877190311811044, 0.7370995897848609], [\"TranslateX\", 0.9979660314391368, 0.005683998913244781]], [[\"Color\", 0.6420017551677819, 0.6225337265571229], [\"Solarize\", 0.8344504978566362, 0.8332856969941151]], [[\"ShearX\", 0.7439332981992567, 0.9747608698582039], [\"Equalize\", 0.6259189804002959, 0.028017478098245174]], [[\"TranslateY\", 0.39794770293366843, 0.8482966537902709], [\"Rotate\", 0.9312935630405351, 0.5300586925826072]], [[\"Cutout\", 0.8904075572021911, 0.3522934742068766], [\"Equalize\", 0.6431186289473937, 0.9930577962126151]], [[\"Contrast\", 0.9183553386089476, 0.44974266209396685], [\"TranslateY\", 0.8193684583123862, 0.9633741156526566]], [[\"ShearY\", 0.616078299924283, 0.19219314358924766], [\"Solarize\", 0.1480945914138868, 0.05922109541654652]], [[\"Solarize\", 0.25332455064128157, 0.18853037431947994], [\"ShearY\", 0.9518390093954243, 0.14603930044061142]], [[\"Color\", 0.8094378664335412, 0.37029830225408433], [\"Contrast\", 0.29504113617467465, 0.065096365468442]], [[\"AutoContrast\", 0.7075167558685455, 0.7084621693458267], [\"Sharpness\", 0.03555539453323875, 0.5651948313888351]], [[\"TranslateY\", 0.5969982600930229, 0.9857264201029572], [\"Rotate\", 0.9898628564873607, 0.1985685534926911]], [[\"Invert\", 0.14915939942810352, 0.6595839632446547], [\"Posterize\", 0.768535289994361, 0.5997358684618563]], [[\"Equalize\", 0.9162691815967111, 0.3331035307653627], [\"Color\", 0.8169118187605557, 0.7653910258006366]], [[\"Rotate\", 0.43489185299530897, 0.752215269135173], [\"Brightness\", 0.1569828560334806, 0.8002808712857853]], [[\"Invert\", 0.931876215328345, 0.029428644395760872], [\"Equalize\", 0.6330036052674145, 0.7235531014288485]], [[\"ShearX\", 0.5216138393704968, 0.849272958911589], [\"AutoContrast\", 0.19572688655120263, 0.9786551568639575]], [[\"ShearX\", 0.9899586208275011, 0.22580547500610293], [\"Brightness\", 0.9831311903178727, 0.5055159610855606]], [[\"Brightness\", 0.29179117009211486, 0.48003584672937294], [\"Solarize\", 0.7544252317330058, 0.05806581735063043]], [[\"AutoContrast\", 0.8919800329537786, 0.8511261613698553], [\"Contrast\", 0.49199446084551035, 0.7302297140181429]], [[\"Cutout\", 0.7079723710644835, 0.032565015538375874], [\"AutoContrast\", 0.8259782090388609, 0.7860708789468442]], [[\"Posterize\", 0.9980262659801914, 0.6725084224935673], [\"ShearY\", 0.6195568269664682, 0.5444170291816751]], [[\"Posterize\", 0.8687351834713217, 0.9978004914422602], [\"Equalize\", 0.4532646848325955, 0.6486748015710573]], [[\"Contrast\", 0.2713928776950594, 0.15255249557027806], [\"ShearY\", 0.9276834387970199, 0.5266542862333478]], [[\"AutoContrast\", 0.5240786618055582, 0.9325642258930253], [\"Cutout\", 0.38448627892037357, 0.21219415055662394]], [[\"TranslateX\", 0.4299517937295352, 0.20133751201386152], [\"TranslateX\", 0.6753468310276597, 0.6985621035400441]], [[\"Rotate\", 0.4006472499103597, 0.6704748473357586], [\"Equalize\", 0.674161668148079, 0.6528530101705237]], [[\"Equalize\", 0.9139902833674455, 0.9015103149680278], [\"Sharpness\", 0.7289667720691948, 0.7623606352376232]], [[\"Cutout\", 0.5911267429414259, 0.5953141187177585], [\"Rotate\", 0.5219064817468504, 0.11085141355857986]], [[\"TranslateX\", 0.3620095133946267, 0.26194039409492476], [\"Rotate\", 0.3929841359545597, 0.4913406720338047]], [[\"Invert\", 0.5175298901458896, 0.001661410821811482], [\"Invert\", 0.004656581318332242, 0.8157622192213624]], [[\"AutoContrast\", 0.013609693335051465, 0.9318651749409604], [\"Invert\", 0.8980844358979592, 0.2268511862780368]], [[\"ShearY\", 0.7717126261142194, 0.09975547983707711], [\"Equalize\", 0.7808494401429572, 0.4141412091009955]], [[\"TranslateX\", 0.5878675721341552, 0.29813268038163376], [\"Posterize\", 0.21257276051591356, 0.2837285296666412]], [[\"Brightness\", 0.4268335108566488, 0.4723784991635417], [\"Cutout\", 0.9386262901570471, 0.6597686851494288]], [[\"ShearX\", 0.8259423807590159, 0.6215304795389204], [\"Invert\", 0.6663365779667443, 0.7729669184580387]], [[\"ShearY\", 0.4801338723951297, 0.5220145420100984], [\"Solarize\", 0.9165803796596582, 0.04299335502862134]], [[\"Color\", 0.17621114853558817, 0.7092601754635434], [\"ShearX\", 0.9014406936728542, 0.6028711944367818]], [[\"Rotate\", 0.13073284972300658, 0.9088831512880851], [\"ShearX\", 0.4228105332316806, 0.7985249783662675]], [[\"Brightness\", 0.9182753692730031, 0.0063635477774044436], [\"Color\", 0.4279825602663798, 0.28727149118585327]], [[\"Equalize\", 0.578218285372267, 0.9611758542158054], [\"Contrast\", 0.5471552264150691, 0.8819635504027596]], [[\"Brightness\", 0.3208589067274543, 0.45324733565167497], [\"Solarize\", 0.5218455808633233, 0.5946097503647126]], [[\"Equalize\", 0.3790381278653, 0.8796082535775276], [\"Solarize\", 0.4875526773149246, 0.5186585878052613]], [[\"ShearY\", 0.12026461479557571, 0.1336953429068397], [\"Posterize\", 0.34373988646025766, 0.8557727670803785]], [[\"Cutout\", 0.2396745247507467, 0.8123036135209865], [\"Equalize\", 0.05022807681008945, 0.6648492261984383]], [[\"Brightness\", 0.35226676470748264, 0.5950011514888855], [\"Rotate\", 0.27555076067000894, 0.9170063321486026]], [[\"ShearX\", 0.320224630647278, 0.9683584649071976], [\"Invert\", 0.6905585196648905, 0.5929115667894518]], [[\"Color\", 0.9941395717559652, 0.7474441679798101], [\"Sharpness\", 0.7559998478658021, 0.6656052889626682]], [[\"ShearY\", 0.4004220568345669, 0.5737646992826074], [\"Equalize\", 0.9983495213746147, 0.8307907033362303]], [[\"Color\", 0.13726809242038207, 0.9378850119950549], [\"Equalize\", 0.9853362454752445, 0.42670264496554156]], [[\"Invert\", 0.13514636153298576, 0.13516363849081958], [\"Sharpness\", 0.2031189356693901, 0.6110226359872745]], [[\"TranslateX\", 0.7360305209630797, 0.41849698571655614], [\"Contrast\", 0.8972161549144564, 0.7820296625565641]], [[\"Color\", 0.02713118828682548, 0.717110684828096], [\"TranslateY\", 0.8118759006836348, 0.9120098002024992]], [[\"Sharpness\", 0.2915428949403711, 0.7630303724396518], [\"Solarize\", 0.22030536162851078, 0.38654526772661757]], [[\"Equalize\", 0.9949114839538582, 0.7193630656062793], [\"AutoContrast\", 0.00889496657931299, 0.2291400476524672]], [[\"Rotate\", 0.7120948976490488, 0.7804359309791055], [\"Cutout\", 0.10445418104923654, 0.8022999156052766]], [[\"Equalize\", 0.7941710117902707, 0.8648170634288153], [\"Invert\", 0.9235642581144047, 0.23810725859722381]], [[\"Cutout\", 0.3669397998623156, 0.42612815083245004], [\"Solarize\", 0.5896322046441561, 0.40525016166956795]], [[\"Color\", 0.8389858785714184, 0.4805764176488667], [\"Rotate\", 0.7483931487048825, 0.4731174601400677]], [[\"Sharpness\", 0.19006538611394763, 0.9480745790240234], [\"TranslateY\", 0.13904429049439282, 0.04117685330615939]], [[\"TranslateY\", 0.9958097661701637, 0.34853788612580905], [\"Cutout\", 0.2235829624082113, 0.3737887095480745]], [[\"ShearX\", 0.635453761342424, 0.6063917273421382], [\"Posterize\", 0.8738297843709666, 0.4893042590265556]], [[\"Brightness\", 0.7907245198402727, 0.7082189713070691], [\"Color\", 0.030313003541849737, 0.6927897798493439]], [[\"Cutout\", 0.6965622481073525, 0.8103522907758203], [\"ShearY\", 0.6186794303078708, 0.28640671575703547]], [[\"ShearY\", 0.43734910588450226, 0.32549342535621517], [\"ShearX\", 0.08154980987651872, 0.3286764923112455]], [[\"AutoContrast\", 0.5262462005050853, 0.8175584582465848], [\"Contrast\", 0.8683217097363655, 0.548776281479276]], [[\"ShearY\", 0.03957878500311707, 0.5102350637943197], [\"Rotate\", 0.13794708520303778, 0.38035687712954236]], [[\"Sharpness\", 0.634288567312677, 0.6387948309075822], [\"AutoContrast\", 0.13437288694693272, 0.7150448869023095]], [[\"Contrast\", 0.5198339640088544, 0.9409429390321714], [\"Cutout\", 0.09489154903321972, 0.6228488803821982]], [[\"Equalize\", 0.8955909061806043, 0.7727336527163008], [\"AutoContrast\", 0.6459479564441762, 0.7065467781139214]], [[\"Invert\", 0.07214420843537739, 0.15334721382249505], [\"ShearX\", 0.9242027778363903, 0.5809187849982554]], [[\"Equalize\", 0.9144084379856188, 0.9457539278608998], [\"Sharpness\", 0.14337499858300173, 0.5978054365425495]], [[\"Posterize\", 0.18894269796951202, 0.14676331276539045], [\"Equalize\", 0.846204299950047, 0.0720601838168885]], [[\"Contrast\", 0.47354445405741163, 0.1793650330107468], [\"Solarize\", 0.9086106327264657, 0.7578807802091502]], [[\"AutoContrast\", 0.11805466892967886, 0.6773620948318575], [\"TranslateX\", 0.584222568299264, 0.9475693349391936]], [[\"Brightness\", 0.5833017701352768, 0.6892593824176294], [\"AutoContrast\", 0.9073141314561828, 0.5823085733964589]], [[\"TranslateY\", 0.5711231614144834, 0.6436240447620021], [\"Contrast\", 0.21466964050052473, 0.8042843954486391]], [[\"Contrast\", 0.22967904487976765, 0.2343103109298762], [\"Invert\", 0.5502897289159286, 0.386181060792375]], [[\"Invert\", 0.7008423439928628, 0.4234003051405053], [\"Rotate\", 0.77270460187611, 0.6650852696828039]], [[\"Invert\", 0.050618322309703534, 0.24277027926683614], [\"TranslateX\", 0.789703489736613, 0.5116446685339312]], [[\"Color\", 0.363898083076868, 0.7870323584210503], [\"ShearY\", 0.009608425513626617, 0.6188625018465327]], [[\"TranslateY\", 0.9447601615216088, 0.8605867115798349], [\"Equalize\", 0.24139180127003634, 0.9587337957930782]], [[\"Equalize\", 0.3968589440144503, 0.626206375426996], [\"Solarize\", 0.3215967960673186, 0.826785464835443]], [[\"TranslateX\", 0.06947339047121326, 0.016705969558222122], [\"Contrast\", 0.6203392406528407, 0.6433525559906872]], [[\"Solarize\", 0.2479835265518212, 0.6335009955617831], [\"Sharpness\", 0.6260191862978083, 0.18998095149428562]], [[\"Invert\", 0.9818841924943431, 0.03252098144087934], [\"TranslateY\", 0.9740718042586802, 0.32038951753031475]], [[\"Solarize\", 0.8795784664090814, 0.7014953994354041], [\"AutoContrast\", 0.8508018319577783, 0.09321935255338443]], [[\"Color\", 0.8067046326105318, 0.13732893832354054], [\"Contrast\", 0.7358549680271418, 0.7880588355974301]], [[\"Posterize\", 0.5005885536838065, 0.7152229305267599], [\"ShearX\", 0.6714249591308944, 0.7732232697859908]], [[\"TranslateY\", 0.5657943483353953, 0.04622399873706862], [\"AutoContrast\", 0.2787442688649845, 0.567024378767143]], [[\"ShearY\", 0.7589839214283295, 0.041071003934029404], [\"Equalize\", 0.3719852873722692, 0.43285778682687326]], [[\"Posterize\", 0.8841266183653291, 0.42441306955476366], [\"Cutout\", 0.06578801759412933, 0.5961125797961526]], [[\"Rotate\", 0.4057875004314082, 0.20241115848366442], [\"AutoContrast\", 0.19331542807918067, 0.7175484678480565]], [[\"Contrast\", 0.20331327116693088, 0.17135387852218742], [\"Cutout\", 0.6282459410351067, 0.6690015305529187]], [[\"ShearX\", 0.4309850328306535, 0.99321178125828], [\"AutoContrast\", 0.01809604030453338, 0.693838277506365]], [[\"Rotate\", 0.24343531125298268, 0.5326412444169899], [\"Sharpness\", 0.8663989992597494, 0.7643990609130789]], [[\"Rotate\", 0.9785019204622459, 0.8941922576710696], [\"ShearY\", 0.3823185048761075, 0.9258854046017292]], [[\"ShearY\", 0.5502613342963388, 0.6193478797355644], [\"Sharpness\", 0.2212116534610532, 0.6648232390110979]], [[\"TranslateY\", 0.43222920981513757, 0.5657636397633089], [\"ShearY\", 0.9153733286073634, 0.4868521171273169]], [[\"Posterize\", 0.12246560519738336, 0.9132288825898972], [\"Cutout\", 0.6058471327881816, 0.6426901876150983]], [[\"Color\", 0.3693970222695844, 0.038929141432555436], [\"Equalize\", 0.6228052875653781, 0.05064436511347281]], [[\"Color\", 0.7172600331356893, 0.2824542634766688], [\"Color\", 0.425293116261649, 0.1796441283313972]], [[\"Cutout\", 0.7539608428122959, 0.9896141728228921], [\"Solarize\", 0.17811081117364758, 0.9064195503634402]], [[\"AutoContrast\", 0.6761242607012717, 0.6484842446399923], [\"AutoContrast\", 0.1978135076901828, 0.42166879492601317]], [[\"ShearY\", 0.25901666379802524, 0.4770778270322449], [\"Solarize\", 0.7640963173407052, 0.7548463227094349]], [[\"TranslateY\", 0.9222487731783499, 0.33658389819616463], [\"Equalize\", 0.9159112511468139, 0.8877136302394797]], [[\"TranslateX\", 0.8994836977137054, 0.11036053676846591], [\"Sharpness\", 0.9040333410652747, 0.007266095214664592]], [[\"Invert\", 0.627758632524958, 0.8075245097227242], [\"Color\", 0.7525387912148516, 0.05950239294733184]], [[\"TranslateX\", 0.43505193292761857, 0.38108822876120796], [\"TranslateY\", 0.7432578052364004, 0.685678116134759]], [[\"Contrast\", 0.9293507582470425, 0.052266842951356196], [\"Posterize\", 0.45187123977747456, 0.8228290399726782]], [[\"ShearX\", 0.07240786542746291, 0.8945667925365756], [\"Brightness\", 0.5305443506561034, 0.12025274552427578]], [[\"Invert\", 0.40157564448143335, 0.5364745514006678], [\"Posterize\", 0.3316124671813876, 0.43002413237035997]], [[\"ShearY\", 0.7152314630009072, 0.1938339083417453], [\"Invert\", 0.14102478508140615, 0.41047623580174253]], [[\"Equalize\", 0.19862832613849246, 0.5058521685279254], [\"Sharpness\", 0.16481208629549782, 0.29126323102770557]], [[\"Equalize\", 0.6951591703541872, 0.7294822018800076], [\"ShearX\", 0.8726656726111219, 0.3151484225786487]], [[\"Rotate\", 0.17234370554263745, 0.9356543193000078], [\"TranslateX\", 0.4954374070084091, 0.05496727345849217]], [[\"Contrast\", 0.347405480122842, 0.831553005022885], [\"ShearX\", 0.28946367213071134, 0.11905898704394013]], [[\"Rotate\", 0.28096672507990683, 0.16181284050307398], [\"Color\", 0.6554918515385365, 0.8739728050797386]], [[\"Solarize\", 0.05408073374114053, 0.5357087283758337], [\"Posterize\", 0.42457175211495335, 0.051807130609045515]], [[\"TranslateY\", 0.6216669362331361, 0.9691341207381867], [\"Rotate\", 0.9833579358130944, 0.12227426932415297]], [[\"AutoContrast\", 0.7572619475282892, 0.8062834082727393], [\"Contrast\", 0.1447865402875591, 0.40242646573228436]], [[\"Rotate\", 0.7035658783466086, 0.9840285268256428], [\"Contrast\", 0.04613961510519471, 0.7666683217450163]], [[\"TranslateX\", 0.4580462177951252, 0.6448678609474686], [\"AutoContrast\", 0.14845695613708987, 0.1581134188537895]], [[\"Color\", 0.06795037145259564, 0.9115552821158709], [\"TranslateY\", 0.9972953449677655, 0.6791016521791214]], [[\"Cutout\", 0.3586908443690823, 0.11578558293480945], [\"Color\", 0.49083981719164294, 0.6924851425917189]], [[\"Brightness\", 0.7994717831637873, 0.7887316255321768], [\"Posterize\", 0.01280463502435425, 0.2799086732858721]], [[\"ShearY\", 0.6733451536131859, 0.8122332639516706], [\"AutoContrast\", 0.20433889615637357, 0.29023346867819966]], [[\"TranslateY\", 0.709913512385177, 0.6538196931503809], [\"Invert\", 0.06629795606579203, 0.40913219547548296]], [[\"Sharpness\", 0.4704559834362948, 0.4235993305308414], [\"Equalize\", 0.7578132044306966, 0.9388824249397175]], [[\"AutoContrast\", 0.5281702802395268, 0.8077253610116979], [\"Equalize\", 0.856446858814119, 0.0479755681647559]], [[\"Color\", 0.8244145826797791, 0.038409264586238945], [\"Equalize\", 0.4933123249234237, 0.8251940933672189]], [[\"TranslateX\", 0.23949314158035084, 0.13576027004706692], [\"ShearX\", 0.8547563771688399, 0.8309262160483606]], [[\"Cutout\", 0.4655680937486001, 0.2819807000622825], [\"Contrast\", 0.8439552665937905, 0.4843617871587037]], [[\"TranslateX\", 0.19142454476784831, 0.7516148119169537], [\"AutoContrast\", 0.8677128351329768, 0.34967990912346336]], [[\"Contrast\", 0.2997868299880966, 0.919508054854469], [\"AutoContrast\", 0.3003418493384957, 0.812314984368542]], [[\"Invert\", 0.1070424236198183, 0.614674386498809], [\"TranslateX\", 0.5010973510899923, 0.20828478805259465]], [[\"Contrast\", 0.6775882415611454, 0.6938564815591685], [\"Cutout\", 0.4814634264207498, 0.3086844939744179]], [[\"TranslateY\", 0.939427105020265, 0.02531043619423201], [\"Contrast\", 0.793754257944812, 0.6676072472565451]], [[\"Sharpness\", 0.09833672397575444, 0.5937214638292085], [\"Rotate\", 0.32530675291753763, 0.08302275740932441]], [[\"Sharpness\", 0.3096455511562728, 0.6726732004553959], [\"TranslateY\", 0.43268997648796537, 0.8755012330217743]], [[\"ShearY\", 0.9290771880324833, 0.22114736271319912], [\"Equalize\", 0.5520199288501478, 0.34269650332060553]], [[\"AutoContrast\", 0.39763980746649374, 0.4597414582725454], [\"Contrast\", 0.941507852412761, 0.24991270562477041]], [[\"Contrast\", 0.19419400547588095, 0.9127524785329233], [\"Invert\", 0.40544905179551727, 0.770081532844878]], [[\"Invert\", 0.30473757368608334, 0.23534811781828846], [\"Cutout\", 0.26090722356706686, 0.5478390909877727]], [[\"Posterize\", 0.49434361308057373, 0.05018423270527428], [\"Color\", 0.3041910676883317, 0.2603810415446437]], [[\"Invert\", 0.5149061746764011, 0.9507449210221298], [\"TranslateY\", 0.4458076521892904, 0.8235358255774426]], [[\"Cutout\", 0.7900006753351625, 0.905578861382507], [\"Cutout\", 0.6707153655762056, 0.8236715672258502]], [[\"Solarize\", 0.8750534386579575, 0.10337670467100568], [\"Posterize\", 0.6102379615481381, 0.9264503915416868]], [[\"ShearY\", 0.08448689377082852, 0.13981233725811626], [\"TranslateX\", 0.13979689669329498, 0.768774869872818]], [[\"TranslateY\", 0.35752572266759985, 0.22827299847812488], [\"Solarize\", 0.3906957174236011, 0.5663314388307709]], [[\"ShearY\", 0.29155240367061563, 0.8427516352971683], [\"ShearX\", 0.988825367441916, 0.9371258864857649]], [[\"Posterize\", 0.3470780859769458, 0.5467686612321239], [\"Rotate\", 0.5758606274160093, 0.8843838082656007]], [[\"Cutout\", 0.07825368363221841, 0.3230799425855425], [\"Equalize\", 0.2319163865298529, 0.42133965674727325]], [[\"Invert\", 0.41972172597448654, 0.34618622513582953], [\"ShearX\", 0.33638469398198834, 0.9098575535928108]], [[\"Invert\", 0.7322652233340448, 0.7747502957687412], [\"Cutout\", 0.9643121397298106, 0.7983335094634907]], [[\"TranslateY\", 0.30039942808098496, 0.229018798182827], [\"TranslateY\", 0.27009499739380194, 0.6435577237846236]], [[\"Color\", 0.38245274994070644, 0.7030758568461645], [\"ShearX\", 0.4429321461666281, 0.6963787864044149]], [[\"AutoContrast\", 0.8432798685515605, 0.5775214369578088], [\"Brightness\", 0.7140899735355927, 0.8545854720117658]], [[\"Rotate\", 0.14418935535613786, 0.5637968282213426], [\"Color\", 0.7115231912479835, 0.32584796564566776]], [[\"Sharpness\", 0.4023501062807533, 0.4162097130412771], [\"Brightness\", 0.5536372686153666, 0.03004023273348777]], [[\"TranslateX\", 0.7526053265574295, 0.5365938133399961], [\"Cutout\", 0.07914142706557492, 0.7544953091603148]], [[\"TranslateY\", 0.6932934644882822, 0.5302211727137424], [\"Invert\", 0.5040606028391255, 0.6074863635108957]], [[\"Sharpness\", 0.5013938602431629, 0.9572417724333157], [\"TranslateY\", 0.9160516359783026, 0.41798927975391675]], [[\"ShearY\", 0.5130018836722556, 0.30209438428424185], [\"Color\", 0.15017170588500262, 0.20653495360587826]], [[\"TranslateX\", 0.5293300090022314, 0.6407011888285266], [\"Rotate\", 0.4809817860439001, 0.3537850070371702]], [[\"Equalize\", 0.42243081336551014, 0.13472721311046565], [\"Posterize\", 0.4700309639484068, 0.5197704360874883]], [[\"AutoContrast\", 0.40674959899687235, 0.7312824868168921], [\"TranslateX\", 0.7397527975920833, 0.7068339877944815]], [[\"TranslateY\", 0.5880995184787206, 0.41294111378078946], [\"ShearX\", 0.3181387627799316, 0.4810010147143413]], [[\"Color\", 0.9898680233928507, 0.13241525577655167], [\"Contrast\", 0.9824932511238534, 0.5081145010853807]], [[\"Invert\", 0.1591854062582687, 0.9760371953250404], [\"Color\", 0.9913399302056851, 0.8388709501056177]], [[\"Rotate\", 0.6427451962231163, 0.9486793975292853], [\"AutoContrast\", 0.8501937877930463, 0.021326757974406196]], [[\"Contrast\", 0.13611684531087598, 0.3050858709483848], [\"Posterize\", 0.06618644756084646, 0.8776928511951034]], [[\"TranslateX\", 0.41021065663839407, 0.4965319749091702], [\"Rotate\", 0.07088831484595115, 0.4435516708223345]], [[\"Sharpness\", 0.3151707977154323, 0.28275482520179296], [\"Invert\", 0.36980384682133804, 0.20813616084536624]], [[\"Cutout\", 0.9979060206661017, 0.39712948644725854], [\"Brightness\", 0.42451052896163466, 0.942623075649937]], [[\"Equalize\", 0.5300853308425644, 0.010183500830128867], [\"AutoContrast\", 0.06930788523716991, 0.5403125318991522]], [[\"Contrast\", 0.010385458959237814, 0.2588311035539086], [\"ShearY\", 0.9347048553928764, 0.10439028366854963]], [[\"ShearY\", 0.9867649486508592, 0.8409258132716434], [\"ShearX\", 0.48031199530836444, 0.7703375364614137]], [[\"ShearY\", 0.04835889473136512, 0.2671081675890492], [\"Brightness\", 0.7856432618509617, 0.8032169570159564]], [[\"Posterize\", 0.11112884927351185, 0.7116956530752987], [\"TranslateY\", 0.7339151092128607, 0.3331241226029017]], [[\"Invert\", 0.13527036207875454, 0.8425980515358883], [\"Color\", 0.7836395778298139, 0.5517059252678862]], [[\"Sharpness\", 0.012541163521491816, 0.013197550692292892], [\"Invert\", 0.6295957932861318, 0.43276521236056054]], [[\"AutoContrast\", 0.7681480991225756, 0.3634284648496289], [\"Brightness\", 0.09708289828517969, 0.45016725043529726]], [[\"Brightness\", 0.5839450499487329, 0.47525965678316795], [\"Posterize\", 0.43096581990183735, 0.9332382960125196]], [[\"Contrast\", 0.9725334964552795, 0.9142902966863341], [\"Contrast\", 0.12376116410622995, 0.4355916974126801]], [[\"TranslateX\", 0.8572708473690132, 0.02544522678265526], [\"Sharpness\", 0.37902120723460364, 0.9606092969833118]], [[\"TranslateY\", 0.8907359001296927, 0.8011363927236099], [\"Color\", 0.7693777154407178, 0.0936768686746503]], [[\"Equalize\", 0.0002657688243309364, 0.08190798535970034], [\"Rotate\", 0.5215478065240905, 0.5773519995038368]], [[\"TranslateY\", 0.3383007813932477, 0.5733428274739165], [\"Sharpness\", 0.2436110797174722, 0.4757790814590501]], [[\"Cutout\", 0.0957402176213592, 0.8914395928996034], [\"Cutout\", 0.4959915628586883, 0.25890349461645246]], [[\"AutoContrast\", 0.594787300189186, 0.9627455357634459], [\"ShearY\", 0.5136027621132064, 0.10419602450259002]], [[\"Solarize\", 0.4684077211553732, 0.6592850629431414], [\"Sharpness\", 0.2382385935956325, 0.6589291408243176]], [[\"Cutout\", 0.4478786947325877, 0.6893616643143388], [\"TranslateX\", 0.2761781720270474, 0.21750622627277727]], [[\"Sharpness\", 0.39476077929016484, 0.930902796668923], [\"Cutout\", 0.9073012208742808, 0.9881122386614257]], [[\"TranslateY\", 0.0933719180021565, 0.7206252503441172], [\"ShearX\", 0.5151400441789256, 0.6307540083648309]], [[\"AutoContrast\", 0.7772689258806401, 0.8159317013156503], [\"AutoContrast\", 0.5932793713915097, 0.05262217353927168]], [[\"Equalize\", 0.38017352056118914, 0.8084724050448412], [\"ShearY\", 0.7239725628380852, 0.4246314890359326]], [[\"Cutout\", 0.741157483503503, 0.13244380646497977], [\"Invert\", 0.03395378056675935, 0.7140036618098844]], [[\"Rotate\", 0.0662727247460636, 0.7099861732415447], [\"Rotate\", 0.3168532707508249, 0.3553167425022127]], [[\"AutoContrast\", 0.7429303516734129, 0.07117444599776435], [\"Posterize\", 0.5379537435918104, 0.807221330263993]], [[\"TranslateY\", 0.9788586874795164, 0.7967243851346594], [\"Invert\", 0.4479103376922362, 0.04260360776727545]], [[\"Cutout\", 0.28318121763188997, 0.7748680701406292], [\"AutoContrast\", 0.9109258369403016, 0.17126397858002085]], [[\"Color\", 0.30183727885272027, 0.46718354750112456], [\"TranslateX\", 0.9628952256033627, 0.10269543754135535]], [[\"AutoContrast\", 0.6316709389784041, 0.84287698792044], [\"Brightness\", 0.5544761629904337, 0.025264772745200004]], [[\"Rotate\", 0.08803313299532567, 0.306059720523696], [\"Invert\", 0.5222165872425064, 0.045935208620454304]], [[\"TranslateY\", 0.21912346831923835, 0.48529224559004436], [\"TranslateY\", 0.15466734731903942, 0.8929485418495068]], [[\"ShearX\", 0.17141022847016563, 0.8607600402165531], [\"ShearX\", 0.6890511341106859, 0.7540899265679949]], [[\"Invert\", 0.9417455522972059, 0.9021733684991224], [\"Solarize\", 0.7693107057723746, 0.7268007946568782]], [[\"Posterize\", 0.02376991543373752, 0.6768442864453844], [\"Rotate\", 0.7736875065112697, 0.6706331753139825]], [[\"Contrast\", 0.3623841610390669, 0.15023657344457686], [\"Equalize\", 0.32975472189318666, 0.05629246869510651]], [[\"Sharpness\", 0.7874882420165824, 0.49535778020457066], [\"Posterize\", 0.09485578893387558, 0.6170768580482466]], [[\"Brightness\", 0.7099280202949585, 0.021523012961427335], [\"Posterize\", 0.2076371467666719, 0.17168118578815206]], [[\"Color\", 0.8546367645761538, 0.832011891505731], [\"Equalize\", 0.6429734783051777, 0.2618995960561532]], [[\"Rotate\", 0.8780793721476224, 0.5920897827664297], [\"ShearX\", 0.5338303685064825, 0.8605424531336439]], [[\"Sharpness\", 0.7504493806631884, 0.9723552387375258], [\"Sharpness\", 0.3206385634203266, 0.45127845905824693]], [[\"ShearX\", 0.23794709526711355, 0.06257530645720066], [\"Solarize\", 0.9132374030587093, 0.6240819934824045]], [[\"Sharpness\", 0.790583587969259, 0.28551171786655405], [\"Contrast\", 0.39872982844590554, 0.09644706751019538]], [[\"Equalize\", 0.30681999237432944, 0.5645045018157916], [\"Posterize\", 0.525966242669736, 0.7360106111256014]], [[\"TranslateX\", 0.4881014179825114, 0.6317220208872226], [\"ShearX\", 0.2935158995550958, 0.23104608987381758]], [[\"Rotate\", 0.49977116738568395, 0.6610761068306319], [\"TranslateY\", 0.7396566602715687, 0.09386747830045217]], [[\"ShearY\", 0.5909773790018789, 0.16229529902832718], [\"Equalize\", 0.06461394468918358, 0.6661349001143908]], [[\"TranslateX\", 0.7218443721851834, 0.04435720302810153], [\"Cutout\", 0.986686540951642, 0.734771197038724]], [[\"ShearX\", 0.5353800096911666, 0.8120139502148365], [\"Equalize\", 0.4613239578449774, 0.5159528929124512]], [[\"Color\", 0.0871713897628631, 0.7708895183198486], [\"Solarize\", 0.5811386808912219, 0.35260648120785887]], [[\"Posterize\", 0.3910857927477053, 0.4329219555775561], [\"Color\", 0.9115983668789468, 0.6043069944145293]], [[\"Posterize\", 0.07493067637060635, 0.4258000066006725], [\"AutoContrast\", 0.4740957581389772, 0.49069587151651295]], [[\"Rotate\", 0.34086200894268937, 0.9812149332288828], [\"Solarize\", 0.6801012471371733, 0.17271491146753837]], [[\"Color\", 0.20542270872895207, 0.5532087457727624], [\"Contrast\", 0.2718692536563381, 0.20313287569510108]], [[\"Equalize\", 0.05199827210980934, 0.0832859890912212], [\"AutoContrast\", 0.8092395764794107, 0.7778945136511004]], [[\"Sharpness\", 0.1907689513066838, 0.7705754572256907], [\"Color\", 0.3911178658498049, 0.41791326933095485]], [[\"Solarize\", 0.19611855804748257, 0.2407807485604081], [\"AutoContrast\", 0.5343964972940493, 0.9034209455548394]], [[\"Color\", 0.43586520148538865, 0.4711164626521439], [\"ShearY\", 0.28635408186820555, 0.8417816793020271]], [[\"Cutout\", 0.09818482420382535, 0.1649767430954796], [\"Cutout\", 0.34582392911178494, 0.3927982995799828]], [[\"ShearX\", 0.001253882705272269, 0.48661629027584596], [\"Solarize\", 0.9229221435457137, 0.44374894836659073]], [[\"Contrast\", 0.6829734655718668, 0.8201750485099037], [\"Cutout\", 0.7886756837648936, 0.8423285219631946]], [[\"TranslateY\", 0.857017093561528, 0.3038537151773969], [\"Invert\", 0.12809228606383538, 0.23637166191748027]], [[\"Solarize\", 0.9829027723424164, 0.9723093910674763], [\"Color\", 0.6346495302126811, 0.5405494753107188]], [[\"AutoContrast\", 0.06868643520377715, 0.23758659417688077], [\"AutoContrast\", 0.6648225411500879, 0.5618315648260103]], [[\"Invert\", 0.44202305603311676, 0.9945938909685547], [\"Equalize\", 0.7991650497684454, 0.16014142656347097]], [[\"AutoContrast\", 0.8778631604769588, 0.03951977631894088], [\"ShearY\", 0.8495160088963707, 0.35771447321250416]], [[\"Color\", 0.5365078341001592, 0.21102444169782308], [\"ShearX\", 0.7168869678248874, 0.3904298719872734]], [[\"TranslateX\", 0.6517203786101899, 0.6467598990650437], [\"Invert\", 0.26552491504364517, 0.1210812827294625]], [[\"Posterize\", 0.35196021684368994, 0.8420648319941891], [\"Invert\", 0.7796829363930631, 0.9520895999240896]], [[\"Sharpness\", 0.7391572148971984, 0.4853940393452846], [\"TranslateX\", 0.7641915295592839, 0.6351349057666782]], [[\"Posterize\", 0.18485880221115913, 0.6117603277356728], [\"Rotate\", 0.6541660490605724, 0.5704041108375348]], [[\"TranslateY\", 0.27517423188070533, 0.6610080904072458], [\"Contrast\", 0.6091250547289317, 0.7702443247557892]], [[\"Equalize\", 0.3611798581067118, 0.6623615672642768], [\"TranslateX\", 0.9537265090885917, 0.06352772509358584]], [[\"ShearX\", 0.09720029389103535, 0.7800423126320308], [\"Invert\", 0.30314352455858884, 0.8519925470889914]], [[\"Brightness\", 0.06931529763458055, 0.57760829499712], [\"Cutout\", 0.637251974467394, 0.7184346129191052]], [[\"AutoContrast\", 0.5026722100286064, 0.32025257156541886], [\"Contrast\", 0.9667478703047919, 0.14178519432669368]], [[\"Equalize\", 0.5924463845816984, 0.7187610262181517], [\"TranslateY\", 0.7059479079159405, 0.06551471830655187]], [[\"Sharpness\", 0.18161164512332928, 0.7576138481173385], [\"Brightness\", 0.19191138767695282, 0.7865880269424701]], [[\"Brightness\", 0.36780861866078696, 0.0677855546737901], [\"AutoContrast\", 0.8491446654142264, 0.09217782099938121]], [[\"TranslateY\", 0.06011399855120858, 0.8374487034710264], [\"TranslateY\", 0.8373922962070498, 0.1991295720254297]], [[\"Posterize\", 0.702559916122481, 0.30257509683007755], [\"Rotate\", 0.249899495398891, 0.9370437251176267]], [[\"ShearX\", 0.9237874098232075, 0.26241907483351146], [\"Brightness\", 0.7221766836146657, 0.6880749752986671]], [[\"Cutout\", 0.37994098189193104, 0.7836874473657957], [\"ShearX\", 0.9212861960976824, 0.8140948561570449]], [[\"Posterize\", 0.2584098274786417, 0.7990847652004848], [\"Invert\", 0.6357731737590063, 0.1066304859116326]], [[\"Sharpness\", 0.4412790857539922, 0.9692465283229825], [\"Color\", 0.9857401617339051, 0.26755393929808713]], [[\"Equalize\", 0.22348671644912665, 0.7370019910830038], [\"Posterize\", 0.5396106339575417, 0.5559536849843303]], [[\"Equalize\", 0.8742967663495852, 0.2797122599926307], [\"Rotate\", 0.4697322053105951, 0.8769872942579476]], [[\"Sharpness\", 0.44279911640509206, 0.07729581896071613], [\"Cutout\", 0.3589177366154631, 0.2704031551235969]], [[\"TranslateX\", 0.614216412574085, 0.47929659784170453], [\"Brightness\", 0.6686234118438007, 0.05700784068205689]], [[\"ShearY\", 0.17920614630857634, 0.4699685075827862], [\"Color\", 0.38251870810870003, 0.7262706923005887]], [[\"Solarize\", 0.4951799001144561, 0.212775278026479], [\"TranslateX\", 0.8666105646463097, 0.6750496637519537]], [[\"Color\", 0.8110864170849051, 0.5154263861958484], [\"Sharpness\", 0.2489044083898776, 0.3763372541462343]], [[\"Cutout\", 0.04888193613483871, 0.06041664638981603], [\"Color\", 0.06438587718683708, 0.5797881428892969]], [[\"Rotate\", 0.032427448352152166, 0.4445797818376559], [\"Posterize\", 0.4459357828482998, 0.5879865187630777]], [[\"ShearX\", 0.1617179557693058, 0.050796802246318884], [\"Cutout\", 0.8142465452060423, 0.3836391305618707]], [[\"TranslateY\", 0.1806857249209416, 0.36697730355422675], [\"Rotate\", 0.9897576550818276, 0.7483432452225264]], [[\"Brightness\", 0.18278016458098223, 0.952352527690299], [\"Cutout\", 0.3269735224453044, 0.3924869905012752]], [[\"ShearX\", 0.870832707718742, 0.3214743207190739], [\"Cutout\", 0.6805560681792573, 0.6984188155282459]], [[\"TranslateX\", 0.4157118388833776, 0.3964216288135384], [\"TranslateX\", 0.3253012682285006, 0.624835513104391]], [[\"Contrast\", 0.7678168037628158, 0.31033802162621793], [\"ShearX\", 0.27022424855977134, 0.3773245605126201]], [[\"TranslateX\", 0.37812621869017593, 0.7657993810740699], [\"Rotate\", 0.18081890120092914, 0.8893511219618171]], [[\"Posterize\", 0.8735859716088367, 0.18243793043074286], [\"TranslateX\", 0.90435994250313, 0.24116383818819453]], [[\"Invert\", 0.06666709253664793, 0.3881076083593933], [\"TranslateX\", 0.3783333964963522, 0.14411014979589543]], [[\"Equalize\", 0.8741147867162096, 0.14203839235846816], [\"TranslateX\", 0.7801536758037405, 0.6952401607812743]], [[\"Cutout\", 0.6095335117944475, 0.5679026063718094], [\"Posterize\", 0.06433868172233115, 0.07139559616012303]], [[\"TranslateY\", 0.3020364047315408, 0.21459810361176246], [\"Cutout\", 0.7097677414888889, 0.2942144632587549]], [[\"Brightness\", 0.8223662419048653, 0.195700694016108], [\"Invert\", 0.09345407040803999, 0.779843655582099]], [[\"TranslateY\", 0.7353462929356228, 0.0468520680237382], [\"Cutout\", 0.36530918247940425, 0.3897292909049672]], [[\"Invert\", 0.9676896451721213, 0.24473302189463453], [\"Invert\", 0.7369271521408992, 0.8193267003356975]], [[\"Sharpness\", 0.8691871972054326, 0.4441713912682772], [\"ShearY\", 0.47385584832119887, 0.23521684584675429]], [[\"ShearY\", 0.9266946026184021, 0.7611986713358834], [\"TranslateX\", 0.6195820760253926, 0.14661428669483678]], [[\"Sharpness\", 0.08470870576026868, 0.3380219099907229], [\"TranslateX\", 0.3062343307496658, 0.7135777338095889]], [[\"Sharpness\", 0.5246448204194909, 0.3193061215236702], [\"ShearX\", 0.8160637208508432, 0.9720697396582731]], [[\"Posterize\", 0.5249259956549405, 0.3492042382504774], [\"Invert\", 0.8183138799547441, 0.11107271762524618]], [[\"TranslateY\", 0.210869733350744, 0.7138905840721885], [\"Sharpness\", 0.7773226404450125, 0.8005353621959782]], [[\"Posterize\", 0.33067522385556025, 0.32046239220630124], [\"AutoContrast\", 0.18918147708798405, 0.4646281070474484]], [[\"TranslateX\", 0.929502026131094, 0.8029128121556285], [\"Invert\", 0.7319794306118105, 0.5421878712623392]], [[\"ShearX\", 0.25645940834182723, 0.42754710760160963], [\"ShearX\", 0.44640695310173306, 0.8132185532296811]], [[\"Color\", 0.018436846416536312, 0.8439313862001113], [\"Sharpness\", 0.3722867661453415, 0.5103570873163251]], [[\"TranslateX\", 0.7285989086776543, 0.4809027697099264], [\"TranslateY\", 0.9740807004893643, 0.8241085438636939]], [[\"Posterize\", 0.8721868989693397, 0.5700907310383815], [\"Posterize\", 0.4219074410577852, 0.8032643572845402]], [[\"Contrast\", 0.9811380092558266, 0.8498397471632105], [\"Sharpness\", 0.8380884329421594, 0.18351306571903125]], [[\"TranslateY\", 0.3878939366762001, 0.4699103438753077], [\"Invert\", 0.6055556353233807, 0.8774727658400134]], [[\"TranslateY\", 0.052317005261018346, 0.39471450378745787], [\"ShearX\", 0.8612486845942395, 0.28834103278807466]], [[\"Color\", 0.511993351208063, 0.07251427040525904], [\"Solarize\", 0.9898097047354855, 0.299761565689576]], [[\"Equalize\", 0.2721248231619904, 0.6870975927455507], [\"Cutout\", 0.8787327242363994, 0.06228061428917098]], [[\"Invert\", 0.8931880335225408, 0.49720931867378193], [\"Posterize\", 0.9619698792159256, 0.17859639696940088]], [[\"Posterize\", 0.0061688075074411985, 0.08082938731035938], [\"Brightness\", 0.27745128028826993, 0.8638528796903816]], [[\"ShearY\", 0.9140200609222026, 0.8240421430867707], [\"Invert\", 0.651734417415332, 0.08871906369930926]], [[\"Color\", 0.45585010413511196, 0.44705070078574316], [\"Color\", 0.26394624901633146, 0.11242877788650807]], [[\"ShearY\", 0.9200278466372522, 0.2995901331149652], [\"Cutout\", 0.8445407215116278, 0.7410524214287446]], [[\"ShearY\", 0.9950483746990132, 0.112964468262847], [\"ShearY\", 0.4118332303218585, 0.44839613407553636]], [[\"Contrast\", 0.7905821952255192, 0.23360046159385106], [\"Posterize\", 0.8611787233956044, 0.8984260048943528]], [[\"TranslateY\", 0.21448061359312853, 0.8228112806838331], [\"Contrast\", 0.8992297266152983, 0.9179231590570998]], [[\"Invert\", 0.3924194798946006, 0.31830516468371495], [\"Rotate\", 0.8399556845248508, 0.3764892022932781]], [[\"Cutout\", 0.7037916990046816, 0.9214620769502728], [\"AutoContrast\", 0.02913794613018239, 0.07808607528954048]], [[\"ShearY\", 0.6041490474263381, 0.6094184590800105], [\"Equalize\", 0.2932954517354919, 0.5840888946081727]], [[\"ShearX\", 0.6056801676269449, 0.6948580442549543], [\"Cutout\", 0.3028001021044615, 0.15117101733894078]], [[\"Brightness\", 0.8011486803860253, 0.18864079729374195], [\"Solarize\", 0.014965327213230961, 0.8842620292527029]], [[\"Invert\", 0.902244007904273, 0.5634673798052033], [\"Equalize\", 0.13422913507398349, 0.4110956745883727]], [[\"TranslateY\", 0.9981773319103838, 0.09568550987216096], [\"Color\", 0.7627662124105109, 0.8494409737419493]], [[\"Cutout\", 0.3013527640416782, 0.03377226729898486], [\"ShearX\", 0.5727964831614619, 0.8784196638222834]], [[\"TranslateX\", 0.6050722426803684, 0.3650103962378708], [\"TranslateX\", 0.8392084589130886, 0.6479816470292911]], [[\"Rotate\", 0.5032806606500023, 0.09276980118866307], [\"TranslateY\", 0.7800234515261191, 0.18896454379343308]], [[\"Invert\", 0.9266027256244017, 0.8246111062199752], [\"Contrast\", 0.12112023357797697, 0.33870762271759436]], [[\"Brightness\", 0.8688784756993134, 0.17263759696106606], [\"ShearX\", 0.5133700431071326, 0.6686811994542494]], [[\"Invert\", 0.8347840440941976, 0.03774897445901726], [\"Brightness\", 0.24925057499276548, 0.04293631677355758]], [[\"Color\", 0.5998145279485104, 0.4820093200092529], [\"TranslateY\", 0.6709586184077769, 0.07377334081382858]], [[\"AutoContrast\", 0.7898846202957984, 0.325293526672498], [\"Contrast\", 0.5156435596826767, 0.2889223168660645]], [[\"ShearX\", 0.08147389674998307, 0.7978924681113669], [\"Contrast\", 0.7270003309106291, 0.009571215234092656]], [[\"Sharpness\", 0.417607614440786, 0.9532566433338661], [\"Posterize\", 0.7186586546796782, 0.6936509907073302]], [[\"ShearX\", 0.9555300215926675, 0.1399385550263872], [\"Color\", 0.9981041061848231, 0.5037462398323248]], [[\"Equalize\", 0.8003487831375474, 0.5413759363796945], [\"ShearY\", 0.0026607045117773565, 0.019262273030984933]], [[\"TranslateY\", 0.04845391502469176, 0.10063445212118283], [\"Cutout\", 0.8273170186786745, 0.5045257728554577]], [[\"TranslateX\", 0.9690985344978033, 0.505202991815533], [\"TranslateY\", 0.7255326592928096, 0.02103609500701631]], [[\"Solarize\", 0.4030771176836736, 0.8424237871457034], [\"Cutout\", 0.28705805963928965, 0.9601617893682582]], [[\"Sharpness\", 0.16865290353070606, 0.6899673563468826], [\"Posterize\", 0.3985430034869616, 0.6540651997730774]], [[\"ShearY\", 0.21395578485362032, 0.09519358818949009], [\"Solarize\", 0.6692821708524135, 0.6462523623552485]], [[\"AutoContrast\", 0.912360598054091, 0.029800239085051583], [\"Invert\", 0.04319256403746308, 0.7712501517098587]], [[\"ShearY\", 0.9081969961839055, 0.4581560239984739], [\"AutoContrast\", 0.5313894814729159, 0.5508393335751848]], [[\"ShearY\", 0.860528568424097, 0.8196987216301588], [\"Posterize\", 0.41134650331494205, 0.3686632018978778]], [[\"AutoContrast\", 0.8753670810078598, 0.3679438326304749], [\"Invert\", 0.010444228965415858, 0.9581244779208277]], [[\"Equalize\", 0.07071836206680682, 0.7173594756186462], [\"Brightness\", 0.06111434312497388, 0.16175064669049277]], [[\"AutoContrast\", 0.10522219073562122, 0.9768776621069855], [\"TranslateY\", 0.2744795945215529, 0.8577967957127298]], [[\"AutoContrast\", 0.7628146493166175, 0.996157376418147], [\"Contrast\", 0.9255565598518469, 0.6826126662976868]], [[\"TranslateX\", 0.017225816199011312, 0.2470332491402908], [\"Solarize\", 0.44048494909493807, 0.4492422515972162]], [[\"ShearY\", 0.38885252627795064, 0.10272256704901939], [\"Equalize\", 0.686154959829183, 0.8973517148655337]], [[\"Rotate\", 0.29628991573592967, 0.16639926575004715], [\"ShearX\", 0.9013782324726413, 0.0838318162771563]], [[\"Color\", 0.04968391374688563, 0.6138600739645352], [\"Invert\", 0.11177127838716283, 0.10650198522261578]], [[\"Invert\", 0.49655016367624016, 0.8603374164829688], [\"ShearY\", 0.40625439617553727, 0.4516437918820778]], [[\"TranslateX\", 0.15015718916062992, 0.13867777502116208], [\"Brightness\", 0.3374464418810188, 0.7613355669536931]], [[\"Invert\", 0.644644393321966, 0.19005804481199562], [\"AutoContrast\", 0.2293259789431853, 0.30335723256340186]], [[\"Solarize\", 0.004968793254801596, 0.5370892072646645], [\"Contrast\", 0.9136902637865596, 0.9510587477779084]], [[\"Rotate\", 0.38991518440867123, 0.24796987467455756], [\"Sharpness\", 0.9911180315669776, 0.5265657122981591]], [[\"Solarize\", 0.3919646484436238, 0.6814994037194909], [\"Sharpness\", 0.4920838987787103, 0.023425724294012018]], [[\"TranslateX\", 0.25107587874378867, 0.5414936560189212], [\"Cutout\", 0.7932919623814599, 0.9891303444820169]], [[\"Brightness\", 0.07863012174272999, 0.045175652208389594], [\"Solarize\", 0.889609658064552, 0.8228793315963948]], [[\"Cutout\", 0.20477096178169596, 0.6535063675027364], [\"ShearX\", 0.9216318577173639, 0.2908690977359947]], [[\"Contrast\", 0.7035118947423187, 0.45982709058312454], [\"Contrast\", 0.7130268070749464, 0.8635123354235471]], [[\"Sharpness\", 0.26319477541228997, 0.7451278726847078], [\"Rotate\", 0.8170499362173754, 0.13998593411788207]], [[\"Rotate\", 0.8699365715164192, 0.8878057721750832], [\"Equalize\", 0.06682350555715044, 0.7164702080630689]], [[\"ShearY\", 0.3137466057521987, 0.6747433496011368], [\"Rotate\", 0.42118828936218133, 0.980121180104441]], [[\"Solarize\", 0.8470375049950615, 0.15287589264139223], [\"Cutout\", 0.14438435054693055, 0.24296463267973512]], [[\"TranslateY\", 0.08822241792224905, 0.36163911974799356], [\"TranslateY\", 0.11729726813270003, 0.6230889726445291]], [[\"ShearX\", 0.7720112337718541, 0.2773292905760122], [\"Sharpness\", 0.756290929398613, 0.27830353710507705]], [[\"Color\", 0.33825031007968287, 0.4657590047522816], [\"ShearY\", 0.3566628994713067, 0.859750504071925]], [[\"TranslateY\", 0.06830147433378053, 0.9348778582086664], [\"TranslateX\", 0.15509346516378553, 0.26320778885339435]], [[\"Posterize\", 0.20266751150740858, 0.008351463842578233], [\"Sharpness\", 0.06506971109417259, 0.7294471760284555]], [[\"TranslateY\", 0.6278911394418829, 0.8702181892620695], [\"Invert\", 0.9367073860264247, 0.9219230428944211]], [[\"Sharpness\", 0.1553425337673321, 0.17601557714491345], [\"Solarize\", 0.7040449681338888, 0.08764313147327729]], [[\"Equalize\", 0.6082233904624664, 0.4177428549911376], [\"AutoContrast\", 0.04987405274618151, 0.34516208204700916]], [[\"Brightness\", 0.9616085936167699, 0.14561237331885468], [\"Solarize\", 0.8927707736296572, 0.31176907850205704]], [[\"Brightness\", 0.6707778304730988, 0.9046457117525516], [\"Brightness\", 0.6801448953060988, 0.20015313057149042]], [[\"Color\", 0.8292680845499386, 0.5181603879593888], [\"Brightness\", 0.08549161770369762, 0.6567870536463203]], [[\"ShearY\", 0.267802208078051, 0.8388133819588173], [\"Sharpness\", 0.13453409120796123, 0.10028351311149486]], [[\"Posterize\", 0.775796593610272, 0.05359034561289766], [\"Cutout\", 0.5067360625733027, 0.054451986840317934]], [[\"TranslateX\", 0.5845238647690084, 0.7507147553486293], [\"Brightness\", 0.2642051786121197, 0.2578358927056452]], [[\"Cutout\", 0.10787517610922692, 0.8147986902794228], [\"Contrast\", 0.2190149206329539, 0.902210615462459]], [[\"TranslateX\", 0.5663614214181296, 0.05309965916414028], [\"ShearX\", 0.9682797885154938, 0.41791929533938466]], [[\"ShearX\", 0.2345325577621098, 0.383780128037189], [\"TranslateX\", 0.7298083748149163, 0.644325797667087]], [[\"Posterize\", 0.5138725709682734, 0.7901809917259563], [\"AutoContrast\", 0.7966018627776853, 0.14529337543427345]], [[\"Invert\", 0.5973031989249785, 0.417399314592829], [\"Solarize\", 0.9147539948653116, 0.8221272315548086]], [[\"Posterize\", 0.601596043336383, 0.18969646160963938], [\"Color\", 0.7527275484079655, 0.431793831326888]], [[\"Equalize\", 0.6731483454430538, 0.7866786558207602], [\"TranslateX\", 0.97574396899191, 0.5970255778044692]], [[\"Cutout\", 0.15919495850169718, 0.8916094305850562], [\"Invert\", 0.8351348834751027, 0.4029937360314928]], [[\"Invert\", 0.5894085405226027, 0.7283806854157764], [\"Brightness\", 0.3973976860470554, 0.949681121498567]], [[\"AutoContrast\", 0.3707914135327408, 0.21192068592079616], [\"ShearX\", 0.28040127351140676, 0.6754553511344856]], [[\"Solarize\", 0.07955132378694896, 0.15073572961927306], [\"ShearY\", 0.5735850168851625, 0.27147326850217746]], [[\"Equalize\", 0.678653949549764, 0.8097796067861455], [\"Contrast\", 0.2283048527510083, 0.15507804874474185]], [[\"Equalize\", 0.286013868374536, 0.186785848694501], [\"Posterize\", 0.16319021740810458, 0.1201304443285659]], [[\"Sharpness\", 0.9601590830563757, 0.06267915026513238], [\"AutoContrast\", 0.3813920685124327, 0.294224403296912]], [[\"Brightness\", 0.2703246632402241, 0.9168405377492277], [\"ShearX\", 0.6156009855831097, 0.4955986055846403]], [[\"Color\", 0.9065504424987322, 0.03393612216080133], [\"ShearY\", 0.6768595880405884, 0.9981068127818191]], [[\"Equalize\", 0.28812842368483904, 0.300387487349145], [\"ShearY\", 0.28812248704858345, 0.27105076231533964]], [[\"Brightness\", 0.6864882730513477, 0.8205553299102412], [\"Cutout\", 0.45995236371265424, 0.5422030370297759]], [[\"Color\", 0.34941404877084326, 0.25857961830158516], [\"AutoContrast\", 0.3451390878441899, 0.5000938249040454]], [[\"Invert\", 0.8268247541815854, 0.6691380821226468], [\"Cutout\", 0.46489193601530476, 0.22620873109485895]], [[\"Rotate\", 0.17879730528062376, 0.22670425330593935], [\"Sharpness\", 0.8692795688221834, 0.36586055020855723]], [[\"Brightness\", 0.31203975139659634, 0.6934046293010939], [\"Cutout\", 0.31649437872271236, 0.08078625004157935]], [[\"Cutout\", 0.3119482836150119, 0.6397160035509996], [\"Contrast\", 0.8311248624784223, 0.22897510169718616]], [[\"TranslateX\", 0.7631157841429582, 0.6482890521284557], [\"Brightness\", 0.12681196272427664, 0.3669813784257344]], [[\"TranslateX\", 0.06027722649179801, 0.3101104512201861], [\"Sharpness\", 0.5652076706249394, 0.05210008400968136]], [[\"AutoContrast\", 0.39213552101583127, 0.5047021194355596], [\"ShearY\", 0.7164003055682187, 0.8063370761002899]], [[\"Solarize\", 0.9574307011238342, 0.21472064809226854], [\"AutoContrast\", 0.8102612285047174, 0.716870148067014]], [[\"Rotate\", 0.3592634277567387, 0.6452602893051465], [\"AutoContrast\", 0.27188430331411506, 0.06003099168464854]], [[\"Cutout\", 0.9529536554825503, 0.5285505311027461], [\"Solarize\", 0.08478231903311029, 0.15986449762728216]], [[\"TranslateY\", 0.31176130458018936, 0.5642853506158253], [\"Equalize\", 0.008890883901317648, 0.5146121040955942]], [[\"Color\", 0.40773645085566157, 0.7110398926612682], [\"Color\", 0.18233100156439364, 0.7830036002758337]], [[\"Posterize\", 0.5793809197821732, 0.043748553135581236], [\"Invert\", 0.4479962016131668, 0.7349663010359488]], [[\"TranslateX\", 0.1994882312299382, 0.05216859488899439], [\"Rotate\", 0.48288726352035416, 0.44713829026777585]], [[\"Posterize\", 0.22122838185154603, 0.5034546841241283], [\"TranslateX\", 0.2538745835410222, 0.6129055170893385]], [[\"Color\", 0.6786559960640814, 0.4529749369803212], [\"Equalize\", 0.30215879674415336, 0.8733394611096772]], [[\"Contrast\", 0.47316062430673456, 0.46669538897311447], [\"Invert\", 0.6514906551984854, 0.3053339444067804]], [[\"Equalize\", 0.6443202625334524, 0.8689731394616441], [\"Color\", 0.7549183794057628, 0.8889001426329578]], [[\"Solarize\", 0.616709740662654, 0.7792180816399313], [\"ShearX\", 0.9659155537406062, 0.39436937531179495]], [[\"Equalize\", 0.23694011299406226, 0.027711152164392128], [\"TranslateY\", 0.1677339686527083, 0.3482126536808231]], [[\"Solarize\", 0.15234175951790285, 0.7893840414281341], [\"TranslateX\", 0.2396395768284183, 0.27727219214979715]], [[\"Contrast\", 0.3792017455380605, 0.32323660409845334], [\"Contrast\", 0.1356037413846466, 0.9127772969992305]], [[\"ShearX\", 0.02642732222284716, 0.9184662576502115], [\"Equalize\", 0.11504884472142995, 0.8957638893097964]], [[\"TranslateY\", 0.3193812913345325, 0.8828100030493128], [\"ShearY\", 0.9374975727563528, 0.09909415611083694]], [[\"AutoContrast\", 0.025840721736048122, 0.7941037581373024], [\"TranslateY\", 0.498518003323313, 0.5777122846572548]], [[\"ShearY\", 0.6042199307830248, 0.44809668754508836], [\"Cutout\", 0.3243978207701482, 0.9379740926294765]], [[\"ShearY\", 0.6858549297583574, 0.9993252035788924], [\"Sharpness\", 0.04682428732773203, 0.21698099707915652]], [[\"ShearY\", 0.7737469436637263, 0.8810127181224531], [\"ShearY\", 0.8995655445246451, 0.4312416220354539]], [[\"TranslateY\", 0.4953094136709374, 0.8144161580138571], [\"Solarize\", 0.26301211718928097, 0.518345311180405]], [[\"Brightness\", 0.8820246486031275, 0.571075863786249], [\"ShearX\", 0.8586669146703955, 0.0060476383595142735]], [[\"Sharpness\", 0.20519233710982254, 0.6144574759149729], [\"Posterize\", 0.07976625267460813, 0.7480145046726968]], [[\"ShearY\", 0.374075419680195, 0.3386105402023202], [\"ShearX\", 0.8228083637082115, 0.5885174783155361]], [[\"Brightness\", 0.3528780713814561, 0.6999884884306623], [\"Sharpness\", 0.3680348120526238, 0.16953358258959617]], [[\"Brightness\", 0.24891223104442084, 0.7973853494920095], [\"TranslateX\", 0.004256803835524736, 0.0470216343108546]], [[\"Posterize\", 0.1947344282646012, 0.7694802711054367], [\"Cutout\", 0.9594385534844785, 0.5469744140592429]], [[\"Invert\", 0.19012504762806026, 0.7816140211434693], [\"TranslateY\", 0.17479746932338402, 0.024249345245078602]], [[\"Rotate\", 0.9669262055946796, 0.510166180775991], [\"TranslateX\", 0.8990602034610352, 0.6657802719304693]], [[\"ShearY\", 0.5453049050407278, 0.8476872739603525], [\"Cutout\", 0.14226529093962592, 0.15756960661106634]], [[\"Equalize\", 0.5895291156113004, 0.6797218994447763], [\"TranslateY\", 0.3541442192192753, 0.05166001155849864]], [[\"Equalize\", 0.39530681662726097, 0.8448335365081087], [\"Brightness\", 0.6785483272734143, 0.8805568647038574]], [[\"Cutout\", 0.28633258271917905, 0.7750870268336066], [\"Equalize\", 0.7221097824537182, 0.5865506280531162]], [[\"Posterize\", 0.9044429629421187, 0.4620266401793388], [\"Invert\", 0.1803008045494473, 0.8073190766288534]], [[\"Sharpness\", 0.7054649148075851, 0.3877207948962055], [\"TranslateX\", 0.49260224225927285, 0.8987462620731029]], [[\"Sharpness\", 0.11196934729294483, 0.5953704422694938], [\"Contrast\", 0.13969334315069737, 0.19310569898434204]], [[\"Posterize\", 0.5484346101051778, 0.7914140118600685], [\"Brightness\", 0.6428044691630473, 0.18811316670808076]], [[\"Invert\", 0.22294834094984717, 0.05173157689962704], [\"Cutout\", 0.6091129168510456, 0.6280845506243643]], [[\"AutoContrast\", 0.5726444076195267, 0.2799840903601295], [\"Cutout\", 0.3055752727786235, 0.591639807512993]], [[\"Brightness\", 0.3707116723204462, 0.4049175910826627], [\"Rotate\", 0.4811601625588309, 0.2710760253723644]], [[\"ShearY\", 0.627791719653608, 0.6877498291550205], [\"TranslateX\", 0.8751753308366824, 0.011164650018719358]], [[\"Posterize\", 0.33832547954522263, 0.7087039872581657], [\"Posterize\", 0.6247474435007484, 0.7707784192114796]], [[\"Contrast\", 0.17620186308493468, 0.9946224854942095], [\"Solarize\", 0.5431896088395964, 0.5867904203742308]], [[\"ShearX\", 0.4667959516719652, 0.8938082224109446], [\"TranslateY\", 0.7311343008292865, 0.6829842246020277]], [[\"ShearX\", 0.6130281467237769, 0.9924010909612302], [\"Brightness\", 0.41039241699696916, 0.9753218875311392]], [[\"TranslateY\", 0.0747250386427123, 0.34602725521067534], [\"Rotate\", 0.5902597465515901, 0.361094672021087]], [[\"Invert\", 0.05234890878959486, 0.36914978664919407], [\"Sharpness\", 0.42140532878231374, 0.19204058551048275]], [[\"ShearY\", 0.11590485361909497, 0.6518540857972316], [\"Invert\", 0.6482444740361704, 0.48256237896163945]], [[\"Rotate\", 0.4931329446923608, 0.037076242417301675], [\"Contrast\", 0.9097939772412852, 0.5619594905306389]], [[\"Posterize\", 0.7311032479626216, 0.4796364593912915], [\"Color\", 0.13912123993932402, 0.03997286439663705]], [[\"AutoContrast\", 0.6196602944085344, 0.2531430457527588], [\"Rotate\", 0.5583937060431972, 0.9893379795224023]], [[\"AutoContrast\", 0.8847753125072959, 0.19123028952580057], [\"TranslateY\", 0.494361716097206, 0.14232297727461696]], [[\"Invert\", 0.6212360716340707, 0.033898871473033165], [\"AutoContrast\", 0.30839896957008295, 0.23603569542166247]], [[\"Equalize\", 0.8255583546605049, 0.613736933157845], [\"AutoContrast\", 0.6357166629525485, 0.7894617347709095]], [[\"Brightness\", 0.33840706322846814, 0.07917167871493658], [\"ShearY\", 0.15693175752528676, 0.6282773652129153]], [[\"Cutout\", 0.7550520024859294, 0.08982367300605598], [\"ShearX\", 0.5844942417320858, 0.36051195083380105]]]\n",
        "    return p\n",
        "\n",
        "random_mirror = True\n",
        "\n",
        "class CutoutDefault(object):\n",
        "    \"\"\"\n",
        "    Reference : https://github.com/quark0/darts/blob/master/cnn/utils.py\n",
        "    \"\"\"\n",
        "    def __init__(self, length=16):\n",
        "        self.length = length\n",
        "\n",
        "    def __call__(self, img):\n",
        "        if self.length <= 0:\n",
        "            return img\n",
        "        h, w, d = img.shape\n",
        "        mask = np.ones((h, w), np.float32)\n",
        "        y = np.random.randint(h)\n",
        "        x = np.random.randint(w)\n",
        "\n",
        "        y1 = np.clip(y - self.length // 2, 0, h)\n",
        "        y2 = np.clip(y + self.length // 2, 0, h)\n",
        "        x1 = np.clip(x - self.length // 2, 0, w)\n",
        "        x2 = np.clip(x + self.length // 2, 0, w)\n",
        "\n",
        "        mask[y1: y2, x1: x2] = 0.\n",
        "        img *= np.expand_dims(mask,axis=-1)\n",
        "        return img\n",
        "    \n",
        "\n",
        "def extra_cutout(img,max_length=10):\n",
        "    if max_length <= 0:\n",
        "        return img\n",
        "    h, w, d = img.shape\n",
        "    mask = np.ones((h, w), np.float32)\n",
        "    y = np.random.randint(h)\n",
        "    x = np.random.randint(w)\n",
        "    \n",
        "    x_l = np.random.randint(max_length)\n",
        "    y_l = np.random.randint(max_length)\n",
        "    \n",
        "    y1 = np.clip(y - y_l // 2, 0, h)\n",
        "    y2 = np.clip(y + y_l // 2, 0, h)\n",
        "    x1 = np.clip(x - x_l // 2, 0, w)\n",
        "    x2 = np.clip(x + x_l // 2, 0, w)\n",
        "\n",
        "    mask[y1: y2, x1: x2] = 0.\n",
        "    img *= np.expand_dims(mask,axis=-1)\n",
        "    return img\n",
        "\n",
        "class AutoAugment(object):\n",
        "    def __init__(self, policies=fa_reduced_cifar10()):\n",
        "        self.policies = policies\n",
        "\n",
        "    def __call__(self, image):\n",
        "        img = PIL.Image.fromarray(np.uint8(image.numpy()*255))\n",
        "        for _ in range(1):\n",
        "            policy = random.choice(self.policies)\n",
        "            for name, pr, level in policy:\n",
        "                if random.random() > pr:\n",
        "                    continue\n",
        "                img = apply_augment(img, name, level)\n",
        "            img = np.array(img.getdata()).reshape((32, 32, 3)) / 255.0\n",
        "            img = extra_cutout(img)\n",
        "        return img\n",
        "\n",
        "    \n",
        "def augment_unlabeled(original_batch, augmented_batch):\n",
        "    original_batch = tf.squeeze(augment_tmp(tf.expand_dims(original_batch, axis=0)), axis=0)\n",
        "    aug = AutoAugment()\n",
        "    im_shape = augmented_batch.shape\n",
        "    [augmented_batch,] = tf.py_function(aug, [augmented_batch], [tf.float32])\n",
        "    augmented_batch.set_shape(im_shape)\n",
        "    augmented_batch = tf.squeeze(augment_tmp(tf.expand_dims(augmented_batch, axis=0)), axis=0)\n",
        "    return original_batch, augmented_batch\n",
        "\n",
        "def get_unlabeled_training_dataset(x_unlabeled_training, batch_size):\n",
        "    unlabeled_train_dataset = tf.data.Dataset.from_tensor_slices((x_unlabeled_training,x_unlabeled_training))\n",
        "    unlabeled_train_dataset = unlabeled_train_dataset.map(augment_unlabeled, num_parallel_calls=4)\n",
        "    unlabeled_train_dataset = unlabeled_train_dataset.batch(batch_size, drop_remainder=True)\n",
        "\n",
        "    return unlabeled_train_dataset\n",
        "\n",
        "\n",
        "def get_labeled_validation_dataset(x_labeled_validation, y_labeled_validation, batch_size):\n",
        "    val_dataset = tf.data.Dataset.from_tensor_slices((x_labeled_validation, y_labeled_validation))\n",
        "    val_dataset = val_dataset.batch(batch_size)\n",
        "    return val_dataset\n"
      ],
      "execution_count": 0,
      "outputs": []
    },
    {
      "cell_type": "code",
      "metadata": {
        "colab_type": "code",
        "id": "4WHzfXQxGg1c",
        "outputId": "3e18c2c7-8d0c-4037-c95e-734acf26b4c0",
        "colab": {
          "base_uri": "https://localhost:8080/",
          "height": 34
        }
      },
      "source": [
        "tf.compat.v1.logging.set_verbosity(tf.compat.v1.logging.ERROR)\n",
        "n_classes = 10\n",
        "print(tf.__version__)\n",
        "minimum_val_loss = None\n",
        "(x_train, y_train), (x_test, y_test) = tf.keras.datasets.cifar10.load_data()\n",
        "x_test = x_test.astype('float32')\n",
        "x_test /= 255.\n",
        "y_test = tf.keras.utils.to_categorical(y_test, n_classes)\n",
        "\n",
        "x_labeled_training, y_labeled_training, x_labeled_validation, y_labeled_validation, x_unlabeled_training = \\\n",
        "    training_validation_set_split(x_train, y_train, labeled_samples_per_class=400, fix_validation_size=True,\n",
        "                                  shuffle=True)\n",
        "\n",
        "x_labeled_training, y_labeled_training, x_labeled_validation, y_labeled_validation, x_unlabeled_training = \\\n",
        "    preprocess_splits(x_labeled_training, y_labeled_training, x_labeled_validation, y_labeled_validation,\n",
        "                      x_unlabeled_training, n_classes)"
      ],
      "execution_count": 0,
      "outputs": [
        {
          "output_type": "stream",
          "text": [
            "2.0.0-rc2\n"
          ],
          "name": "stdout"
        }
      ]
    },
    {
      "cell_type": "code",
      "metadata": {
        "colab_type": "code",
        "id": "lVNwG6p4GjVy",
        "colab": {}
      },
      "source": [
        "# https://github.com/google-research/uda/blob/master/image/main.py\n",
        "def kl_divergence_with_logits(p_logits, q_logits):\n",
        "    p = tf.nn.softmax(p_logits)\n",
        "    log_p = tf.nn.log_softmax(p_logits)\n",
        "    log_q = tf.nn.log_softmax(q_logits)\n",
        "\n",
        "    kl = tf.reduce_sum(p * (log_p - log_q), -1)\n",
        "    return kl\n",
        "\n",
        "def get_tsa_threshold(global_step, num_train_steps, start=1./10, end=1):\n",
        "    step_ratio = tf.dtypes.cast(global_step, tf.float32)  / tf.dtypes.cast(num_train_steps, tf.float32)\n",
        "    coeff = step_ratio\n",
        "    return coeff * (end - start) + start\n",
        "\n",
        "@tf.function\n",
        "def augment_labeled(images):\n",
        "    images = tf.image.random_flip_left_right(images)\n",
        "    images = tf.image.resize_with_crop_or_pad(images,36,36)\n",
        "    images = tf.image.random_crop(images,[images.shape[0], 32, 32, 3])\n",
        "    return tf.clip_by_value(images, 0.0, 1.0)\n",
        "\n",
        "def anneal_sup_loss(sup_logits, sup_labels, sup_loss, global_step, num_train_steps):\n",
        "    eff_train_prob_threshold = get_tsa_threshold(global_step, num_train_steps)\n",
        "    sup_probs = tf.nn.softmax(sup_logits, axis=-1)\n",
        "    correct_label_probs = tf.reduce_sum(\n",
        "      sup_labels * sup_probs, axis=-1)\n",
        "    larger_than_threshold = tf.greater(\n",
        "      correct_label_probs, eff_train_prob_threshold)\n",
        "    loss_mask = 1 - tf.cast(larger_than_threshold, tf.float32)\n",
        "    loss_mask = tf.stop_gradient(loss_mask)\n",
        "    sup_loss = sup_loss * loss_mask\n",
        "    avg_sup_loss = (tf.reduce_sum(sup_loss) /\n",
        "                  tf.maximum(tf.reduce_sum(loss_mask), 1))\n",
        "    return  avg_sup_loss\n",
        "  \n",
        "def weight_decay(model, decay_rate):\n",
        "    for var in model.trainable_variables:\n",
        "        var.assign(var * (1 - decay_rate))"
      ],
      "execution_count": 0,
      "outputs": []
    },
    {
      "cell_type": "code",
      "metadata": {
        "colab_type": "code",
        "id": "5JbuZRwaHWvq",
        "outputId": "9c9bd7d7-72b9-45b0-fa19-76d65ffe6635",
        "colab": {
          "base_uri": "https://localhost:8080/",
          "height": 441,
          "referenced_widgets": [
            "7eb58fd003044b49b111eb817f2c3118",
            "dbf4142852bd4546a597466b40377196",
            "852c589abe9647828ba854fe23b54188",
            "e6c7df5fe4354031918f73f2234476c2",
            "512dcd8652d4460d85dac8fdc6988e01",
            "c74e3186cf9c4fefa604cfe217604dc0",
            "48b9469bd39b43e2a5df8bb075a074e7",
            "593ef2c0af6548d4b25a83a1fcfd31e9",
            "ab1debd44d104e94a188f8882ad77bde",
            "7b4c458c8eb24a93b027ddb2b775f1cf",
            "e86a2ffe370045179e02ea28397884f2",
            "de45767fb6b542c4b72245d71ba4992e",
            "496f180d724043f3a33e998281b87785",
            "3f68e02d89604aafa812b9d774dd272f",
            "81c0459c028d4e8cb0cf8beec791804f",
            "f142a237a3d6487fa9181a8547059ed6",
            "1fca48fb39a94c19b3f8b0c393d0aa89",
            "a3dd1c564bb84299b0d7017e4c6aeeff",
            "0f2bbc8da0724d3eb2223e3d90aedde6",
            "6a5cd3bf1ad74c93bec2bf8152c39f68",
            "d7bcad8452e64f748b386cb0165e891b",
            "f0dec57dc68242bf997779431249b83e",
            "b23aff600bc746b19f2882e271c4b47e",
            "536426a41c104b8bb7c7232c554d15a1",
            "43957f82395147e9afbb9173b3ba18e1",
            "5a1b7024e8574badb26739b767433989",
            "2caa56ff6bd644f68f944de46fc64a73",
            "a411acf8f8ee44429838035a93f7f818",
            "39bf339fb0454ae68aa86698a506c4b8",
            "a23aa055c2324f30b20870aae6a9ba2d",
            "0e00e56bf022425ab6327078a063ca8c",
            "82da21c538e74299b53a4836b9e00c1c",
            "b7ed2793acdf4118aa308f7caeca3381",
            "35ae22213e3c4c7e8d495e4228004162",
            "2994323dbd8c4c199e3c6b53ea5578fd",
            "4390f590e3054851832d7994ed5a5b6e",
            "6984f03e600c498c9f6cd7b84aa901d9",
            "30565784760f48ef8e0befb9b48c20e4",
            "ac415f74f7d2411aa0a82a7f99cad8cc",
            "ebcd50d4e8f74df3abcb679d6b9b64b6",
            "9e14b8bce14d4d6aae16b505a88261bd",
            "0df26787281a4a99b589c7156bdf1c1a",
            "a422a40a0d7c42b4b67b06f608dde273",
            "0ddb30acd0fa4f6caf18b08be0ff1f24",
            "448ce2e006a246b4ab48bb42a5fd1bfe",
            "e0dfd9d3d2724316abdc399a75ed6f79",
            "6ae3baf7010a433daee827630d34ce63",
            "e885cec6c2b44a2a8a2f62054fb02c08",
            "efbfdfdfc7154f7eafff04c6fa3cfdf4",
            "9eddfc845df24764a5924fec0436f676",
            "ce85d19f63784c1d8868f8fa23a0b129",
            "cd2a6059d8c8406cbd7c432513a2e083",
            "e068ddefd871498593e8cb0130ad4e38",
            "c514a25f3d3d4e9aba76dd839d833d7a",
            "2992717f2e73494c9b10f86d91dfaa8d",
            "83d8e196eacc4a3a81ad295ec95eb240",
            "258e2ee7d684467faed42d55dfd2bd69",
            "0bd1d861414045c98199d2bc0bdc9218",
            "4e8ce45f3ef2447f8ba0247e0c8c0684",
            "4461e87c21e0422897d9799c84fba11e",
            "64b0d2e254444552962cbc82c2b915b8",
            "415758b3006c4846b2ca16e13937c4e9",
            "53b507c094b64d1d83877eadcefa3eed",
            "6f5e096c4ec343a5821f70a7da685fe5",
            "993ab4912b3d4fabbf0541e4a3fc3e77",
            "260de9bf11c748b383f8b096b99cfe20",
            "c2784d2807f04817b58db5968b00d9b9",
            "213f2d425fec43f4bdc0c82cc160e86f",
            "9e664fca597b45acb063553005cb33bb",
            "7993e678f95140fd8855547bfc5deedd",
            "401be6098fff4a63889a2a09d6e9a6af",
            "a764812ab01043dd943f2aa94f7d1269",
            "a9df19d98df5498784021fcceb8a61c8",
            "34b0a21df80541ea99c77644d5b9fcdd",
            "e8536413875b44538cc1bdbbb519ecb8",
            "0787c611c62043ab9c39a9a7f10623f3",
            "7783843b16f64ccda90dc9108ad319e2",
            "29aba48854f745659b978b88de3d8286",
            "aea8a49f0ce448ad9aa0f984f102a8f7",
            "730435e4d87c4ebeb73ef0c508158949",
            "33798f25b4424f369a46dabeaeddc750",
            "43fefce3f77f48d99fdc1cafa85a0ece",
            "859dfe434ba84043a3d7bebbaac5d809",
            "b11757ca9e8545daaa4aac6d2fbb73ae",
            "62feddcaec864467be155223c51b8848",
            "2f719f2c68324158960dd4de117e7b1e",
            "c5e297a0d1224846a0a8f3bd57090b6f",
            "b7bef73da3e24320b74a5d9d714c46ff",
            "0045c4b41a3d4a49b93d4de23a4c5ae7",
            "3f442a01d71244f5bee38d0557f74507",
            "6646fbbe6ee240fcbc6a566ab1df48b8",
            "5b2e19f9ff914358aae54ac82bbd323f",
            "1f0eb638aae74258833d111c6ab06267",
            "a6420e74a2a2434ea4d7a51792f365d1",
            "5bb6202add5e4ac79c67fd307d91b91b",
            "802b3818976c4cc2a07047afd16cf3eb",
            "dcd5cbbeb86447e0aead183e5a1f1ea2",
            "f51d1756fb3f4a2aae5c9a7452c3d225",
            "bfc0c3477b4b4003a9a3a61fa483e0cf",
            "4d10373ca9654827a3baefa7a2a47321",
            "ab7ed15ebe2049eda0e305174dfa23fb",
            "8ed8988cffba4bf5b120e52076164dd5",
            "1ffd5fe8609b494fab6457aae6513f82",
            "dcc5b8a0b9b04c9c9144ff61354e7aed",
            "c37f04b60d7b48648f9e87d0b81530f1",
            "5afbbe3d44e54921bec0b75ab56cf85c",
            "8676fa77276649af81971a8730025f87",
            "fd0fe435d8da46c38e29f25303804d4e",
            "4c4d5b9b2410476182a53c07e342e4bf",
            "05fad0c863164a3da26ba822a13b231a",
            "dcc0b6f5a5b745f694775e72c08c80a0",
            "afc0c6f2d392462db7a74b6bbe836f0c",
            "da45923d0c904cd387d2fba0f796e64b",
            "2a253c61ee164267b1cba564fae0dc3e",
            "64247f59f78e4ca792e23df79f6dac27",
            "cbb99e14b7a34c919b9efe8af2ed2c01",
            "cc5e8cfdbe8f4d429815ee08526c6710",
            "e62da83d64ee429c8cfe8412319b06c8",
            "5423414c236141ecb1d17f0c78b715dd",
            "8f40f116840c4538a05a418819ec474a",
            "fb292bfa8e794d84a4163824f0040512",
            "4b95fdb868bc4faba1e496b8bef13e67",
            "226a57d7da754182b62acad37621e6bf",
            "dcb8ac3916014f849b5e3c142c17fbb7",
            "bfc416460c294cc9b60730f01ae8e2f0",
            "de1bde41ce224ed98920c915ec026b27",
            "a8b2ccd77ede41a789e06dd71e1224ad",
            "7d1785192d884ff490489d26f5a892dd",
            "0f240aad1bfa4038923297afc93b1279",
            "9d800ad74d3b467e82d5a443377f63c7",
            "fbd3701fd0304fb6b10990e232cfcb61",
            "fe7fa245605a4d86a76b63603669d70f",
            "ec877901a1a84415ba9683b324990e5d",
            "a5a02c766ff7460283bed40289c697c7",
            "98bc79ee07e84ba790fff81c761b5c4f",
            "3aac85b8a5f94f758e0fe2bd9f4137b5",
            "6873e4ecd8dd42729eff07dec09003d0",
            "3ada927a3266435c844cf09c846ab28c"
          ]
        }
      },
      "source": [
        "train_step = 50000\n",
        "unsupervised_coeff = 3\n",
        "w_decay = 0.00004\n",
        "warmup_steps = 10000\n",
        "lr = 0.0001\n",
        "min_lr_ratio = 0.004\n",
        "global_step = 0\n",
        "# Get the model.\n",
        "model = WideResNet(n_classes, depth=28, width=2)\n",
        "model.build(input_shape=(None, 32, 32, 3))\n",
        "\n",
        "# Configure LR\n",
        "learning_rate_fn1 = tf.keras.optimizers.schedules.ExponentialDecay(\n",
        "    lr,\n",
        "    decay_steps=10,\n",
        "    decay_rate=0.999,\n",
        "    staircase=True)\n",
        "step_list = []\n",
        "lr_list = []\n",
        "warmup_steps = 10000\n",
        "global_step = 1\n",
        "for i in range(200000):\n",
        "    if i%500 == 0:\n",
        "        if(i<warmup_steps):\n",
        "            lrate = global_step / warmup_steps * lr\n",
        "        else:\n",
        "            lrate = learning_rate_fn1(i-warmup_steps).numpy()\n",
        "        lr_list.append(lrate)\n",
        "        step_list.append(i)\n",
        "    global_step += 1\n",
        "step_list = step_list[1:]\n",
        "\n",
        "boundaries = step_list\n",
        "values = lr_list\n",
        "learning_rate_fn = tf.keras.optimizers.schedules.PiecewiseConstantDecay(\n",
        "    boundaries, values)\n",
        "\n",
        "optimizer = tf.keras.optimizers.SGD(\n",
        "        learning_rate=learning_rate_fn,\n",
        "        momentum=0.9,\n",
        "        nesterov=True)\n",
        "\n",
        "global_step = 0\n",
        "\n",
        "# Prepare the metrics.\n",
        "train_acc_metric = tf.keras.metrics.CategoricalAccuracy()\n",
        "val_acc_metric = tf.keras.metrics.CategoricalAccuracy()\n",
        "\n",
        "avg_train_loss = tf.keras.metrics.Mean()\n",
        "avg_labeled_loss = tf.keras.metrics.Mean()\n",
        "avg_unlabeled_loss = tf.keras.metrics.Mean()\n",
        "avg_val_loss = tf.keras.metrics.Mean()\n",
        "\n",
        "# Prepare the training dataset.\n",
        "labeled_batch_size = 16\n",
        "unlabeled_batch_size = 64\n",
        "model_batch_size = 32\n",
        "\n",
        "labeled_train_dataset = get_labeled_training_dataset(x_labeled_training, y_labeled_training, labeled_batch_size)\n",
        "labeled_iter = iter(labeled_train_dataset)\n",
        "\n",
        "unlabeled_train_dataset = get_unlabeled_training_dataset(x_unlabeled_training, unlabeled_batch_size)\n",
        "\n",
        "# Prepare the validation dataset.\n",
        "val_dataset = get_labeled_validation_dataset(x_labeled_validation, y_labeled_validation, labeled_batch_size)\n",
        "\n",
        "\n",
        "# Iterate over epochs.\n",
        "for epoch in range(500):\n",
        "    epoch_start = tf.timestamp(name=None)\n",
        "\n",
        "    # Iterate over the batches of the dataset.\n",
        "    for step, (x_unlabeled_batch_original, x_unlabeled_batch_augmented) in tqdm(enumerate(unlabeled_train_dataset), total=x_unlabeled_training.shape[0]//unlabeled_batch_size):\n",
        "        try:\n",
        "            x_labeled_batch_train, y_labeled_batch_train = next(labeled_iter)\n",
        "        except:\n",
        "            labeled_iter = iter(labeled_train_dataset)\n",
        "            x_labeled_batch_train, y_labeled_batch_train = next(labeled_iter)\n",
        "\n",
        "        x_augmented_labeled_batch = augment_labeled(x_labeled_batch_train)\n",
        "        \n",
        "        \n",
        "        with tf.GradientTape() as tape:\n",
        "\n",
        "            labeled_logits = model(x_augmented_labeled_batch)\n",
        "\n",
        "            unlabeled_original_logits = model(x_unlabeled_batch_original)\n",
        "            unlabeled_augmented_logits = model(x_unlabeled_batch_augmented)\n",
        "        \n",
        "            # Labeled loss\n",
        "            labeled_loss = tf.nn.softmax_cross_entropy_with_logits(labels=y_labeled_batch_train, logits=labeled_logits)\n",
        "\n",
        "            # Apply TSA\n",
        "            labeled_loss = anneal_sup_loss(labeled_logits, y_labeled_batch_train, labeled_loss, global_step, train_step)\n",
        "\n",
        "            # Unlabeled loss - stop gradient for unlabeled orig\n",
        "            unlabeled_loss = kl_divergence_with_logits(tf.stop_gradient(unlabeled_original_logits), unlabeled_augmented_logits)\n",
        "            unlabeled_loss = tf.reduce_mean(unlabeled_loss)\n",
        "\n",
        "            total_loss = labeled_loss + unsupervised_coeff * unlabeled_loss\n",
        "\n",
        "            avg_labeled_loss(labeled_loss)\n",
        "            avg_unlabeled_loss(unlabeled_loss)\n",
        "            avg_train_loss(total_loss)\n",
        "\n",
        "            \n",
        "        # Calculate gradients, update metrics\n",
        "        grads = tape.gradient(labeled_loss, model.trainable_weights)\n",
        "        optimizer.apply_gradients(zip(grads, model.trainable_weights))\n",
        "        train_acc_metric(y_labeled_batch_train, tf.nn.softmax(labeled_logits))\n",
        "        weight_decay(model=model, decay_rate=w_decay)\n",
        "        global_step += 1\n",
        "        \n",
        "    for x_batch_val, y_batch_val in val_dataset:\n",
        "        val_logits = model(x_batch_val, training=False)\n",
        "        # Update val metrics\n",
        "        val_acc_metric(y_batch_val, tf.nn.softmax(val_logits))\n",
        "        val_loss = tf.nn.softmax_cross_entropy_with_logits(labels=y_batch_val, logits=val_logits)\n",
        "        avg_val_loss(tf.reduce_mean(val_loss))\n",
        "\n",
        "\n",
        "    epoch_end = tf.timestamp(name=None)\n",
        "    print(\n",
        "        f'Epoch: {epoch:4d}, Train Acc: {train_acc_metric.result():.3%}, Labeled loss: {avg_labeled_loss.result():.4f}, Unlabeled loss: {avg_unlabeled_loss.result():.4f}, '\n",
        "        f'Train loss: {avg_train_loss.result():.4f}, Val loss: {avg_val_loss.result():.4f}, Val Acc: {val_acc_metric.result():.3%} ',\n",
        "        f'Time: {str(int((epoch_end.numpy() - epoch_start.numpy())))}s, Global step: {str(global_step)}, Learning rate: {learning_rate_fn(global_step).numpy()}')\n",
        "\n",
        "\n",
        "    train_acc_metric.reset_states()\n",
        "    val_acc_metric.reset_states()\n",
        "    avg_train_loss.reset_states()\n",
        "    avg_val_loss.reset_states()\n",
        "    avg_labeled_loss.reset_states()\n",
        "    avg_unlabeled_loss.reset_states()\n"
      ],
      "execution_count": 0,
      "outputs": [
        {
          "output_type": "display_data",
          "data": {
            "application/vnd.jupyter.widget-view+json": {
              "model_id": "a9df19d98df5498784021fcceb8a61c8",
              "version_major": 2,
              "version_minor": 0
            },
            "text/plain": [
              "HBox(children=(IntProgress(value=0, max=640), HTML(value='')))"
            ]
          },
          "metadata": {
            "tags": []
          }
        },
        {
          "output_type": "stream",
          "text": [
            "\n",
            "Epoch:    0, Train Acc: 10.781%, Labeled loss: 2.7593, Unlabeled loss: 0.0286, Train loss: 2.8450, Val loss: 2.3508, Val Acc: 9.880%  Time: 218s, Global step: 640, Learning rate: 5.01000022268272e-06\n"
          ],
          "name": "stdout"
        },
        {
          "output_type": "display_data",
          "data": {
            "application/vnd.jupyter.widget-view+json": {
              "model_id": "34b0a21df80541ea99c77644d5b9fcdd",
              "version_major": 2,
              "version_minor": 0
            },
            "text/plain": [
              "HBox(children=(IntProgress(value=0, max=640), HTML(value='')))"
            ]
          },
          "metadata": {
            "tags": []
          }
        },
        {
          "output_type": "stream",
          "text": [
            "\n",
            "Epoch:    1, Train Acc: 10.859%, Labeled loss: 2.6294, Unlabeled loss: 0.0248, Train loss: 2.7037, Val loss: 2.3134, Val Acc: 9.360%  Time: 217s, Global step: 1280, Learning rate: 1.0009999641624745e-05\n"
          ],
          "name": "stdout"
        },
        {
          "output_type": "display_data",
          "data": {
            "application/vnd.jupyter.widget-view+json": {
              "model_id": "e8536413875b44538cc1bdbbb519ecb8",
              "version_major": 2,
              "version_minor": 0
            },
            "text/plain": [
              "HBox(children=(IntProgress(value=0, max=640), HTML(value='')))"
            ]
          },
          "metadata": {
            "tags": []
          }
        },
        {
          "output_type": "stream",
          "text": [
            "\n",
            "Epoch:    2, Train Acc: 11.836%, Labeled loss: 2.4489, Unlabeled loss: 0.0234, Train loss: 2.5193, Val loss: 2.2361, Val Acc: 12.220%  Time: 216s, Global step: 1920, Learning rate: 1.5010000424808823e-05\n"
          ],
          "name": "stdout"
        },
        {
          "output_type": "display_data",
          "data": {
            "application/vnd.jupyter.widget-view+json": {
              "model_id": "0787c611c62043ab9c39a9a7f10623f3",
              "version_major": 2,
              "version_minor": 0
            },
            "text/plain": [
              "HBox(children=(IntProgress(value=0, max=640), HTML(value='')))"
            ]
          },
          "metadata": {
            "tags": []
          }
        },
        {
          "output_type": "stream",
          "text": [
            "\n",
            "Epoch:    3, Train Acc: 15.762%, Labeled loss: 2.2978, Unlabeled loss: 0.0290, Train loss: 2.3847, Val loss: 2.1725, Val Acc: 19.940%  Time: 215s, Global step: 2560, Learning rate: 2.5010000172187574e-05\n"
          ],
          "name": "stdout"
        },
        {
          "output_type": "display_data",
          "data": {
            "application/vnd.jupyter.widget-view+json": {
              "model_id": "7783843b16f64ccda90dc9108ad319e2",
              "version_major": 2,
              "version_minor": 0
            },
            "text/plain": [
              "HBox(children=(IntProgress(value=0, max=640), HTML(value='')))"
            ]
          },
          "metadata": {
            "tags": []
          }
        },
        {
          "output_type": "stream",
          "text": [
            "\n",
            "Epoch:    4, Train Acc: 21.611%, Labeled loss: 2.2172, Unlabeled loss: 0.0382, Train loss: 2.3316, Val loss: 2.1211, Val Acc: 24.740%  Time: 217s, Global step: 3200, Learning rate: 3.001000004587695e-05\n"
          ],
          "name": "stdout"
        },
        {
          "output_type": "display_data",
          "data": {
            "application/vnd.jupyter.widget-view+json": {
              "model_id": "29aba48854f745659b978b88de3d8286",
              "version_major": 2,
              "version_minor": 0
            },
            "text/plain": [
              "HBox(children=(IntProgress(value=0, max=640), HTML(value='')))"
            ]
          },
          "metadata": {
            "tags": []
          }
        },
        {
          "output_type": "stream",
          "text": [
            "\n",
            "Epoch:    5, Train Acc: 26.426%, Labeled loss: 2.1655, Unlabeled loss: 0.0498, Train loss: 2.3149, Val loss: 2.0771, Val Acc: 26.360%  Time: 214s, Global step: 3840, Learning rate: 3.501000173855573e-05\n"
          ],
          "name": "stdout"
        },
        {
          "output_type": "display_data",
          "data": {
            "application/vnd.jupyter.widget-view+json": {
              "model_id": "aea8a49f0ce448ad9aa0f984f102a8f7",
              "version_major": 2,
              "version_minor": 0
            },
            "text/plain": [
              "HBox(children=(IntProgress(value=0, max=640), HTML(value='')))"
            ]
          },
          "metadata": {
            "tags": []
          }
        },
        {
          "output_type": "stream",
          "text": [
            "\n",
            "Epoch:    6, Train Acc: 29.043%, Labeled loss: 2.1183, Unlabeled loss: 0.0596, Train loss: 2.2970, Val loss: 2.0340, Val Acc: 27.440%  Time: 216s, Global step: 4480, Learning rate: 4.00099997932557e-05\n"
          ],
          "name": "stdout"
        },
        {
          "output_type": "display_data",
          "data": {
            "application/vnd.jupyter.widget-view+json": {
              "model_id": "730435e4d87c4ebeb73ef0c508158949",
              "version_major": 2,
              "version_minor": 0
            },
            "text/plain": [
              "HBox(children=(IntProgress(value=0, max=640), HTML(value='')))"
            ]
          },
          "metadata": {
            "tags": []
          }
        },
        {
          "output_type": "stream",
          "text": [
            "\n",
            "Epoch:    7, Train Acc: 32.402%, Labeled loss: 2.0747, Unlabeled loss: 0.0731, Train loss: 2.2940, Val loss: 1.9727, Val Acc: 29.380%  Time: 218s, Global step: 5120, Learning rate: 5.000999954063445e-05\n"
          ],
          "name": "stdout"
        },
        {
          "output_type": "display_data",
          "data": {
            "application/vnd.jupyter.widget-view+json": {
              "model_id": "33798f25b4424f369a46dabeaeddc750",
              "version_major": 2,
              "version_minor": 0
            },
            "text/plain": [
              "HBox(children=(IntProgress(value=0, max=640), HTML(value='')))"
            ]
          },
          "metadata": {
            "tags": []
          }
        },
        {
          "output_type": "stream",
          "text": [
            "\n",
            "Epoch:    8, Train Acc: 32.891%, Labeled loss: 2.0354, Unlabeled loss: 0.0874, Train loss: 2.2975, Val loss: 1.9711, Val Acc: 27.820%  Time: 215s, Global step: 5760, Learning rate: 5.501000123331323e-05\n"
          ],
          "name": "stdout"
        },
        {
          "output_type": "display_data",
          "data": {
            "application/vnd.jupyter.widget-view+json": {
              "model_id": "43fefce3f77f48d99fdc1cafa85a0ece",
              "version_major": 2,
              "version_minor": 0
            },
            "text/plain": [
              "HBox(children=(IntProgress(value=0, max=640), HTML(value='')))"
            ]
          },
          "metadata": {
            "tags": []
          }
        },
        {
          "output_type": "stream",
          "text": [
            "\n",
            "Epoch:    9, Train Acc: 34.658%, Labeled loss: 2.0037, Unlabeled loss: 0.0966, Train loss: 2.2934, Val loss: 1.9223, Val Acc: 30.020%  Time: 223s, Global step: 6400, Learning rate: 6.0009999288013205e-05\n"
          ],
          "name": "stdout"
        },
        {
          "output_type": "display_data",
          "data": {
            "application/vnd.jupyter.widget-view+json": {
              "model_id": "859dfe434ba84043a3d7bebbaac5d809",
              "version_major": 2,
              "version_minor": 0
            },
            "text/plain": [
              "HBox(children=(IntProgress(value=0, max=640), HTML(value='')))"
            ]
          },
          "metadata": {
            "tags": []
          }
        },
        {
          "output_type": "stream",
          "text": [
            "\n",
            "Epoch:   10, Train Acc: 35.498%, Labeled loss: 1.9710, Unlabeled loss: 0.1054, Train loss: 2.2872, Val loss: 1.9142, Val Acc: 29.700%  Time: 210s, Global step: 7040, Learning rate: 7.000999903539196e-05\n"
          ],
          "name": "stdout"
        },
        {
          "output_type": "display_data",
          "data": {
            "application/vnd.jupyter.widget-view+json": {
              "model_id": "b11757ca9e8545daaa4aac6d2fbb73ae",
              "version_major": 2,
              "version_minor": 0
            },
            "text/plain": [
              "HBox(children=(IntProgress(value=0, max=640), HTML(value='')))"
            ]
          },
          "metadata": {
            "tags": []
          }
        },
        {
          "output_type": "stream",
          "text": [
            "\n",
            "Epoch:   11, Train Acc: 36.758%, Labeled loss: 1.9438, Unlabeled loss: 0.1140, Train loss: 2.2857, Val loss: 1.8383, Val Acc: 32.400%  Time: 209s, Global step: 7680, Learning rate: 7.501000072807074e-05\n"
          ],
          "name": "stdout"
        },
        {
          "output_type": "display_data",
          "data": {
            "application/vnd.jupyter.widget-view+json": {
              "model_id": "62feddcaec864467be155223c51b8848",
              "version_major": 2,
              "version_minor": 0
            },
            "text/plain": [
              "HBox(children=(IntProgress(value=0, max=640), HTML(value='')))"
            ]
          },
          "metadata": {
            "tags": []
          }
        },
        {
          "output_type": "stream",
          "text": [
            "\n",
            "Epoch:   12, Train Acc: 37.959%, Labeled loss: 1.9181, Unlabeled loss: 0.1194, Train loss: 2.2764, Val loss: 1.8646, Val Acc: 30.660%  Time: 208s, Global step: 8320, Learning rate: 8.001000242074952e-05\n"
          ],
          "name": "stdout"
        },
        {
          "output_type": "display_data",
          "data": {
            "application/vnd.jupyter.widget-view+json": {
              "model_id": "2f719f2c68324158960dd4de117e7b1e",
              "version_major": 2,
              "version_minor": 0
            },
            "text/plain": [
              "HBox(children=(IntProgress(value=0, max=640), HTML(value='')))"
            ]
          },
          "metadata": {
            "tags": []
          }
        },
        {
          "output_type": "stream",
          "text": [
            "\n",
            "Epoch:   13, Train Acc: 38.711%, Labeled loss: 1.8881, Unlabeled loss: 0.1234, Train loss: 2.2584, Val loss: 1.7890, Val Acc: 35.920%  Time: 208s, Global step: 8960, Learning rate: 8.500999683747068e-05\n"
          ],
          "name": "stdout"
        },
        {
          "output_type": "display_data",
          "data": {
            "application/vnd.jupyter.widget-view+json": {
              "model_id": "c5e297a0d1224846a0a8f3bd57090b6f",
              "version_major": 2,
              "version_minor": 0
            },
            "text/plain": [
              "HBox(children=(IntProgress(value=0, max=640), HTML(value='')))"
            ]
          },
          "metadata": {
            "tags": []
          }
        },
        {
          "output_type": "stream",
          "text": [
            "\n",
            "Epoch:   14, Train Acc: 39.834%, Labeled loss: 1.8664, Unlabeled loss: 0.1337, Train loss: 2.2674, Val loss: 1.8026, Val Acc: 34.200%  Time: 214s, Global step: 9600, Learning rate: 9.501000022282824e-05\n"
          ],
          "name": "stdout"
        },
        {
          "output_type": "display_data",
          "data": {
            "application/vnd.jupyter.widget-view+json": {
              "model_id": "b7bef73da3e24320b74a5d9d714c46ff",
              "version_major": 2,
              "version_minor": 0
            },
            "text/plain": [
              "HBox(children=(IntProgress(value=0, max=640), HTML(value='')))"
            ]
          },
          "metadata": {
            "tags": []
          }
        },
        {
          "output_type": "stream",
          "text": [
            "\n",
            "Epoch:   15, Train Acc: 40.508%, Labeled loss: 1.8382, Unlabeled loss: 0.1398, Train loss: 2.2575, Val loss: 1.7575, Val Acc: 35.780%  Time: 215s, Global step: 10240, Learning rate: 9.999999747378752e-05\n"
          ],
          "name": "stdout"
        },
        {
          "output_type": "display_data",
          "data": {
            "application/vnd.jupyter.widget-view+json": {
              "model_id": "0045c4b41a3d4a49b93d4de23a4c5ae7",
              "version_major": 2,
              "version_minor": 0
            },
            "text/plain": [
              "HBox(children=(IntProgress(value=0, max=640), HTML(value='')))"
            ]
          },
          "metadata": {
            "tags": []
          }
        },
        {
          "output_type": "stream",
          "text": [
            "\n",
            "Epoch:   16, Train Acc: 42.158%, Labeled loss: 1.8116, Unlabeled loss: 0.1461, Train loss: 2.2500, Val loss: 1.7609, Val Acc: 36.100%  Time: 216s, Global step: 10880, Learning rate: 9.512061660643667e-05\n"
          ],
          "name": "stdout"
        },
        {
          "output_type": "display_data",
          "data": {
            "application/vnd.jupyter.widget-view+json": {
              "model_id": "3f442a01d71244f5bee38d0557f74507",
              "version_major": 2,
              "version_minor": 0
            },
            "text/plain": [
              "HBox(children=(IntProgress(value=0, max=640), HTML(value='')))"
            ]
          },
          "metadata": {
            "tags": []
          }
        },
        {
          "output_type": "stream",
          "text": [
            "\n",
            "Epoch:   17, Train Acc: 43.652%, Labeled loss: 1.7902, Unlabeled loss: 0.1503, Train loss: 2.2411, Val loss: 1.6966, Val Acc: 39.060%  Time: 217s, Global step: 11520, Learning rate: 8.606449409853667e-05\n"
          ],
          "name": "stdout"
        },
        {
          "output_type": "display_data",
          "data": {
            "application/vnd.jupyter.widget-view+json": {
              "model_id": "6646fbbe6ee240fcbc6a566ab1df48b8",
              "version_major": 2,
              "version_minor": 0
            },
            "text/plain": [
              "HBox(children=(IntProgress(value=0, max=640), HTML(value='')))"
            ]
          },
          "metadata": {
            "tags": []
          }
        },
        {
          "output_type": "stream",
          "text": [
            "\n",
            "Epoch:   18, Train Acc: 44.561%, Labeled loss: 1.7633, Unlabeled loss: 0.1507, Train loss: 2.2154, Val loss: 1.7735, Val Acc: 33.540%  Time: 217s, Global step: 12160, Learning rate: 8.186508785001934e-05\n"
          ],
          "name": "stdout"
        },
        {
          "output_type": "display_data",
          "data": {
            "application/vnd.jupyter.widget-view+json": {
              "model_id": "5b2e19f9ff914358aae54ac82bbd323f",
              "version_major": 2,
              "version_minor": 0
            },
            "text/plain": [
              "HBox(children=(IntProgress(value=0, max=640), HTML(value='')))"
            ]
          },
          "metadata": {
            "tags": []
          }
        },
        {
          "output_type": "stream",
          "text": [
            "\n",
            "Epoch:   19, Train Acc: 46.016%, Labeled loss: 1.7413, Unlabeled loss: 0.1590, Train loss: 2.2183, Val loss: 1.6933, Val Acc: 38.040%  Time: 216s, Global step: 12800, Learning rate: 7.787058711983263e-05\n"
          ],
          "name": "stdout"
        },
        {
          "output_type": "display_data",
          "data": {
            "application/vnd.jupyter.widget-view+json": {
              "model_id": "1f0eb638aae74258833d111c6ab06267",
              "version_major": 2,
              "version_minor": 0
            },
            "text/plain": [
              "HBox(children=(IntProgress(value=0, max=640), HTML(value='')))"
            ]
          },
          "metadata": {
            "tags": []
          }
        },
        {
          "output_type": "stream",
          "text": [
            "\n",
            "Epoch:   20, Train Acc: 46.973%, Labeled loss: 1.7158, Unlabeled loss: 0.1628, Train loss: 2.2042, Val loss: 1.7106, Val Acc: 39.560%  Time: 217s, Global step: 13440, Learning rate: 7.407098746625707e-05\n"
          ],
          "name": "stdout"
        },
        {
          "output_type": "display_data",
          "data": {
            "application/vnd.jupyter.widget-view+json": {
              "model_id": "a6420e74a2a2434ea4d7a51792f365d1",
              "version_major": 2,
              "version_minor": 0
            },
            "text/plain": [
              "HBox(children=(IntProgress(value=0, max=640), HTML(value='')))"
            ]
          },
          "metadata": {
            "tags": []
          }
        },
        {
          "output_type": "stream",
          "text": [
            "\n",
            "Epoch:   21, Train Acc: 48.271%, Labeled loss: 1.6905, Unlabeled loss: 0.1653, Train loss: 2.1863, Val loss: 1.7355, Val Acc: 36.200%  Time: 215s, Global step: 14080, Learning rate: 6.70189328957349e-05\n"
          ],
          "name": "stdout"
        },
        {
          "output_type": "display_data",
          "data": {
            "application/vnd.jupyter.widget-view+json": {
              "model_id": "5bb6202add5e4ac79c67fd307d91b91b",
              "version_major": 2,
              "version_minor": 0
            },
            "text/plain": [
              "HBox(children=(IntProgress(value=0, max=640), HTML(value='')))"
            ]
          },
          "metadata": {
            "tags": []
          }
        },
        {
          "output_type": "stream",
          "text": [
            "\n",
            "Epoch:   22, Train Acc: 48.662%, Labeled loss: 1.6712, Unlabeled loss: 0.1667, Train loss: 2.1713, Val loss: 1.7072, Val Acc: 38.680%  Time: 215s, Global step: 14720, Learning rate: 6.374882650561631e-05\n"
          ],
          "name": "stdout"
        },
        {
          "output_type": "display_data",
          "data": {
            "application/vnd.jupyter.widget-view+json": {
              "model_id": "802b3818976c4cc2a07047afd16cf3eb",
              "version_major": 2,
              "version_minor": 0
            },
            "text/plain": [
              "HBox(children=(IntProgress(value=0, max=640), HTML(value='')))"
            ]
          },
          "metadata": {
            "tags": []
          }
        },
        {
          "output_type": "stream",
          "text": [
            "\n",
            "Epoch:   23, Train Acc: 49.600%, Labeled loss: 1.6491, Unlabeled loss: 0.1698, Train loss: 2.1585, Val loss: 1.7424, Val Acc: 34.960%  Time: 216s, Global step: 15360, Learning rate: 6.063828186597675e-05\n"
          ],
          "name": "stdout"
        },
        {
          "output_type": "display_data",
          "data": {
            "application/vnd.jupyter.widget-view+json": {
              "model_id": "dcd5cbbeb86447e0aead183e5a1f1ea2",
              "version_major": 2,
              "version_minor": 0
            },
            "text/plain": [
              "HBox(children=(IntProgress(value=0, max=640), HTML(value='')))"
            ]
          },
          "metadata": {
            "tags": []
          }
        },
        {
          "output_type": "stream",
          "text": [
            "\n",
            "Epoch:   24, Train Acc: 50.586%, Labeled loss: 1.6275, Unlabeled loss: 0.1692, Train loss: 2.1350, Val loss: 1.6907, Val Acc: 38.560%  Time: 218s, Global step: 16000, Learning rate: 5.767951370216906e-05\n"
          ],
          "name": "stdout"
        },
        {
          "output_type": "display_data",
          "data": {
            "application/vnd.jupyter.widget-view+json": {
              "model_id": "f51d1756fb3f4a2aae5c9a7452c3d225",
              "version_major": 2,
              "version_minor": 0
            },
            "text/plain": [
              "HBox(children=(IntProgress(value=0, max=640), HTML(value='')))"
            ]
          },
          "metadata": {
            "tags": []
          }
        },
        {
          "output_type": "stream",
          "text": [
            "\n",
            "Epoch:   25, Train Acc: 50.918%, Labeled loss: 1.6059, Unlabeled loss: 0.1706, Train loss: 2.1178, Val loss: 1.6492, Val Acc: 39.880%  Time: 218s, Global step: 16640, Learning rate: 5.2188039262546226e-05\n"
          ],
          "name": "stdout"
        },
        {
          "output_type": "display_data",
          "data": {
            "application/vnd.jupyter.widget-view+json": {
              "model_id": "bfc0c3477b4b4003a9a3a61fa483e0cf",
              "version_major": 2,
              "version_minor": 0
            },
            "text/plain": [
              "HBox(children=(IntProgress(value=0, max=640), HTML(value='')))"
            ]
          },
          "metadata": {
            "tags": []
          }
        },
        {
          "output_type": "stream",
          "text": [
            "\n",
            "Epoch:   26, Train Acc: 51.582%, Labeled loss: 1.5857, Unlabeled loss: 0.1706, Train loss: 2.0975, Val loss: 1.6860, Val Acc: 40.020%  Time: 218s, Global step: 17280, Learning rate: 4.964158870279789e-05\n"
          ],
          "name": "stdout"
        },
        {
          "output_type": "display_data",
          "data": {
            "application/vnd.jupyter.widget-view+json": {
              "model_id": "4d10373ca9654827a3baefa7a2a47321",
              "version_major": 2,
              "version_minor": 0
            },
            "text/plain": [
              "HBox(children=(IntProgress(value=0, max=640), HTML(value='')))"
            ]
          },
          "metadata": {
            "tags": []
          }
        },
        {
          "output_type": "stream",
          "text": [
            "\n",
            "Epoch:   27, Train Acc: 52.432%, Labeled loss: 1.5629, Unlabeled loss: 0.1692, Train loss: 2.0707, Val loss: 1.6477, Val Acc: 41.540%  Time: 215s, Global step: 17920, Learning rate: 4.7219389671226963e-05\n"
          ],
          "name": "stdout"
        },
        {
          "output_type": "display_data",
          "data": {
            "application/vnd.jupyter.widget-view+json": {
              "model_id": "ab7ed15ebe2049eda0e305174dfa23fb",
              "version_major": 2,
              "version_minor": 0
            },
            "text/plain": [
              "HBox(children=(IntProgress(value=0, max=640), HTML(value='')))"
            ]
          },
          "metadata": {
            "tags": []
          }
        },
        {
          "output_type": "stream",
          "text": [
            "\n",
            "Epoch:   28, Train Acc: 53.281%, Labeled loss: 1.5526, Unlabeled loss: 0.1674, Train loss: 2.0550, Val loss: 1.6268, Val Acc: 45.260%  Time: 211s, Global step: 18560, Learning rate: 4.272378282621503e-05\n"
          ],
          "name": "stdout"
        },
        {
          "output_type": "display_data",
          "data": {
            "application/vnd.jupyter.widget-view+json": {
              "model_id": "8ed8988cffba4bf5b120e52076164dd5",
              "version_major": 2,
              "version_minor": 0
            },
            "text/plain": [
              "HBox(children=(IntProgress(value=0, max=640), HTML(value='')))"
            ]
          },
          "metadata": {
            "tags": []
          }
        },
        {
          "output_type": "stream",
          "text": [
            "\n",
            "Epoch:   29, Train Acc: 53.975%, Labeled loss: 1.5280, Unlabeled loss: 0.1643, Train loss: 2.0210, Val loss: 1.7029, Val Acc: 41.500%  Time: 211s, Global step: 19200, Learning rate: 4.06391300202813e-05\n"
          ],
          "name": "stdout"
        },
        {
          "output_type": "display_data",
          "data": {
            "application/vnd.jupyter.widget-view+json": {
              "model_id": "1ffd5fe8609b494fab6457aae6513f82",
              "version_major": 2,
              "version_minor": 0
            },
            "text/plain": [
              "HBox(children=(IntProgress(value=0, max=640), HTML(value='')))"
            ]
          },
          "metadata": {
            "tags": []
          }
        },
        {
          "output_type": "stream",
          "text": [
            "\n",
            "Epoch:   30, Train Acc: 54.844%, Labeled loss: 1.5156, Unlabeled loss: 0.1641, Train loss: 2.0080, Val loss: 1.6336, Val Acc: 43.060%  Time: 211s, Global step: 19840, Learning rate: 3.8656195101793855e-05\n"
          ],
          "name": "stdout"
        },
        {
          "output_type": "display_data",
          "data": {
            "application/vnd.jupyter.widget-view+json": {
              "model_id": "dcc5b8a0b9b04c9c9144ff61354e7aed",
              "version_major": 2,
              "version_minor": 0
            },
            "text/plain": [
              "HBox(children=(IntProgress(value=0, max=640), HTML(value='')))"
            ]
          },
          "metadata": {
            "tags": []
          }
        },
        {
          "output_type": "stream",
          "text": [
            "\n",
            "Epoch:   31, Train Acc: 55.244%, Labeled loss: 1.5036, Unlabeled loss: 0.1614, Train loss: 1.9878, Val loss: 1.5941, Val Acc: 44.980%  Time: 211s, Global step: 20480, Learning rate: 3.677001586765982e-05\n"
          ],
          "name": "stdout"
        },
        {
          "output_type": "display_data",
          "data": {
            "application/vnd.jupyter.widget-view+json": {
              "model_id": "c37f04b60d7b48648f9e87d0b81530f1",
              "version_major": 2,
              "version_minor": 0
            },
            "text/plain": [
              "HBox(children=(IntProgress(value=0, max=640), HTML(value='')))"
            ]
          },
          "metadata": {
            "tags": []
          }
        },
        {
          "output_type": "stream",
          "text": [
            "\n",
            "Epoch:   32, Train Acc: 56.240%, Labeled loss: 1.4840, Unlabeled loss: 0.1593, Train loss: 1.9618, Val loss: 1.7045, Val Acc: 38.520%  Time: 211s, Global step: 21120, Learning rate: 3.326926162117161e-05\n"
          ],
          "name": "stdout"
        },
        {
          "output_type": "display_data",
          "data": {
            "application/vnd.jupyter.widget-view+json": {
              "model_id": "5afbbe3d44e54921bec0b75ab56cf85c",
              "version_major": 2,
              "version_minor": 0
            },
            "text/plain": [
              "HBox(children=(IntProgress(value=0, max=640), HTML(value='')))"
            ]
          },
          "metadata": {
            "tags": []
          }
        },
        {
          "output_type": "stream",
          "text": [
            "\n",
            "Epoch:   33, Train Acc: 56.836%, Labeled loss: 1.4760, Unlabeled loss: 0.1566, Train loss: 1.9458, Val loss: 1.6689, Val Acc: 41.060%  Time: 212s, Global step: 21760, Learning rate: 3.1645933631807566e-05\n"
          ],
          "name": "stdout"
        },
        {
          "output_type": "display_data",
          "data": {
            "application/vnd.jupyter.widget-view+json": {
              "model_id": "8676fa77276649af81971a8730025f87",
              "version_major": 2,
              "version_minor": 0
            },
            "text/plain": [
              "HBox(children=(IntProgress(value=0, max=640), HTML(value='')))"
            ]
          },
          "metadata": {
            "tags": []
          }
        },
        {
          "output_type": "stream",
          "text": [
            "\n",
            "Epoch:   34, Train Acc: 58.262%, Labeled loss: 1.4649, Unlabeled loss: 0.1531, Train loss: 1.9243, Val loss: 1.6366, Val Acc: 42.580%  Time: 211s, Global step: 22400, Learning rate: 3.0101808079052716e-05\n"
          ],
          "name": "stdout"
        },
        {
          "output_type": "display_data",
          "data": {
            "application/vnd.jupyter.widget-view+json": {
              "model_id": "fd0fe435d8da46c38e29f25303804d4e",
              "version_major": 2,
              "version_minor": 0
            },
            "text/plain": [
              "HBox(children=(IntProgress(value=0, max=640), HTML(value='')))"
            ]
          },
          "metadata": {
            "tags": []
          }
        },
        {
          "output_type": "stream",
          "text": [
            "\n",
            "Epoch:   35, Train Acc: 58.604%, Labeled loss: 1.4591, Unlabeled loss: 0.1481, Train loss: 1.9033, Val loss: 1.5998, Val Acc: 45.400%  Time: 212s, Global step: 23040, Learning rate: 2.7235912057221867e-05\n"
          ],
          "name": "stdout"
        },
        {
          "output_type": "display_data",
          "data": {
            "application/vnd.jupyter.widget-view+json": {
              "model_id": "4c4d5b9b2410476182a53c07e342e4bf",
              "version_major": 2,
              "version_minor": 0
            },
            "text/plain": [
              "HBox(children=(IntProgress(value=0, max=640), HTML(value='')))"
            ]
          },
          "metadata": {
            "tags": []
          }
        },
        {
          "output_type": "stream",
          "text": [
            "\n",
            "Epoch:   36, Train Acc: 58.750%, Labeled loss: 1.4484, Unlabeled loss: 0.1447, Train loss: 1.8826, Val loss: 1.6596, Val Acc: 45.460%  Time: 213s, Global step: 23680, Learning rate: 2.590697113191709e-05\n"
          ],
          "name": "stdout"
        },
        {
          "output_type": "display_data",
          "data": {
            "application/vnd.jupyter.widget-view+json": {
              "model_id": "05fad0c863164a3da26ba822a13b231a",
              "version_major": 2,
              "version_minor": 0
            },
            "text/plain": [
              "HBox(children=(IntProgress(value=0, max=640), HTML(value='')))"
            ]
          },
          "metadata": {
            "tags": []
          }
        },
        {
          "output_type": "stream",
          "text": [
            "\n",
            "Epoch:   37, Train Acc: 59.863%, Labeled loss: 1.4468, Unlabeled loss: 0.1424, Train loss: 1.8740, Val loss: 1.6842, Val Acc: 42.120%  Time: 212s, Global step: 24320, Learning rate: 2.464287172188051e-05\n"
          ],
          "name": "stdout"
        },
        {
          "output_type": "display_data",
          "data": {
            "application/vnd.jupyter.widget-view+json": {
              "model_id": "dcc0b6f5a5b745f694775e72c08c80a0",
              "version_major": 2,
              "version_minor": 0
            },
            "text/plain": [
              "HBox(children=(IntProgress(value=0, max=640), HTML(value='')))"
            ]
          },
          "metadata": {
            "tags": []
          }
        },
        {
          "output_type": "stream",
          "text": [
            "\n",
            "Epoch:   38, Train Acc: 60.137%, Labeled loss: 1.4461, Unlabeled loss: 0.1396, Train loss: 1.8650, Val loss: 1.6890, Val Acc: 42.840%  Time: 212s, Global step: 24960, Learning rate: 2.3440456061507575e-05\n"
          ],
          "name": "stdout"
        },
        {
          "output_type": "display_data",
          "data": {
            "application/vnd.jupyter.widget-view+json": {
              "model_id": "afc0c6f2d392462db7a74b6bbe836f0c",
              "version_major": 2,
              "version_minor": 0
            },
            "text/plain": [
              "HBox(children=(IntProgress(value=0, max=640), HTML(value='')))"
            ]
          },
          "metadata": {
            "tags": []
          }
        },
        {
          "output_type": "stream",
          "text": [
            "\n",
            "Epoch:   39, Train Acc: 60.996%, Labeled loss: 1.4395, Unlabeled loss: 0.1303, Train loss: 1.8303, Val loss: 1.6906, Val Acc: 41.760%  Time: 213s, Global step: 25600, Learning rate: 2.1208765247138217e-05\n"
          ],
          "name": "stdout"
        },
        {
          "output_type": "display_data",
          "data": {
            "application/vnd.jupyter.widget-view+json": {
              "model_id": "da45923d0c904cd387d2fba0f796e64b",
              "version_major": 2,
              "version_minor": 0
            },
            "text/plain": [
              "HBox(children=(IntProgress(value=0, max=640), HTML(value='')))"
            ]
          },
          "metadata": {
            "tags": []
          }
        },
        {
          "output_type": "stream",
          "text": [
            "\n",
            "Epoch:   40, Train Acc: 61.582%, Labeled loss: 1.4428, Unlabeled loss: 0.1261, Train loss: 1.8213, Val loss: 1.6932, Val Acc: 42.840%  Time: 213s, Global step: 26240, Learning rate: 2.017391125264112e-05\n"
          ],
          "name": "stdout"
        },
        {
          "output_type": "display_data",
          "data": {
            "application/vnd.jupyter.widget-view+json": {
              "model_id": "2a253c61ee164267b1cba564fae0dc3e",
              "version_major": 2,
              "version_minor": 0
            },
            "text/plain": [
              "HBox(children=(IntProgress(value=0, max=640), HTML(value='')))"
            ]
          },
          "metadata": {
            "tags": []
          }
        },
        {
          "output_type": "stream",
          "text": [
            "\n",
            "Epoch:   41, Train Acc: 62.500%, Labeled loss: 1.4403, Unlabeled loss: 0.1239, Train loss: 1.8120, Val loss: 1.6844, Val Acc: 42.720%  Time: 213s, Global step: 26880, Learning rate: 1.918955058499705e-05\n"
          ],
          "name": "stdout"
        },
        {
          "output_type": "display_data",
          "data": {
            "application/vnd.jupyter.widget-view+json": {
              "model_id": "64247f59f78e4ca792e23df79f6dac27",
              "version_major": 2,
              "version_minor": 0
            },
            "text/plain": [
              "HBox(children=(IntProgress(value=0, max=640), HTML(value='')))"
            ]
          },
          "metadata": {
            "tags": []
          }
        },
        {
          "output_type": "stream",
          "text": [
            "\n",
            "Epoch:   42, Train Acc: 62.285%, Labeled loss: 1.4493, Unlabeled loss: 0.1193, Train loss: 1.8071, Val loss: 1.6810, Val Acc: 43.980%  Time: 213s, Global step: 27520, Learning rate: 1.7362573998980224e-05\n"
          ],
          "name": "stdout"
        },
        {
          "output_type": "display_data",
          "data": {
            "application/vnd.jupyter.widget-view+json": {
              "model_id": "cbb99e14b7a34c919b9efe8af2ed2c01",
              "version_major": 2,
              "version_minor": 0
            },
            "text/plain": [
              "HBox(children=(IntProgress(value=0, max=640), HTML(value='')))"
            ]
          },
          "metadata": {
            "tags": []
          }
        },
        {
          "output_type": "stream",
          "text": [
            "\n",
            "Epoch:   43, Train Acc: 63.311%, Labeled loss: 1.4487, Unlabeled loss: 0.1158, Train loss: 1.7961, Val loss: 1.6656, Val Acc: 45.240%  Time: 214s, Global step: 28160, Learning rate: 1.6515392417204566e-05\n"
          ],
          "name": "stdout"
        },
        {
          "output_type": "display_data",
          "data": {
            "application/vnd.jupyter.widget-view+json": {
              "model_id": "cc5e8cfdbe8f4d429815ee08526c6710",
              "version_major": 2,
              "version_minor": 0
            },
            "text/plain": [
              "HBox(children=(IntProgress(value=0, max=640), HTML(value='')))"
            ]
          },
          "metadata": {
            "tags": []
          }
        },
        {
          "output_type": "stream",
          "text": [
            "\n",
            "Epoch:   44, Train Acc: 63.174%, Labeled loss: 1.4597, Unlabeled loss: 0.1081, Train loss: 1.7840, Val loss: 1.6938, Val Acc: 44.380%  Time: 214s, Global step: 28800, Learning rate: 1.570954373164568e-05\n"
          ],
          "name": "stdout"
        },
        {
          "output_type": "display_data",
          "data": {
            "application/vnd.jupyter.widget-view+json": {
              "model_id": "e62da83d64ee429c8cfe8412319b06c8",
              "version_major": 2,
              "version_minor": 0
            },
            "text/plain": [
              "HBox(children=(IntProgress(value=0, max=640), HTML(value='')))"
            ]
          },
          "metadata": {
            "tags": []
          }
        },
        {
          "output_type": "stream",
          "text": [
            "\n",
            "Epoch:   45, Train Acc: 64.238%, Labeled loss: 1.4671, Unlabeled loss: 0.1034, Train loss: 1.7773, Val loss: 1.6952, Val Acc: 47.820%  Time: 213s, Global step: 29440, Learning rate: 1.4943015230528545e-05\n"
          ],
          "name": "stdout"
        },
        {
          "output_type": "display_data",
          "data": {
            "application/vnd.jupyter.widget-view+json": {
              "model_id": "5423414c236141ecb1d17f0c78b715dd",
              "version_major": 2,
              "version_minor": 0
            },
            "text/plain": [
              "HBox(children=(IntProgress(value=0, max=640), HTML(value='')))"
            ]
          },
          "metadata": {
            "tags": []
          }
        },
        {
          "output_type": "stream",
          "text": [
            "\n",
            "Epoch:   46, Train Acc: 64.521%, Labeled loss: 1.4750, Unlabeled loss: 0.0999, Train loss: 1.7748, Val loss: 1.7199, Val Acc: 42.620%  Time: 213s, Global step: 30080, Learning rate: 1.3520341781259049e-05\n"
          ],
          "name": "stdout"
        },
        {
          "output_type": "display_data",
          "data": {
            "application/vnd.jupyter.widget-view+json": {
              "model_id": "8f40f116840c4538a05a418819ec474a",
              "version_major": 2,
              "version_minor": 0
            },
            "text/plain": [
              "HBox(children=(IntProgress(value=0, max=640), HTML(value='')))"
            ]
          },
          "metadata": {
            "tags": []
          }
        },
        {
          "output_type": "stream",
          "text": [
            "\n",
            "Epoch:   47, Train Acc: 65.381%, Labeled loss: 1.4881, Unlabeled loss: 0.0956, Train loss: 1.7749, Val loss: 1.6921, Val Acc: 47.360%  Time: 213s, Global step: 30720, Learning rate: 1.2860633432865143e-05\n"
          ],
          "name": "stdout"
        },
        {
          "output_type": "display_data",
          "data": {
            "application/vnd.jupyter.widget-view+json": {
              "model_id": "fb292bfa8e794d84a4163824f0040512",
              "version_major": 2,
              "version_minor": 0
            },
            "text/plain": [
              "HBox(children=(IntProgress(value=0, max=640), HTML(value='')))"
            ]
          },
          "metadata": {
            "tags": []
          }
        },
        {
          "output_type": "stream",
          "text": [
            "\n",
            "Epoch:   48, Train Acc: 65.645%, Labeled loss: 1.4992, Unlabeled loss: 0.0905, Train loss: 1.7707, Val loss: 1.7225, Val Acc: 44.040%  Time: 213s, Global step: 31360, Learning rate: 1.2233113920956384e-05\n"
          ],
          "name": "stdout"
        },
        {
          "output_type": "display_data",
          "data": {
            "application/vnd.jupyter.widget-view+json": {
              "model_id": "4b95fdb868bc4faba1e496b8bef13e67",
              "version_major": 2,
              "version_minor": 0
            },
            "text/plain": [
              "HBox(children=(IntProgress(value=0, max=640), HTML(value='')))"
            ]
          },
          "metadata": {
            "tags": []
          }
        },
        {
          "output_type": "stream",
          "text": [
            "\n",
            "Epoch:   49, Train Acc: 65.049%, Labeled loss: 1.5153, Unlabeled loss: 0.0849, Train loss: 1.7699, Val loss: 1.7292, Val Acc: 46.920%  Time: 213s, Global step: 32000, Learning rate: 1.1636213457677513e-05\n"
          ],
          "name": "stdout"
        },
        {
          "output_type": "display_data",
          "data": {
            "application/vnd.jupyter.widget-view+json": {
              "model_id": "226a57d7da754182b62acad37621e6bf",
              "version_major": 2,
              "version_minor": 0
            },
            "text/plain": [
              "HBox(children=(IntProgress(value=0, max=640), HTML(value='')))"
            ]
          },
          "metadata": {
            "tags": []
          }
        },
        {
          "output_type": "stream",
          "text": [
            "\n",
            "Epoch:   50, Train Acc: 65.605%, Labeled loss: 1.5248, Unlabeled loss: 0.0795, Train loss: 1.7633, Val loss: 1.7335, Val Acc: 45.960%  Time: 213s, Global step: 32640, Learning rate: 1.052836887538433e-05\n"
          ],
          "name": "stdout"
        },
        {
          "output_type": "display_data",
          "data": {
            "application/vnd.jupyter.widget-view+json": {
              "model_id": "dcb8ac3916014f849b5e3c142c17fbb7",
              "version_major": 2,
              "version_minor": 0
            },
            "text/plain": [
              "HBox(children=(IntProgress(value=0, max=640), HTML(value='')))"
            ]
          },
          "metadata": {
            "tags": []
          }
        },
        {
          "output_type": "stream",
          "text": [
            "\n",
            "Epoch:   51, Train Acc: 66.416%, Labeled loss: 1.5412, Unlabeled loss: 0.0761, Train loss: 1.7694, Val loss: 1.7617, Val Acc: 44.540%  Time: 213s, Global step: 33280, Learning rate: 1.001464988803491e-05\n"
          ],
          "name": "stdout"
        },
        {
          "output_type": "display_data",
          "data": {
            "application/vnd.jupyter.widget-view+json": {
              "model_id": "bfc416460c294cc9b60730f01ae8e2f0",
              "version_major": 2,
              "version_minor": 0
            },
            "text/plain": [
              "HBox(children=(IntProgress(value=0, max=640), HTML(value='')))"
            ]
          },
          "metadata": {
            "tags": []
          }
        },
        {
          "output_type": "stream",
          "text": [
            "\n",
            "Epoch:   52, Train Acc: 66.006%, Labeled loss: 1.5574, Unlabeled loss: 0.0714, Train loss: 1.7716, Val loss: 1.7535, Val Acc: 46.600%  Time: 213s, Global step: 33920, Learning rate: 9.525997484161053e-06\n"
          ],
          "name": "stdout"
        },
        {
          "output_type": "display_data",
          "data": {
            "application/vnd.jupyter.widget-view+json": {
              "model_id": "de1bde41ce224ed98920c915ec026b27",
              "version_major": 2,
              "version_minor": 0
            },
            "text/plain": [
              "HBox(children=(IntProgress(value=0, max=640), HTML(value='')))"
            ]
          },
          "metadata": {
            "tags": []
          }
        },
        {
          "output_type": "stream",
          "text": [
            "\n",
            "Epoch:   53, Train Acc: 66.816%, Labeled loss: 1.5742, Unlabeled loss: 0.0673, Train loss: 1.7759, Val loss: 1.7840, Val Acc: 44.880%  Time: 213s, Global step: 34560, Learning rate: 8.619059371994808e-06\n"
          ],
          "name": "stdout"
        },
        {
          "output_type": "display_data",
          "data": {
            "application/vnd.jupyter.widget-view+json": {
              "model_id": "a8b2ccd77ede41a789e06dd71e1224ad",
              "version_major": 2,
              "version_minor": 0
            },
            "text/plain": [
              "HBox(children=(IntProgress(value=0, max=640), HTML(value='')))"
            ]
          },
          "metadata": {
            "tags": []
          }
        },
        {
          "output_type": "stream",
          "text": [
            "\n",
            "Epoch:   54, Train Acc: 67.031%, Labeled loss: 1.5900, Unlabeled loss: 0.0618, Train loss: 1.7756, Val loss: 1.7844, Val Acc: 48.220%  Time: 214s, Global step: 35200, Learning rate: 8.198501745937392e-06\n"
          ],
          "name": "stdout"
        },
        {
          "output_type": "display_data",
          "data": {
            "application/vnd.jupyter.widget-view+json": {
              "model_id": "7d1785192d884ff490489d26f5a892dd",
              "version_major": 2,
              "version_minor": 0
            },
            "text/plain": [
              "HBox(children=(IntProgress(value=0, max=640), HTML(value='')))"
            ]
          },
          "metadata": {
            "tags": []
          }
        },
        {
          "output_type": "stream",
          "text": [
            "\n",
            "Epoch:   55, Train Acc: 67.236%, Labeled loss: 1.6124, Unlabeled loss: 0.0568, Train loss: 1.7826, Val loss: 1.8202, Val Acc: 44.860%  Time: 213s, Global step: 35840, Learning rate: 7.798466867825482e-06\n"
          ],
          "name": "stdout"
        },
        {
          "output_type": "display_data",
          "data": {
            "application/vnd.jupyter.widget-view+json": {
              "model_id": "0f240aad1bfa4038923297afc93b1279",
              "version_major": 2,
              "version_minor": 0
            },
            "text/plain": [
              "HBox(children=(IntProgress(value=0, max=640), HTML(value='')))"
            ]
          },
          "metadata": {
            "tags": []
          }
        },
        {
          "output_type": "stream",
          "text": [
            "\n",
            "Epoch:   56, Train Acc: 66.709%, Labeled loss: 1.6373, Unlabeled loss: 0.0511, Train loss: 1.7907, Val loss: 1.8040, Val Acc: 49.400%  Time: 213s, Global step: 36480, Learning rate: 7.417950655508321e-06\n"
          ],
          "name": "stdout"
        },
        {
          "output_type": "display_data",
          "data": {
            "application/vnd.jupyter.widget-view+json": {
              "model_id": "9d800ad74d3b467e82d5a443377f63c7",
              "version_major": 2,
              "version_minor": 0
            },
            "text/plain": [
              "HBox(children=(IntProgress(value=0, max=640), HTML(value='')))"
            ]
          },
          "metadata": {
            "tags": []
          }
        },
        {
          "output_type": "stream",
          "text": [
            "\n",
            "Epoch:   57, Train Acc: 66.787%, Labeled loss: 1.6595, Unlabeled loss: 0.0465, Train loss: 1.7991, Val loss: 1.8146, Val Acc: 45.460%  Time: 214s, Global step: 37120, Learning rate: 6.71171164867701e-06\n"
          ],
          "name": "stdout"
        },
        {
          "output_type": "display_data",
          "data": {
            "application/vnd.jupyter.widget-view+json": {
              "model_id": "fbd3701fd0304fb6b10990e232cfcb61",
              "version_major": 2,
              "version_minor": 0
            },
            "text/plain": [
              "HBox(children=(IntProgress(value=0, max=640), HTML(value='')))"
            ]
          },
          "metadata": {
            "tags": []
          }
        },
        {
          "output_type": "stream",
          "text": [
            "\n",
            "Epoch:   58, Train Acc: 66.729%, Labeled loss: 1.6908, Unlabeled loss: 0.0411, Train loss: 1.8142, Val loss: 1.8299, Val Acc: 48.300%  Time: 213s, Global step: 37760, Learning rate: 6.384222160704667e-06\n"
          ],
          "name": "stdout"
        },
        {
          "output_type": "display_data",
          "data": {
            "application/vnd.jupyter.widget-view+json": {
              "model_id": "fe7fa245605a4d86a76b63603669d70f",
              "version_major": 2,
              "version_minor": 0
            },
            "text/plain": [
              "HBox(children=(IntProgress(value=0, max=640), HTML(value='')))"
            ]
          },
          "metadata": {
            "tags": []
          }
        },
        {
          "output_type": "stream",
          "text": [
            "\n",
            "Epoch:   59, Train Acc: 65.928%, Labeled loss: 1.7225, Unlabeled loss: 0.0354, Train loss: 1.8286, Val loss: 1.8194, Val Acc: 51.860%  Time: 214s, Global step: 38400, Learning rate: 6.072711585147772e-06\n"
          ],
          "name": "stdout"
        },
        {
          "output_type": "display_data",
          "data": {
            "application/vnd.jupyter.widget-view+json": {
              "model_id": "ec877901a1a84415ba9683b324990e5d",
              "version_major": 2,
              "version_minor": 0
            },
            "text/plain": [
              "HBox(children=(IntProgress(value=0, max=640), HTML(value='')))"
            ]
          },
          "metadata": {
            "tags": []
          }
        },
        {
          "output_type": "stream",
          "text": [
            "\n",
            "Epoch:   60, Train Acc: 65.098%, Labeled loss: 1.7595, Unlabeled loss: 0.0303, Train loss: 1.8502, Val loss: 1.8372, Val Acc: 49.780%  Time: 213s, Global step: 39040, Learning rate: 5.494549441209529e-06\n"
          ],
          "name": "stdout"
        },
        {
          "output_type": "display_data",
          "data": {
            "application/vnd.jupyter.widget-view+json": {
              "model_id": "a5a02c766ff7460283bed40289c697c7",
              "version_major": 2,
              "version_minor": 0
            },
            "text/plain": [
              "HBox(children=(IntProgress(value=0, max=640), HTML(value='')))"
            ]
          },
          "metadata": {
            "tags": []
          }
        },
        {
          "output_type": "stream",
          "text": [
            "\n",
            "Epoch:   61, Train Acc: 63.584%, Labeled loss: 1.7961, Unlabeled loss: 0.0260, Train loss: 1.8740, Val loss: 1.8434, Val Acc: 54.060%  Time: 214s, Global step: 39680, Learning rate: 5.226449502515607e-06\n"
          ],
          "name": "stdout"
        },
        {
          "output_type": "display_data",
          "data": {
            "application/vnd.jupyter.widget-view+json": {
              "model_id": "98bc79ee07e84ba790fff81c761b5c4f",
              "version_major": 2,
              "version_minor": 0
            },
            "text/plain": [
              "HBox(children=(IntProgress(value=0, max=640), HTML(value='')))"
            ]
          },
          "metadata": {
            "tags": []
          }
        },
        {
          "output_type": "stream",
          "text": [
            "\n",
            "Epoch:   62, Train Acc: 61.982%, Labeled loss: 1.8356, Unlabeled loss: 0.0224, Train loss: 1.9028, Val loss: 1.8683, Val Acc: 52.160%  Time: 213s, Global step: 40320, Learning rate: 4.9714312808646355e-06\n"
          ],
          "name": "stdout"
        },
        {
          "output_type": "display_data",
          "data": {
            "application/vnd.jupyter.widget-view+json": {
              "model_id": "3aac85b8a5f94f758e0fe2bd9f4137b5",
              "version_major": 2,
              "version_minor": 0
            },
            "text/plain": [
              "HBox(children=(IntProgress(value=0, max=640), HTML(value='')))"
            ]
          },
          "metadata": {
            "tags": []
          }
        },
        {
          "output_type": "stream",
          "text": [
            "\n",
            "Epoch:   63, Train Acc: 59.893%, Labeled loss: 1.8739, Unlabeled loss: 0.0195, Train loss: 1.9324, Val loss: 1.8966, Val Acc: 52.100%  Time: 222s, Global step: 40960, Learning rate: 4.728856310975971e-06\n"
          ],
          "name": "stdout"
        },
        {
          "output_type": "display_data",
          "data": {
            "application/vnd.jupyter.widget-view+json": {
              "model_id": "6873e4ecd8dd42729eff07dec09003d0",
              "version_major": 2,
              "version_minor": 0
            },
            "text/plain": [
              "HBox(children=(IntProgress(value=0, max=640), HTML(value='')))"
            ]
          },
          "metadata": {
            "tags": []
          }
        },
        {
          "output_type": "stream",
          "text": [
            "\n",
            "Epoch:   64, Train Acc: 57.432%, Labeled loss: 1.9117, Unlabeled loss: 0.0170, Train loss: 1.9626, Val loss: 1.9200, Val Acc: 51.320%  Time: 220s, Global step: 41600, Learning rate: 4.278637788956985e-06\n"
          ],
          "name": "stdout"
        },
        {
          "output_type": "display_data",
          "data": {
            "application/vnd.jupyter.widget-view+json": {
              "model_id": "3ada927a3266435c844cf09c846ab28c",
              "version_major": 2,
              "version_minor": 0
            },
            "text/plain": [
              "HBox(children=(IntProgress(value=0, max=640), HTML(value='')))"
            ]
          },
          "metadata": {
            "tags": []
          }
        },
        {
          "output_type": "error",
          "ename": "KeyboardInterrupt",
          "evalue": "",
          "traceback": [
            "\u001b[1;31m---------------------------------------------------------------------------\u001b[0m",
            "\u001b[1;31mKeyboardInterrupt\u001b[0m                         Traceback (most recent call last)",
            "\u001b[1;32m<ipython-input-8-9806550917b3>\u001b[0m in \u001b[0;36m<module>\u001b[1;34m\u001b[0m\n\u001b[0;32m    152\u001b[0m \u001b[1;33m\u001b[0m\u001b[0m\n\u001b[0;32m    153\u001b[0m         \u001b[0mgrads\u001b[0m \u001b[1;33m=\u001b[0m \u001b[0mtape\u001b[0m\u001b[1;33m.\u001b[0m\u001b[0mgradient\u001b[0m\u001b[1;33m(\u001b[0m\u001b[0mlabeled_loss\u001b[0m\u001b[1;33m,\u001b[0m \u001b[0mmodel\u001b[0m\u001b[1;33m.\u001b[0m\u001b[0mtrainable_weights\u001b[0m\u001b[1;33m)\u001b[0m\u001b[1;33m\u001b[0m\u001b[1;33m\u001b[0m\u001b[0m\n\u001b[1;32m--> 154\u001b[1;33m         \u001b[0moptimizer\u001b[0m\u001b[1;33m.\u001b[0m\u001b[0mapply_gradients\u001b[0m\u001b[1;33m(\u001b[0m\u001b[0mzip\u001b[0m\u001b[1;33m(\u001b[0m\u001b[0mgrads\u001b[0m\u001b[1;33m,\u001b[0m \u001b[0mmodel\u001b[0m\u001b[1;33m.\u001b[0m\u001b[0mtrainable_weights\u001b[0m\u001b[1;33m)\u001b[0m\u001b[1;33m)\u001b[0m\u001b[1;33m\u001b[0m\u001b[1;33m\u001b[0m\u001b[0m\n\u001b[0m\u001b[0;32m    155\u001b[0m         \u001b[0mtrain_acc_metric\u001b[0m\u001b[1;33m(\u001b[0m\u001b[0my_labeled_batch_train\u001b[0m\u001b[1;33m,\u001b[0m \u001b[0mtf\u001b[0m\u001b[1;33m.\u001b[0m\u001b[0mnn\u001b[0m\u001b[1;33m.\u001b[0m\u001b[0msoftmax\u001b[0m\u001b[1;33m(\u001b[0m\u001b[0mlabeled_logits\u001b[0m\u001b[1;33m)\u001b[0m\u001b[1;33m)\u001b[0m\u001b[1;33m\u001b[0m\u001b[1;33m\u001b[0m\u001b[0m\n\u001b[0;32m    156\u001b[0m         \u001b[0mweight_decay\u001b[0m\u001b[1;33m(\u001b[0m\u001b[0mmodel\u001b[0m\u001b[1;33m=\u001b[0m\u001b[0mmodel\u001b[0m\u001b[1;33m,\u001b[0m \u001b[0mdecay_rate\u001b[0m\u001b[1;33m=\u001b[0m\u001b[0mw_decay\u001b[0m\u001b[1;33m)\u001b[0m\u001b[1;33m\u001b[0m\u001b[1;33m\u001b[0m\u001b[0m\n",
            "\u001b[1;32m~\\AppData\\Local\\conda\\conda\\envs\\NN\\lib\\site-packages\\tensorflow_core\\python\\keras\\optimizer_v2\\optimizer_v2.py\u001b[0m in \u001b[0;36mapply_gradients\u001b[1;34m(self, grads_and_vars, name)\u001b[0m\n\u001b[0;32m    435\u001b[0m         \u001b[0mself\u001b[0m\u001b[1;33m.\u001b[0m\u001b[0m_create_slots\u001b[0m\u001b[1;33m(\u001b[0m\u001b[0mvar_list\u001b[0m\u001b[1;33m)\u001b[0m\u001b[1;33m\u001b[0m\u001b[1;33m\u001b[0m\u001b[0m\n\u001b[0;32m    436\u001b[0m \u001b[1;33m\u001b[0m\u001b[0m\n\u001b[1;32m--> 437\u001b[1;33m       \u001b[0mapply_state\u001b[0m \u001b[1;33m=\u001b[0m \u001b[0mself\u001b[0m\u001b[1;33m.\u001b[0m\u001b[0m_prepare\u001b[0m\u001b[1;33m(\u001b[0m\u001b[0mvar_list\u001b[0m\u001b[1;33m)\u001b[0m\u001b[1;33m\u001b[0m\u001b[1;33m\u001b[0m\u001b[0m\n\u001b[0m\u001b[0;32m    438\u001b[0m       return distribute_ctx.get_replica_context().merge_call(\n\u001b[0;32m    439\u001b[0m           \u001b[0mfunctools\u001b[0m\u001b[1;33m.\u001b[0m\u001b[0mpartial\u001b[0m\u001b[1;33m(\u001b[0m\u001b[0mself\u001b[0m\u001b[1;33m.\u001b[0m\u001b[0m_distributed_apply\u001b[0m\u001b[1;33m,\u001b[0m \u001b[0mapply_state\u001b[0m\u001b[1;33m=\u001b[0m\u001b[0mapply_state\u001b[0m\u001b[1;33m)\u001b[0m\u001b[1;33m,\u001b[0m\u001b[1;33m\u001b[0m\u001b[1;33m\u001b[0m\u001b[0m\n",
            "\u001b[1;32m~\\AppData\\Local\\conda\\conda\\envs\\NN\\lib\\site-packages\\tensorflow_core\\python\\keras\\optimizer_v2\\optimizer_v2.py\u001b[0m in \u001b[0;36m_prepare\u001b[1;34m(self, var_list)\u001b[0m\n\u001b[0;32m    612\u001b[0m       \u001b[0mapply_state\u001b[0m\u001b[1;33m[\u001b[0m\u001b[1;33m(\u001b[0m\u001b[0mvar_device\u001b[0m\u001b[1;33m,\u001b[0m \u001b[0mvar_dtype\u001b[0m\u001b[1;33m)\u001b[0m\u001b[1;33m]\u001b[0m \u001b[1;33m=\u001b[0m \u001b[1;33m{\u001b[0m\u001b[1;33m}\u001b[0m\u001b[1;33m\u001b[0m\u001b[1;33m\u001b[0m\u001b[0m\n\u001b[0;32m    613\u001b[0m       \u001b[1;32mwith\u001b[0m \u001b[0mops\u001b[0m\u001b[1;33m.\u001b[0m\u001b[0mdevice\u001b[0m\u001b[1;33m(\u001b[0m\u001b[0mvar_device\u001b[0m\u001b[1;33m)\u001b[0m\u001b[1;33m:\u001b[0m\u001b[1;33m\u001b[0m\u001b[1;33m\u001b[0m\u001b[0m\n\u001b[1;32m--> 614\u001b[1;33m         \u001b[0mself\u001b[0m\u001b[1;33m.\u001b[0m\u001b[0m_prepare_local\u001b[0m\u001b[1;33m(\u001b[0m\u001b[0mvar_device\u001b[0m\u001b[1;33m,\u001b[0m \u001b[0mvar_dtype\u001b[0m\u001b[1;33m,\u001b[0m \u001b[0mapply_state\u001b[0m\u001b[1;33m)\u001b[0m\u001b[1;33m\u001b[0m\u001b[1;33m\u001b[0m\u001b[0m\n\u001b[0m\u001b[0;32m    615\u001b[0m \u001b[1;33m\u001b[0m\u001b[0m\n\u001b[0;32m    616\u001b[0m     \u001b[1;32mreturn\u001b[0m \u001b[0mapply_state\u001b[0m\u001b[1;33m\u001b[0m\u001b[1;33m\u001b[0m\u001b[0m\n",
            "\u001b[1;32m~\\AppData\\Local\\conda\\conda\\envs\\NN\\lib\\site-packages\\tensorflow_core\\python\\keras\\optimizer_v2\\gradient_descent.py\u001b[0m in \u001b[0;36m_prepare_local\u001b[1;34m(self, var_device, var_dtype, apply_state)\u001b[0m\n\u001b[0;32m    101\u001b[0m \u001b[1;33m\u001b[0m\u001b[0m\n\u001b[0;32m    102\u001b[0m   \u001b[1;32mdef\u001b[0m \u001b[0m_prepare_local\u001b[0m\u001b[1;33m(\u001b[0m\u001b[0mself\u001b[0m\u001b[1;33m,\u001b[0m \u001b[0mvar_device\u001b[0m\u001b[1;33m,\u001b[0m \u001b[0mvar_dtype\u001b[0m\u001b[1;33m,\u001b[0m \u001b[0mapply_state\u001b[0m\u001b[1;33m)\u001b[0m\u001b[1;33m:\u001b[0m\u001b[1;33m\u001b[0m\u001b[1;33m\u001b[0m\u001b[0m\n\u001b[1;32m--> 103\u001b[1;33m     \u001b[0msuper\u001b[0m\u001b[1;33m(\u001b[0m\u001b[0mSGD\u001b[0m\u001b[1;33m,\u001b[0m \u001b[0mself\u001b[0m\u001b[1;33m)\u001b[0m\u001b[1;33m.\u001b[0m\u001b[0m_prepare_local\u001b[0m\u001b[1;33m(\u001b[0m\u001b[0mvar_device\u001b[0m\u001b[1;33m,\u001b[0m \u001b[0mvar_dtype\u001b[0m\u001b[1;33m,\u001b[0m \u001b[0mapply_state\u001b[0m\u001b[1;33m)\u001b[0m\u001b[1;33m\u001b[0m\u001b[1;33m\u001b[0m\u001b[0m\n\u001b[0m\u001b[0;32m    104\u001b[0m     apply_state[(var_device, var_dtype)][\"momentum\"] = array_ops.identity(\n\u001b[0;32m    105\u001b[0m         self._get_hyper(\"momentum\", var_dtype))\n",
            "\u001b[1;32m~\\AppData\\Local\\conda\\conda\\envs\\NN\\lib\\site-packages\\tensorflow_core\\python\\keras\\optimizer_v2\\optimizer_v2.py\u001b[0m in \u001b[0;36m_prepare_local\u001b[1;34m(self, var_device, var_dtype, apply_state)\u001b[0m\n\u001b[0;32m    618\u001b[0m   \u001b[1;32mdef\u001b[0m \u001b[0m_prepare_local\u001b[0m\u001b[1;33m(\u001b[0m\u001b[0mself\u001b[0m\u001b[1;33m,\u001b[0m \u001b[0mvar_device\u001b[0m\u001b[1;33m,\u001b[0m \u001b[0mvar_dtype\u001b[0m\u001b[1;33m,\u001b[0m \u001b[0mapply_state\u001b[0m\u001b[1;33m)\u001b[0m\u001b[1;33m:\u001b[0m\u001b[1;33m\u001b[0m\u001b[1;33m\u001b[0m\u001b[0m\n\u001b[0;32m    619\u001b[0m     \u001b[1;32mif\u001b[0m \u001b[1;34m\"learning_rate\"\u001b[0m \u001b[1;32min\u001b[0m \u001b[0mself\u001b[0m\u001b[1;33m.\u001b[0m\u001b[0m_hyper\u001b[0m\u001b[1;33m:\u001b[0m\u001b[1;33m\u001b[0m\u001b[1;33m\u001b[0m\u001b[0m\n\u001b[1;32m--> 620\u001b[1;33m       \u001b[0mlr_t\u001b[0m \u001b[1;33m=\u001b[0m \u001b[0marray_ops\u001b[0m\u001b[1;33m.\u001b[0m\u001b[0midentity\u001b[0m\u001b[1;33m(\u001b[0m\u001b[0mself\u001b[0m\u001b[1;33m.\u001b[0m\u001b[0m_decayed_lr\u001b[0m\u001b[1;33m(\u001b[0m\u001b[0mvar_dtype\u001b[0m\u001b[1;33m)\u001b[0m\u001b[1;33m)\u001b[0m\u001b[1;33m\u001b[0m\u001b[1;33m\u001b[0m\u001b[0m\n\u001b[0m\u001b[0;32m    621\u001b[0m       \u001b[0mapply_state\u001b[0m\u001b[1;33m[\u001b[0m\u001b[1;33m(\u001b[0m\u001b[0mvar_device\u001b[0m\u001b[1;33m,\u001b[0m \u001b[0mvar_dtype\u001b[0m\u001b[1;33m)\u001b[0m\u001b[1;33m]\u001b[0m\u001b[1;33m[\u001b[0m\u001b[1;34m\"lr_t\"\u001b[0m\u001b[1;33m]\u001b[0m \u001b[1;33m=\u001b[0m \u001b[0mlr_t\u001b[0m\u001b[1;33m\u001b[0m\u001b[1;33m\u001b[0m\u001b[0m\n\u001b[0;32m    622\u001b[0m \u001b[1;33m\u001b[0m\u001b[0m\n",
            "\u001b[1;32m~\\AppData\\Local\\conda\\conda\\envs\\NN\\lib\\site-packages\\tensorflow_core\\python\\keras\\optimizer_v2\\optimizer_v2.py\u001b[0m in \u001b[0;36m_decayed_lr\u001b[1;34m(self, var_dtype)\u001b[0m\n\u001b[0;32m    670\u001b[0m     \u001b[1;32mif\u001b[0m \u001b[0misinstance\u001b[0m\u001b[1;33m(\u001b[0m\u001b[0mlr_t\u001b[0m\u001b[1;33m,\u001b[0m \u001b[0mlearning_rate_schedule\u001b[0m\u001b[1;33m.\u001b[0m\u001b[0mLearningRateSchedule\u001b[0m\u001b[1;33m)\u001b[0m\u001b[1;33m:\u001b[0m\u001b[1;33m\u001b[0m\u001b[1;33m\u001b[0m\u001b[0m\n\u001b[0;32m    671\u001b[0m       \u001b[0mlocal_step\u001b[0m \u001b[1;33m=\u001b[0m \u001b[0mmath_ops\u001b[0m\u001b[1;33m.\u001b[0m\u001b[0mcast\u001b[0m\u001b[1;33m(\u001b[0m\u001b[0mself\u001b[0m\u001b[1;33m.\u001b[0m\u001b[0miterations\u001b[0m\u001b[1;33m,\u001b[0m \u001b[0mvar_dtype\u001b[0m\u001b[1;33m)\u001b[0m\u001b[1;33m\u001b[0m\u001b[1;33m\u001b[0m\u001b[0m\n\u001b[1;32m--> 672\u001b[1;33m       \u001b[0mlr_t\u001b[0m \u001b[1;33m=\u001b[0m \u001b[0mmath_ops\u001b[0m\u001b[1;33m.\u001b[0m\u001b[0mcast\u001b[0m\u001b[1;33m(\u001b[0m\u001b[0mlr_t\u001b[0m\u001b[1;33m(\u001b[0m\u001b[0mlocal_step\u001b[0m\u001b[1;33m)\u001b[0m\u001b[1;33m,\u001b[0m \u001b[0mvar_dtype\u001b[0m\u001b[1;33m)\u001b[0m\u001b[1;33m\u001b[0m\u001b[1;33m\u001b[0m\u001b[0m\n\u001b[0m\u001b[0;32m    673\u001b[0m     \u001b[1;32mif\u001b[0m \u001b[0mself\u001b[0m\u001b[1;33m.\u001b[0m\u001b[0m_initial_decay\u001b[0m \u001b[1;33m>\u001b[0m \u001b[1;36m0.\u001b[0m\u001b[1;33m:\u001b[0m\u001b[1;33m\u001b[0m\u001b[1;33m\u001b[0m\u001b[0m\n\u001b[0;32m    674\u001b[0m       \u001b[0mlocal_step\u001b[0m \u001b[1;33m=\u001b[0m \u001b[0mmath_ops\u001b[0m\u001b[1;33m.\u001b[0m\u001b[0mcast\u001b[0m\u001b[1;33m(\u001b[0m\u001b[0mself\u001b[0m\u001b[1;33m.\u001b[0m\u001b[0miterations\u001b[0m\u001b[1;33m,\u001b[0m \u001b[0mvar_dtype\u001b[0m\u001b[1;33m)\u001b[0m\u001b[1;33m\u001b[0m\u001b[1;33m\u001b[0m\u001b[0m\n",
            "\u001b[1;32m~\\AppData\\Local\\conda\\conda\\envs\\NN\\lib\\site-packages\\tensorflow_core\\python\\keras\\optimizer_v2\\learning_rate_schedule.py\u001b[0m in \u001b[0;36m__call__\u001b[1;34m(self, step)\u001b[0m\n\u001b[0;32m    241\u001b[0m         \u001b[1;32mif\u001b[0m \u001b[0mb\u001b[0m\u001b[1;33m.\u001b[0m\u001b[0mdtype\u001b[0m\u001b[1;33m.\u001b[0m\u001b[0mbase_dtype\u001b[0m \u001b[1;33m!=\u001b[0m \u001b[0mx_recomp\u001b[0m\u001b[1;33m.\u001b[0m\u001b[0mdtype\u001b[0m\u001b[1;33m.\u001b[0m\u001b[0mbase_dtype\u001b[0m\u001b[1;33m:\u001b[0m\u001b[1;33m\u001b[0m\u001b[1;33m\u001b[0m\u001b[0m\n\u001b[0;32m    242\u001b[0m           \u001b[1;31m# We cast the boundaries to have the same type as the step\u001b[0m\u001b[1;33m\u001b[0m\u001b[1;33m\u001b[0m\u001b[1;33m\u001b[0m\u001b[0m\n\u001b[1;32m--> 243\u001b[1;33m           \u001b[0mb\u001b[0m \u001b[1;33m=\u001b[0m \u001b[0mmath_ops\u001b[0m\u001b[1;33m.\u001b[0m\u001b[0mcast\u001b[0m\u001b[1;33m(\u001b[0m\u001b[0mb\u001b[0m\u001b[1;33m,\u001b[0m \u001b[0mx_recomp\u001b[0m\u001b[1;33m.\u001b[0m\u001b[0mdtype\u001b[0m\u001b[1;33m.\u001b[0m\u001b[0mbase_dtype\u001b[0m\u001b[1;33m)\u001b[0m\u001b[1;33m\u001b[0m\u001b[1;33m\u001b[0m\u001b[0m\n\u001b[0m\u001b[0;32m    244\u001b[0m           \u001b[0mboundaries\u001b[0m\u001b[1;33m[\u001b[0m\u001b[0mi\u001b[0m\u001b[1;33m]\u001b[0m \u001b[1;33m=\u001b[0m \u001b[0mb\u001b[0m\u001b[1;33m\u001b[0m\u001b[1;33m\u001b[0m\u001b[0m\n\u001b[0;32m    245\u001b[0m       \u001b[0mpred_fn_pairs\u001b[0m \u001b[1;33m=\u001b[0m \u001b[1;33m[\u001b[0m\u001b[1;33m]\u001b[0m\u001b[1;33m\u001b[0m\u001b[1;33m\u001b[0m\u001b[0m\n",
            "\u001b[1;32m~\\AppData\\Local\\conda\\conda\\envs\\NN\\lib\\site-packages\\tensorflow_core\\python\\util\\dispatch.py\u001b[0m in \u001b[0;36mwrapper\u001b[1;34m(*args, **kwargs)\u001b[0m\n\u001b[0;32m    178\u001b[0m     \u001b[1;34m\"\"\"Call target, and fall back on dispatchers if there is a TypeError.\"\"\"\u001b[0m\u001b[1;33m\u001b[0m\u001b[1;33m\u001b[0m\u001b[0m\n\u001b[0;32m    179\u001b[0m     \u001b[1;32mtry\u001b[0m\u001b[1;33m:\u001b[0m\u001b[1;33m\u001b[0m\u001b[1;33m\u001b[0m\u001b[0m\n\u001b[1;32m--> 180\u001b[1;33m       \u001b[1;32mreturn\u001b[0m \u001b[0mtarget\u001b[0m\u001b[1;33m(\u001b[0m\u001b[1;33m*\u001b[0m\u001b[0margs\u001b[0m\u001b[1;33m,\u001b[0m \u001b[1;33m**\u001b[0m\u001b[0mkwargs\u001b[0m\u001b[1;33m)\u001b[0m\u001b[1;33m\u001b[0m\u001b[1;33m\u001b[0m\u001b[0m\n\u001b[0m\u001b[0;32m    181\u001b[0m     \u001b[1;32mexcept\u001b[0m \u001b[1;33m(\u001b[0m\u001b[0mTypeError\u001b[0m\u001b[1;33m,\u001b[0m \u001b[0mValueError\u001b[0m\u001b[1;33m)\u001b[0m\u001b[1;33m:\u001b[0m\u001b[1;33m\u001b[0m\u001b[1;33m\u001b[0m\u001b[0m\n\u001b[0;32m    182\u001b[0m       \u001b[1;31m# Note: convert_to_eager_tensor currently raises a ValueError, not a\u001b[0m\u001b[1;33m\u001b[0m\u001b[1;33m\u001b[0m\u001b[1;33m\u001b[0m\u001b[0m\n",
            "\u001b[1;32m~\\AppData\\Local\\conda\\conda\\envs\\NN\\lib\\site-packages\\tensorflow_core\\python\\ops\\math_ops.py\u001b[0m in \u001b[0;36mcast\u001b[1;34m(x, dtype, name)\u001b[0m\n\u001b[0;32m    702\u001b[0m       \u001b[0mx\u001b[0m \u001b[1;33m=\u001b[0m \u001b[0mops\u001b[0m\u001b[1;33m.\u001b[0m\u001b[0mconvert_to_tensor\u001b[0m\u001b[1;33m(\u001b[0m\u001b[0mx\u001b[0m\u001b[1;33m,\u001b[0m \u001b[0mname\u001b[0m\u001b[1;33m=\u001b[0m\u001b[1;34m\"x\"\u001b[0m\u001b[1;33m)\u001b[0m\u001b[1;33m\u001b[0m\u001b[1;33m\u001b[0m\u001b[0m\n\u001b[0;32m    703\u001b[0m       \u001b[1;32mif\u001b[0m \u001b[0mx\u001b[0m\u001b[1;33m.\u001b[0m\u001b[0mdtype\u001b[0m\u001b[1;33m.\u001b[0m\u001b[0mbase_dtype\u001b[0m \u001b[1;33m!=\u001b[0m \u001b[0mbase_type\u001b[0m\u001b[1;33m:\u001b[0m\u001b[1;33m\u001b[0m\u001b[1;33m\u001b[0m\u001b[0m\n\u001b[1;32m--> 704\u001b[1;33m         \u001b[0mx\u001b[0m \u001b[1;33m=\u001b[0m \u001b[0mgen_math_ops\u001b[0m\u001b[1;33m.\u001b[0m\u001b[0mcast\u001b[0m\u001b[1;33m(\u001b[0m\u001b[0mx\u001b[0m\u001b[1;33m,\u001b[0m \u001b[0mbase_type\u001b[0m\u001b[1;33m,\u001b[0m \u001b[0mname\u001b[0m\u001b[1;33m=\u001b[0m\u001b[0mname\u001b[0m\u001b[1;33m)\u001b[0m\u001b[1;33m\u001b[0m\u001b[1;33m\u001b[0m\u001b[0m\n\u001b[0m\u001b[0;32m    705\u001b[0m     \u001b[1;32mif\u001b[0m \u001b[0mx\u001b[0m\u001b[1;33m.\u001b[0m\u001b[0mdtype\u001b[0m\u001b[1;33m.\u001b[0m\u001b[0mis_complex\u001b[0m \u001b[1;32mand\u001b[0m \u001b[0mbase_type\u001b[0m\u001b[1;33m.\u001b[0m\u001b[0mis_floating\u001b[0m\u001b[1;33m:\u001b[0m\u001b[1;33m\u001b[0m\u001b[1;33m\u001b[0m\u001b[0m\n\u001b[0;32m    706\u001b[0m       \u001b[0mlogging\u001b[0m\u001b[1;33m.\u001b[0m\u001b[0mwarn\u001b[0m\u001b[1;33m(\u001b[0m\u001b[1;34m\"Casting complex to real discards imaginary part.\"\u001b[0m\u001b[1;33m)\u001b[0m\u001b[1;33m\u001b[0m\u001b[1;33m\u001b[0m\u001b[0m\n",
            "\u001b[1;32m~\\AppData\\Local\\conda\\conda\\envs\\NN\\lib\\site-packages\\tensorflow_core\\python\\ops\\gen_math_ops.py\u001b[0m in \u001b[0;36mcast\u001b[1;34m(x, DstT, Truncate, name)\u001b[0m\n\u001b[0;32m   2197\u001b[0m         \u001b[0m_ctx\u001b[0m\u001b[1;33m.\u001b[0m\u001b[0m_context_handle\u001b[0m\u001b[1;33m,\u001b[0m \u001b[0m_ctx\u001b[0m\u001b[1;33m.\u001b[0m\u001b[0m_thread_local_data\u001b[0m\u001b[1;33m.\u001b[0m\u001b[0mdevice_name\u001b[0m\u001b[1;33m,\u001b[0m \u001b[1;34m\"Cast\"\u001b[0m\u001b[1;33m,\u001b[0m\u001b[1;33m\u001b[0m\u001b[1;33m\u001b[0m\u001b[0m\n\u001b[0;32m   2198\u001b[0m         \u001b[0mname\u001b[0m\u001b[1;33m,\u001b[0m \u001b[0m_ctx\u001b[0m\u001b[1;33m.\u001b[0m\u001b[0m_post_execution_callbacks\u001b[0m\u001b[1;33m,\u001b[0m \u001b[0mx\u001b[0m\u001b[1;33m,\u001b[0m \u001b[1;34m\"DstT\"\u001b[0m\u001b[1;33m,\u001b[0m \u001b[0mDstT\u001b[0m\u001b[1;33m,\u001b[0m \u001b[1;34m\"Truncate\"\u001b[0m\u001b[1;33m,\u001b[0m\u001b[1;33m\u001b[0m\u001b[1;33m\u001b[0m\u001b[0m\n\u001b[1;32m-> 2199\u001b[1;33m         Truncate)\n\u001b[0m\u001b[0;32m   2200\u001b[0m       \u001b[1;32mreturn\u001b[0m \u001b[0m_result\u001b[0m\u001b[1;33m\u001b[0m\u001b[1;33m\u001b[0m\u001b[0m\n\u001b[0;32m   2201\u001b[0m     \u001b[1;32mexcept\u001b[0m \u001b[0m_core\u001b[0m\u001b[1;33m.\u001b[0m\u001b[0m_FallbackException\u001b[0m\u001b[1;33m:\u001b[0m\u001b[1;33m\u001b[0m\u001b[1;33m\u001b[0m\u001b[0m\n",
            "\u001b[1;31mKeyboardInterrupt\u001b[0m: "
          ]
        }
      ]
    },
    {
      "cell_type": "code",
      "metadata": {
        "id": "-0AQevWdVEB0",
        "colab_type": "code",
        "outputId": "32cc0df0-b702-4d7d-9a11-535ac72af535",
        "colab": {}
      },
      "source": [
        "model.compile(loss=tf.keras.losses.CategoricalCrossentropy(from_logits=True),\n",
        "                  optimizer='adam',\n",
        "                  metrics=['accuracy'])\n",
        "scores = model.evaluate(x_test, y_test, verbose=0)\n",
        "print('Test loss:', scores[0])\n",
        "print('Test accuracy:', scores[1])"
      ],
      "execution_count": 0,
      "outputs": [
        {
          "output_type": "stream",
          "text": [
            "Test loss: 0.74792572722435\n",
            "Test accuracy: 0.7716\n"
          ],
          "name": "stdout"
        }
      ]
    }
  ]
}